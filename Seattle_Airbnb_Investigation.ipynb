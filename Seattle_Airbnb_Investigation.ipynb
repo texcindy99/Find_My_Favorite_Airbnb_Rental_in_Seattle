{
 "cells": [
  {
   "cell_type": "markdown",
   "metadata": {},
   "source": [
    "# Your Best Choice of Airbnb in Seattle\n",
    "### I am planning a trip to Seattle for 3 days and want to book a nice place from Airbnb with a reasonable price. Here is how I make my choice using Airbnb data retrieved online *(http://insideairbnb.com/get-the-data.html)*. "
   ]
  },
  {
   "cell_type": "code",
   "execution_count": 1,
   "metadata": {},
   "outputs": [],
   "source": [
    "import numpy as np\n",
    "import pandas as pd\n",
    "import matplotlib.pyplot as plt\n",
    "from sklearn.linear_model import Ridge\n",
    "from sklearn.model_selection import train_test_split\n",
    "from sklearn.metrics import r2_score, mean_squared_error\n",
    "import seaborn as sns\n",
    "#!conda install -c conda-forge folium=0.5.0 --yes # uncomment this line if you can't import folium\n",
    "import folium # map rendering library\n",
    "%matplotlib inline"
   ]
  },
  {
   "cell_type": "markdown",
   "metadata": {},
   "source": [
    "### Load data "
   ]
  },
  {
   "cell_type": "code",
   "execution_count": 2,
   "metadata": {},
   "outputs": [
    {
     "name": "stdout",
     "output_type": "stream",
     "text": [
      "--2020-06-07 19:00:38--  http://data.insideairbnb.com/united-states/wa/seattle/2020-04-23/visualisations/listings.csv\n",
      "Resolving data.insideairbnb.com (data.insideairbnb.com)... 52.216.88.50\n",
      "Connecting to data.insideairbnb.com (data.insideairbnb.com)|52.216.88.50|:80... connected.\n",
      "HTTP request sent, awaiting response... 200 OK\n",
      "Length: 1127379 (1.1M) [application/csv]\n",
      "Saving to: ‘listings.csv’\n",
      "\n",
      "listings.csv        100%[===================>]   1.07M  5.14MB/s    in 0.2s    \n",
      "\n",
      "2020-06-07 19:00:39 (5.14 MB/s) - ‘listings.csv’ saved [1127379/1127379]\n",
      "\n",
      "--2020-06-07 19:00:39--  http://data.insideairbnb.com/united-states/wa/seattle/2020-04-23/data/reviews.csv.gz\n",
      "Resolving data.insideairbnb.com (data.insideairbnb.com)... 52.216.88.50\n",
      "Connecting to data.insideairbnb.com (data.insideairbnb.com)|52.216.88.50|:80... connected.\n",
      "HTTP request sent, awaiting response... 200 OK\n",
      "Length: 43997555 (42M) [application/x-gzip]\n",
      "Saving to: ‘reviews.csv.gz’\n",
      "\n",
      "reviews.csv.gz      100%[===================>]  41.96M  30.8MB/s    in 1.4s    \n",
      "\n",
      "2020-06-07 19:00:41 (30.8 MB/s) - ‘reviews.csv.gz’ saved [43997555/43997555]\n",
      "\n"
     ]
    }
   ],
   "source": [
    "# downLoad online data file\n",
    "!wget -O listings.csv http://data.insideairbnb.com/united-states/wa/seattle/2020-04-23/visualisations/listings.csv\n",
    "!wget -O reviews.csv.gz http://data.insideairbnb.com/united-states/wa/seattle/2020-04-23/data/reviews.csv.gz    "
   ]
  },
  {
   "cell_type": "code",
   "execution_count": 3,
   "metadata": {},
   "outputs": [
    {
     "name": "stdout",
     "output_type": "stream",
     "text": [
      "Shape of data set \"list\" is:  (7237, 16)\n"
     ]
    },
    {
     "data": {
      "text/html": [
       "<div>\n",
       "<style scoped>\n",
       "    .dataframe tbody tr th:only-of-type {\n",
       "        vertical-align: middle;\n",
       "    }\n",
       "\n",
       "    .dataframe tbody tr th {\n",
       "        vertical-align: top;\n",
       "    }\n",
       "\n",
       "    .dataframe thead th {\n",
       "        text-align: right;\n",
       "    }\n",
       "</style>\n",
       "<table border=\"1\" class=\"dataframe\">\n",
       "  <thead>\n",
       "    <tr style=\"text-align: right;\">\n",
       "      <th></th>\n",
       "      <th>id</th>\n",
       "      <th>name</th>\n",
       "      <th>host_id</th>\n",
       "      <th>host_name</th>\n",
       "      <th>neighbourhood_group</th>\n",
       "      <th>neighbourhood</th>\n",
       "      <th>latitude</th>\n",
       "      <th>longitude</th>\n",
       "      <th>room_type</th>\n",
       "      <th>price</th>\n",
       "      <th>minimum_nights</th>\n",
       "      <th>number_of_reviews</th>\n",
       "      <th>last_review</th>\n",
       "      <th>reviews_per_month</th>\n",
       "      <th>calculated_host_listings_count</th>\n",
       "      <th>availability_365</th>\n",
       "    </tr>\n",
       "  </thead>\n",
       "  <tbody>\n",
       "    <tr>\n",
       "      <th>0</th>\n",
       "      <td>2318</td>\n",
       "      <td>Casa Madrona - Urban Oasis 1 block from the park!</td>\n",
       "      <td>2536</td>\n",
       "      <td>Megan</td>\n",
       "      <td>Central Area</td>\n",
       "      <td>Madrona</td>\n",
       "      <td>47.61082</td>\n",
       "      <td>-122.29082</td>\n",
       "      <td>Entire home/apt</td>\n",
       "      <td>296</td>\n",
       "      <td>7</td>\n",
       "      <td>32</td>\n",
       "      <td>2020-02-01</td>\n",
       "      <td>0.23</td>\n",
       "      <td>2</td>\n",
       "      <td>90</td>\n",
       "    </tr>\n",
       "    <tr>\n",
       "      <th>1</th>\n",
       "      <td>6606</td>\n",
       "      <td>Fab, private seattle urban cottage!</td>\n",
       "      <td>14942</td>\n",
       "      <td>Joyce</td>\n",
       "      <td>Other neighborhoods</td>\n",
       "      <td>Wallingford</td>\n",
       "      <td>47.65411</td>\n",
       "      <td>-122.33761</td>\n",
       "      <td>Entire home/apt</td>\n",
       "      <td>90</td>\n",
       "      <td>30</td>\n",
       "      <td>150</td>\n",
       "      <td>2019-09-28</td>\n",
       "      <td>1.14</td>\n",
       "      <td>3</td>\n",
       "      <td>82</td>\n",
       "    </tr>\n",
       "    <tr>\n",
       "      <th>2</th>\n",
       "      <td>9419</td>\n",
       "      <td>Glorious sun room w/ memory foambed</td>\n",
       "      <td>30559</td>\n",
       "      <td>Angielena</td>\n",
       "      <td>Other neighborhoods</td>\n",
       "      <td>Georgetown</td>\n",
       "      <td>47.55017</td>\n",
       "      <td>-122.31937</td>\n",
       "      <td>Private room</td>\n",
       "      <td>62</td>\n",
       "      <td>2</td>\n",
       "      <td>148</td>\n",
       "      <td>2019-12-27</td>\n",
       "      <td>1.25</td>\n",
       "      <td>8</td>\n",
       "      <td>364</td>\n",
       "    </tr>\n",
       "    <tr>\n",
       "      <th>3</th>\n",
       "      <td>9531</td>\n",
       "      <td>The Adorable Sweet Orange Craftsman</td>\n",
       "      <td>31481</td>\n",
       "      <td>Cassie</td>\n",
       "      <td>West Seattle</td>\n",
       "      <td>Fairmount Park</td>\n",
       "      <td>47.55539</td>\n",
       "      <td>-122.38474</td>\n",
       "      <td>Entire home/apt</td>\n",
       "      <td>165</td>\n",
       "      <td>3</td>\n",
       "      <td>40</td>\n",
       "      <td>2019-12-30</td>\n",
       "      <td>0.40</td>\n",
       "      <td>2</td>\n",
       "      <td>365</td>\n",
       "    </tr>\n",
       "    <tr>\n",
       "      <th>4</th>\n",
       "      <td>9534</td>\n",
       "      <td>The Coolest Tangerine Dream MIL!</td>\n",
       "      <td>31481</td>\n",
       "      <td>Cassie</td>\n",
       "      <td>West Seattle</td>\n",
       "      <td>Fairmount Park</td>\n",
       "      <td>47.55624</td>\n",
       "      <td>-122.38598</td>\n",
       "      <td>Entire home/apt</td>\n",
       "      <td>125</td>\n",
       "      <td>2</td>\n",
       "      <td>49</td>\n",
       "      <td>2020-02-29</td>\n",
       "      <td>0.49</td>\n",
       "      <td>2</td>\n",
       "      <td>350</td>\n",
       "    </tr>\n",
       "  </tbody>\n",
       "</table>\n",
       "</div>"
      ],
      "text/plain": [
       "     id                                               name  host_id  \\\n",
       "0  2318  Casa Madrona - Urban Oasis 1 block from the park!     2536   \n",
       "1  6606                Fab, private seattle urban cottage!    14942   \n",
       "2  9419                Glorious sun room w/ memory foambed    30559   \n",
       "3  9531                The Adorable Sweet Orange Craftsman    31481   \n",
       "4  9534                   The Coolest Tangerine Dream MIL!    31481   \n",
       "\n",
       "   host_name  neighbourhood_group   neighbourhood  latitude  longitude  \\\n",
       "0      Megan         Central Area         Madrona  47.61082 -122.29082   \n",
       "1      Joyce  Other neighborhoods     Wallingford  47.65411 -122.33761   \n",
       "2  Angielena  Other neighborhoods      Georgetown  47.55017 -122.31937   \n",
       "3     Cassie         West Seattle  Fairmount Park  47.55539 -122.38474   \n",
       "4     Cassie         West Seattle  Fairmount Park  47.55624 -122.38598   \n",
       "\n",
       "         room_type  price  minimum_nights  number_of_reviews last_review  \\\n",
       "0  Entire home/apt    296               7                 32  2020-02-01   \n",
       "1  Entire home/apt     90              30                150  2019-09-28   \n",
       "2     Private room     62               2                148  2019-12-27   \n",
       "3  Entire home/apt    165               3                 40  2019-12-30   \n",
       "4  Entire home/apt    125               2                 49  2020-02-29   \n",
       "\n",
       "   reviews_per_month  calculated_host_listings_count  availability_365  \n",
       "0               0.23                               2                90  \n",
       "1               1.14                               3                82  \n",
       "2               1.25                               8               364  \n",
       "3               0.40                               2               365  \n",
       "4               0.49                               2               350  "
      ]
     },
     "execution_count": 3,
     "metadata": {},
     "output_type": "execute_result"
    }
   ],
   "source": [
    "# Load listing data into dataframe\n",
    "list = pd.read_csv('./listings.csv')\n",
    "print('Shape of data set \"list\" is: ', list.shape)\n",
    "list.head()"
   ]
  },
  {
   "cell_type": "markdown",
   "metadata": {},
   "source": [
    "#### Clean \"listings\" data"
   ]
  },
  {
   "cell_type": "code",
   "execution_count": 4,
   "metadata": {},
   "outputs": [
    {
     "data": {
      "text/plain": [
       "id                                  int64\n",
       "name                               object\n",
       "host_id                             int64\n",
       "host_name                          object\n",
       "neighbourhood_group                object\n",
       "neighbourhood                      object\n",
       "latitude                          float64\n",
       "longitude                         float64\n",
       "room_type                          object\n",
       "price                               int64\n",
       "minimum_nights                      int64\n",
       "number_of_reviews                   int64\n",
       "last_review                        object\n",
       "reviews_per_month                 float64\n",
       "calculated_host_listings_count      int64\n",
       "availability_365                    int64\n",
       "dtype: object"
      ]
     },
     "execution_count": 4,
     "metadata": {},
     "output_type": "execute_result"
    }
   ],
   "source": [
    "# Check list columns and data types\n",
    "list.dtypes"
   ]
  },
  {
   "cell_type": "code",
   "execution_count": 5,
   "metadata": {},
   "outputs": [
    {
     "data": {
      "text/plain": [
       "True"
      ]
     },
     "execution_count": 5,
     "metadata": {},
     "output_type": "execute_result"
    }
   ],
   "source": [
    "# Check if column \"id\" is unique with no repeatation\n",
    "list.shape[0]==list['id'].unique().shape[0]"
   ]
  },
  {
   "cell_type": "code",
   "execution_count": 6,
   "metadata": {},
   "outputs": [
    {
     "data": {
      "text/plain": [
       "id                                0.00000\n",
       "name                              0.00000\n",
       "host_id                           0.00000\n",
       "host_name                         0.00000\n",
       "neighbourhood_group               0.00000\n",
       "neighbourhood                     0.00000\n",
       "latitude                          0.00000\n",
       "longitude                         0.00000\n",
       "room_type                         0.00000\n",
       "price                             0.00000\n",
       "minimum_nights                    0.00000\n",
       "number_of_reviews                 0.00000\n",
       "last_review                       0.12823\n",
       "reviews_per_month                 0.12823\n",
       "calculated_host_listings_count    0.00000\n",
       "availability_365                  0.00000\n",
       "dtype: float64"
      ]
     },
     "execution_count": 6,
     "metadata": {},
     "output_type": "execute_result"
    }
   ],
   "source": [
    "# Check the pertentage of NaN numbers in the data set\n",
    "np.sum(list.isna())/list.shape[0]"
   ]
  },
  {
   "cell_type": "markdown",
   "metadata": {},
   "source": [
    "##### Only 13% of rental listing has no data in \"last_review\" and \"reviews_per_month\"."
   ]
  },
  {
   "cell_type": "code",
   "execution_count": 7,
   "metadata": {},
   "outputs": [
    {
     "data": {
      "text/html": [
       "<div>\n",
       "<style scoped>\n",
       "    .dataframe tbody tr th:only-of-type {\n",
       "        vertical-align: middle;\n",
       "    }\n",
       "\n",
       "    .dataframe tbody tr th {\n",
       "        vertical-align: top;\n",
       "    }\n",
       "\n",
       "    .dataframe thead th {\n",
       "        text-align: right;\n",
       "    }\n",
       "</style>\n",
       "<table border=\"1\" class=\"dataframe\">\n",
       "  <thead>\n",
       "    <tr style=\"text-align: right;\">\n",
       "      <th></th>\n",
       "      <th>id</th>\n",
       "      <th>host_id</th>\n",
       "      <th>latitude</th>\n",
       "      <th>longitude</th>\n",
       "      <th>price</th>\n",
       "      <th>minimum_nights</th>\n",
       "      <th>number_of_reviews</th>\n",
       "      <th>reviews_per_month</th>\n",
       "      <th>calculated_host_listings_count</th>\n",
       "      <th>availability_365</th>\n",
       "    </tr>\n",
       "  </thead>\n",
       "  <tbody>\n",
       "    <tr>\n",
       "      <th>count</th>\n",
       "      <td>7.237000e+03</td>\n",
       "      <td>7.237000e+03</td>\n",
       "      <td>7237.000000</td>\n",
       "      <td>7237.000000</td>\n",
       "      <td>7237.000000</td>\n",
       "      <td>7237.000000</td>\n",
       "      <td>7237.000000</td>\n",
       "      <td>6309.000000</td>\n",
       "      <td>7237.000000</td>\n",
       "      <td>7237.000000</td>\n",
       "    </tr>\n",
       "    <tr>\n",
       "      <th>mean</th>\n",
       "      <td>2.271403e+07</td>\n",
       "      <td>6.633280e+07</td>\n",
       "      <td>47.625198</td>\n",
       "      <td>-122.333424</td>\n",
       "      <td>159.286859</td>\n",
       "      <td>12.926351</td>\n",
       "      <td>55.016858</td>\n",
       "      <td>2.006721</td>\n",
       "      <td>31.239878</td>\n",
       "      <td>148.942241</td>\n",
       "    </tr>\n",
       "    <tr>\n",
       "      <th>std</th>\n",
       "      <td>1.226501e+07</td>\n",
       "      <td>7.997071e+07</td>\n",
       "      <td>0.046540</td>\n",
       "      <td>0.032263</td>\n",
       "      <td>276.241988</td>\n",
       "      <td>22.390226</td>\n",
       "      <td>81.536585</td>\n",
       "      <td>1.971421</td>\n",
       "      <td>76.386140</td>\n",
       "      <td>132.518608</td>\n",
       "    </tr>\n",
       "    <tr>\n",
       "      <th>min</th>\n",
       "      <td>2.318000e+03</td>\n",
       "      <td>2.536000e+03</td>\n",
       "      <td>47.495870</td>\n",
       "      <td>-122.419250</td>\n",
       "      <td>0.000000</td>\n",
       "      <td>1.000000</td>\n",
       "      <td>0.000000</td>\n",
       "      <td>0.010000</td>\n",
       "      <td>1.000000</td>\n",
       "      <td>0.000000</td>\n",
       "    </tr>\n",
       "    <tr>\n",
       "      <th>25%</th>\n",
       "      <td>1.308409e+07</td>\n",
       "      <td>8.534462e+06</td>\n",
       "      <td>47.603460</td>\n",
       "      <td>-122.354350</td>\n",
       "      <td>79.000000</td>\n",
       "      <td>2.000000</td>\n",
       "      <td>3.000000</td>\n",
       "      <td>0.430000</td>\n",
       "      <td>1.000000</td>\n",
       "      <td>6.000000</td>\n",
       "    </tr>\n",
       "    <tr>\n",
       "      <th>50%</th>\n",
       "      <td>2.221067e+07</td>\n",
       "      <td>3.242663e+07</td>\n",
       "      <td>47.620820</td>\n",
       "      <td>-122.332350</td>\n",
       "      <td>115.000000</td>\n",
       "      <td>2.000000</td>\n",
       "      <td>20.000000</td>\n",
       "      <td>1.360000</td>\n",
       "      <td>2.000000</td>\n",
       "      <td>122.000000</td>\n",
       "    </tr>\n",
       "    <tr>\n",
       "      <th>75%</th>\n",
       "      <td>3.406395e+07</td>\n",
       "      <td>8.903879e+07</td>\n",
       "      <td>47.660740</td>\n",
       "      <td>-122.311190</td>\n",
       "      <td>180.000000</td>\n",
       "      <td>30.000000</td>\n",
       "      <td>75.000000</td>\n",
       "      <td>3.060000</td>\n",
       "      <td>8.000000</td>\n",
       "      <td>277.000000</td>\n",
       "    </tr>\n",
       "    <tr>\n",
       "      <th>max</th>\n",
       "      <td>4.325888e+07</td>\n",
       "      <td>3.421319e+08</td>\n",
       "      <td>47.734030</td>\n",
       "      <td>-122.240950</td>\n",
       "      <td>10000.000000</td>\n",
       "      <td>1000.000000</td>\n",
       "      <td>836.000000</td>\n",
       "      <td>18.410000</td>\n",
       "      <td>312.000000</td>\n",
       "      <td>365.000000</td>\n",
       "    </tr>\n",
       "  </tbody>\n",
       "</table>\n",
       "</div>"
      ],
      "text/plain": [
       "                 id       host_id     latitude    longitude         price  \\\n",
       "count  7.237000e+03  7.237000e+03  7237.000000  7237.000000   7237.000000   \n",
       "mean   2.271403e+07  6.633280e+07    47.625198  -122.333424    159.286859   \n",
       "std    1.226501e+07  7.997071e+07     0.046540     0.032263    276.241988   \n",
       "min    2.318000e+03  2.536000e+03    47.495870  -122.419250      0.000000   \n",
       "25%    1.308409e+07  8.534462e+06    47.603460  -122.354350     79.000000   \n",
       "50%    2.221067e+07  3.242663e+07    47.620820  -122.332350    115.000000   \n",
       "75%    3.406395e+07  8.903879e+07    47.660740  -122.311190    180.000000   \n",
       "max    4.325888e+07  3.421319e+08    47.734030  -122.240950  10000.000000   \n",
       "\n",
       "       minimum_nights  number_of_reviews  reviews_per_month  \\\n",
       "count     7237.000000        7237.000000        6309.000000   \n",
       "mean        12.926351          55.016858           2.006721   \n",
       "std         22.390226          81.536585           1.971421   \n",
       "min          1.000000           0.000000           0.010000   \n",
       "25%          2.000000           3.000000           0.430000   \n",
       "50%          2.000000          20.000000           1.360000   \n",
       "75%         30.000000          75.000000           3.060000   \n",
       "max       1000.000000         836.000000          18.410000   \n",
       "\n",
       "       calculated_host_listings_count  availability_365  \n",
       "count                     7237.000000       7237.000000  \n",
       "mean                        31.239878        148.942241  \n",
       "std                         76.386140        132.518608  \n",
       "min                          1.000000          0.000000  \n",
       "25%                          1.000000          6.000000  \n",
       "50%                          2.000000        122.000000  \n",
       "75%                          8.000000        277.000000  \n",
       "max                        312.000000        365.000000  "
      ]
     },
     "execution_count": 7,
     "metadata": {},
     "output_type": "execute_result"
    }
   ],
   "source": [
    "# Check the descriptive statistics of the dataset\n",
    "col_num=list.select_dtypes(include='number').columns\n",
    "list[col_num].describe()"
   ]
  },
  {
   "cell_type": "code",
   "execution_count": 8,
   "metadata": {},
   "outputs": [
    {
     "data": {
      "image/png": "[encoded data removed]",
      "text/plain": [
       "<Figure size 432x288 with 1 Axes>"
      ]
     },
     "metadata": {
      "needs_background": "light"
     },
     "output_type": "display_data"
    }
   ],
   "source": [
    "# Check the statistics of price\n",
    "list['price'].plot(kind='box')\n",
    "plt.title(\"Price range of Airbnb rentals in Seattle area\");"
   ]
  },
  {
   "cell_type": "markdown",
   "metadata": {},
   "source": [
    "##### Rental price does have some outliers which are larger than 500 dollars although the median price is just 115 dollars."
   ]
  },
  {
   "cell_type": "code",
   "execution_count": 9,
   "metadata": {},
   "outputs": [
    {
     "data": {
      "text/plain": [
       "0.024872184606881304"
      ]
     },
     "execution_count": 9,
     "metadata": {},
     "output_type": "execute_result"
    }
   ],
   "source": [
    "# Check the pertentage of outliers\n",
    "sum(list['price']>500)/list.shape[0]"
   ]
  },
  {
   "cell_type": "markdown",
   "metadata": {},
   "source": [
    "##### Only 2.5% of listings have price higher than 500 dollars. Let's exclude those data and plot again. "
   ]
  },
  {
   "cell_type": "code",
   "execution_count": 10,
   "metadata": {},
   "outputs": [
    {
     "data": {
      "image/png": "[encoded data removed]",
      "text/plain": [
       "<Figure size 432x288 with 1 Axes>"
      ]
     },
     "metadata": {
      "needs_background": "light"
     },
     "output_type": "display_data"
    }
   ],
   "source": [
    "list.loc[list['price']<500,'price'].plot(kind='box')\n",
    "plt.title(\"Price range of Airbnb rentals in Seattle area\");"
   ]
  },
  {
   "cell_type": "markdown",
   "metadata": {},
   "source": [
    "I will drop those data with NaN in reviews since I only want to investigate with rental listings with reviews. I will also drop data with price higher than 500 dollars since I am not interested in those expensive rentals and these outliers only consist a very small portion of data. "
   ]
  },
  {
   "cell_type": "code",
   "execution_count": 11,
   "metadata": {},
   "outputs": [],
   "source": [
    "list.dropna(how='any',inplace=True)\n",
    "list.drop(list[list['price']>500].index,inplace=True)"
   ]
  },
  {
   "cell_type": "code",
   "execution_count": 12,
   "metadata": {},
   "outputs": [
    {
     "name": "stdout",
     "output_type": "stream",
     "text": [
      "Shape of cleaned data set \"list\" is:  (6170, 16)\n"
     ]
    }
   ],
   "source": [
    "print('Shape of cleaned data set \"list\" is: ', list.shape)"
   ]
  },
  {
   "cell_type": "markdown",
   "metadata": {},
   "source": [
    "Let's convert \"room_type\" to number for better understanding of the data"
   ]
  },
  {
   "cell_type": "code",
   "execution_count": 13,
   "metadata": {},
   "outputs": [
    {
     "data": {
      "text/plain": [
       "array(['Entire home/apt', 'Private room', 'Shared room', 'Hotel room'],\n",
       "      dtype=object)"
      ]
     },
     "execution_count": 13,
     "metadata": {},
     "output_type": "execute_result"
    }
   ],
   "source": [
    "list['room_type'].unique()"
   ]
  },
  {
   "cell_type": "code",
   "execution_count": 14,
   "metadata": {},
   "outputs": [
    {
     "data": {
      "text/html": [
       "<div>\n",
       "<style scoped>\n",
       "    .dataframe tbody tr th:only-of-type {\n",
       "        vertical-align: middle;\n",
       "    }\n",
       "\n",
       "    .dataframe tbody tr th {\n",
       "        vertical-align: top;\n",
       "    }\n",
       "\n",
       "    .dataframe thead th {\n",
       "        text-align: right;\n",
       "    }\n",
       "</style>\n",
       "<table border=\"1\" class=\"dataframe\">\n",
       "  <thead>\n",
       "    <tr style=\"text-align: right;\">\n",
       "      <th></th>\n",
       "      <th>id</th>\n",
       "      <th>name</th>\n",
       "      <th>host_id</th>\n",
       "      <th>host_name</th>\n",
       "      <th>neighbourhood_group</th>\n",
       "      <th>neighbourhood</th>\n",
       "      <th>latitude</th>\n",
       "      <th>longitude</th>\n",
       "      <th>room_type</th>\n",
       "      <th>price</th>\n",
       "      <th>minimum_nights</th>\n",
       "      <th>number_of_reviews</th>\n",
       "      <th>last_review</th>\n",
       "      <th>reviews_per_month</th>\n",
       "      <th>calculated_host_listings_count</th>\n",
       "      <th>availability_365</th>\n",
       "      <th>room_type_cat</th>\n",
       "    </tr>\n",
       "  </thead>\n",
       "  <tbody>\n",
       "    <tr>\n",
       "      <th>0</th>\n",
       "      <td>2318</td>\n",
       "      <td>Casa Madrona - Urban Oasis 1 block from the park!</td>\n",
       "      <td>2536</td>\n",
       "      <td>Megan</td>\n",
       "      <td>Central Area</td>\n",
       "      <td>Madrona</td>\n",
       "      <td>47.61082</td>\n",
       "      <td>-122.29082</td>\n",
       "      <td>Entire home/apt</td>\n",
       "      <td>296</td>\n",
       "      <td>7</td>\n",
       "      <td>32</td>\n",
       "      <td>2020-02-01</td>\n",
       "      <td>0.23</td>\n",
       "      <td>2</td>\n",
       "      <td>90</td>\n",
       "      <td>3</td>\n",
       "    </tr>\n",
       "    <tr>\n",
       "      <th>1</th>\n",
       "      <td>6606</td>\n",
       "      <td>Fab, private seattle urban cottage!</td>\n",
       "      <td>14942</td>\n",
       "      <td>Joyce</td>\n",
       "      <td>Other neighborhoods</td>\n",
       "      <td>Wallingford</td>\n",
       "      <td>47.65411</td>\n",
       "      <td>-122.33761</td>\n",
       "      <td>Entire home/apt</td>\n",
       "      <td>90</td>\n",
       "      <td>30</td>\n",
       "      <td>150</td>\n",
       "      <td>2019-09-28</td>\n",
       "      <td>1.14</td>\n",
       "      <td>3</td>\n",
       "      <td>82</td>\n",
       "      <td>3</td>\n",
       "    </tr>\n",
       "    <tr>\n",
       "      <th>2</th>\n",
       "      <td>9419</td>\n",
       "      <td>Glorious sun room w/ memory foambed</td>\n",
       "      <td>30559</td>\n",
       "      <td>Angielena</td>\n",
       "      <td>Other neighborhoods</td>\n",
       "      <td>Georgetown</td>\n",
       "      <td>47.55017</td>\n",
       "      <td>-122.31937</td>\n",
       "      <td>Private room</td>\n",
       "      <td>62</td>\n",
       "      <td>2</td>\n",
       "      <td>148</td>\n",
       "      <td>2019-12-27</td>\n",
       "      <td>1.25</td>\n",
       "      <td>8</td>\n",
       "      <td>364</td>\n",
       "      <td>1</td>\n",
       "    </tr>\n",
       "  </tbody>\n",
       "</table>\n",
       "</div>"
      ],
      "text/plain": [
       "     id                                               name  host_id  \\\n",
       "0  2318  Casa Madrona - Urban Oasis 1 block from the park!     2536   \n",
       "1  6606                Fab, private seattle urban cottage!    14942   \n",
       "2  9419                Glorious sun room w/ memory foambed    30559   \n",
       "\n",
       "   host_name  neighbourhood_group neighbourhood  latitude  longitude  \\\n",
       "0      Megan         Central Area       Madrona  47.61082 -122.29082   \n",
       "1      Joyce  Other neighborhoods   Wallingford  47.65411 -122.33761   \n",
       "2  Angielena  Other neighborhoods    Georgetown  47.55017 -122.31937   \n",
       "\n",
       "         room_type  price  minimum_nights  number_of_reviews last_review  \\\n",
       "0  Entire home/apt    296               7                 32  2020-02-01   \n",
       "1  Entire home/apt     90              30                150  2019-09-28   \n",
       "2     Private room     62               2                148  2019-12-27   \n",
       "\n",
       "   reviews_per_month  calculated_host_listings_count  availability_365  \\\n",
       "0               0.23                               2                90   \n",
       "1               1.14                               3                82   \n",
       "2               1.25                               8               364   \n",
       "\n",
       "   room_type_cat  \n",
       "0              3  \n",
       "1              3  \n",
       "2              1  "
      ]
     },
     "execution_count": 14,
     "metadata": {},
     "output_type": "execute_result"
    }
   ],
   "source": [
    "# Encode \"room_type\" to number as the mapping in \"cats\"\n",
    "ordered_room_type = ['Shared room', 'Private room', 'Hotel room', 'Entire home/apt']\n",
    "cat_dtype = pd.api.types.CategoricalDtype(categories=ordered_room_type, ordered=True)\n",
    "list['room_type_cat'] = list['room_type'].astype(cat_dtype).cat.codes\n",
    "list.head(3)"
   ]
  },
  {
   "cell_type": "markdown",
   "metadata": {},
   "source": [
    "### Q1: Is there an area in Seattle where there are more choices of rentals with relatively lower price? \n",
    "##### Now let's look at the number of listings and mean price in each neighbourhood"
   ]
  },
  {
   "cell_type": "code",
   "execution_count": 15,
   "metadata": {},
   "outputs": [
    {
     "data": {
      "image/png": "[encoded data removed]",
      "text/plain": [
       "<Figure size 432x288 with 1 Axes>"
      ]
     },
     "metadata": {
      "needs_background": "light"
     },
     "output_type": "display_data"
    }
   ],
   "source": [
    "# get the number of listing in each neighbourhood\n",
    "num_list = list[['id','neighbourhood_group']].groupby('neighbourhood_group').count() \n",
    "num_list['id'].plot(kind=\"bar\");\n",
    "plt.title(\"Number of Airbnb rentals in Seattle area\");"
   ]
  },
  {
   "cell_type": "code",
   "execution_count": 16,
   "metadata": {},
   "outputs": [
    {
     "data": {
      "image/png": "[encoded data removed]",
      "text/plain": [
       "<Figure size 432x288 with 1 Axes>"
      ]
     },
     "metadata": {
      "needs_background": "light"
     },
     "output_type": "display_data"
    }
   ],
   "source": [
    "# get the number of listing in each neighbourhood\n",
    "price_mean = list[['price','neighbourhood_group']].groupby('neighbourhood_group').mean()\n",
    "price_mean['price'].plot(kind=\"bar\");\n",
    "plt.title(\"Mean price of Airbnb rentals in Seattle area\");"
   ]
  },
  {
   "cell_type": "markdown",
   "metadata": {},
   "source": [
    "##### The most expensive Airbnb rentals are downtown area. Downtown area also has the second most number of rentals, only less that \"other neighbourhoods\" which actually is the collection of unsorted data.\n",
    "##### Let's plot the above two figures togeter with sorted price from high to low."
   ]
  },
  {
   "cell_type": "code",
   "execution_count": 17,
   "metadata": {},
   "outputs": [
    {
     "data": {
      "image/png": "[encoded data removed]",
      "text/plain": [
       "<Figure size 432x288 with 2 Axes>"
      ]
     },
     "metadata": {
      "needs_background": "light"
     },
     "output_type": "display_data"
    }
   ],
   "source": [
    "# Sort data by number of lisitng in each area and plot together with mean_price\n",
    "df_area=num_list\n",
    "df_area['price_mean']=price_mean['price']\n",
    "df_area.rename(columns={\"id\": \"counts\"},inplace=True)\n",
    "df_area.sort_values(by='price_mean',ascending=False,inplace=True)\n",
    "df_area[['counts','price_mean']].plot(kind=\"bar\",secondary_y= 'counts',width=0.6);\n",
    "plt.title(\"Airbnb rentals in Seattle area\");\n",
    "plt.legend(['No. of rentlas','mean price']);"
   ]
  },
  {
   "cell_type": "markdown",
   "metadata": {},
   "source": [
    "#### Capitol Hill seems to be a good area with more rentals and mean price less than $150."
   ]
  },
  {
   "cell_type": "markdown",
   "metadata": {},
   "source": [
    "### Q2: Can I predict the price of Seattle Airbnb rentals?"
   ]
  },
  {
   "cell_type": "code",
   "execution_count": 18,
   "metadata": {},
   "outputs": [
    {
     "data": {
      "image/png": "[encoded data removed]",
      "text/plain": [
       "<Figure size 432x288 with 9 Axes>"
      ]
     },
     "metadata": {
      "needs_background": "light"
     },
     "output_type": "display_data"
    }
   ],
   "source": [
    "# Let's look at some statistical plots for df\n",
    "features=['price','longitude','latitude','minimum_nights','number_of_reviews','availability_365','reviews_per_month','room_type_cat']\n",
    "ax=list[features].hist(bins=10);\n",
    "ax[1,0].set_xlim((0,100));\n",
    "#ax[2,0].set_xlim((0,3));\n",
    "plt.tight_layout()"
   ]
  },
  {
   "cell_type": "code",
   "execution_count": 19,
   "metadata": {},
   "outputs": [
    {
     "data": {
      "text/plain": [
       "(8.0, 0.0)"
      ]
     },
     "execution_count": 19,
     "metadata": {},
     "output_type": "execute_result"
    },
    {
     "data": {
      "image/png": "[encoded data removed]",
      "text/plain": [
       "<Figure size 432x288 with 2 Axes>"
      ]
     },
     "metadata": {
      "needs_background": "light"
     },
     "output_type": "display_data"
    }
   ],
   "source": [
    "list_numeric=list[features]\n",
    "ax=sns.heatmap(list_numeric.corr(), annot=True, fmt=\".2f\");\n",
    "bottom, top = ax.get_ylim()\n",
    "ax.set_ylim(bottom + 0.5, top - 0.5)"
   ]
  },
  {
   "cell_type": "markdown",
   "metadata": {},
   "source": [
    "##### \"review_per_month\" and \"number of reviews\" are stongly correlated. Price seems only related to minimum_nights, but not strongly linear."
   ]
  },
  {
   "cell_type": "markdown",
   "metadata": {},
   "source": [
    "##### Let's see if we can predict price using other numerical features in the list using ridge regression model. I will drop \"number of reviews\" since it correlates with \"number of reviews\""
   ]
  },
  {
   "cell_type": "markdown",
   "metadata": {},
   "source": [
    "#### Regression model"
   ]
  },
  {
   "cell_type": "markdown",
   "metadata": {},
   "source": [
    "##### Let me use the ridge regression model since I don't see any linear relationship between price and the above features."
   ]
  },
  {
   "cell_type": "code",
   "execution_count": 20,
   "metadata": {},
   "outputs": [],
   "source": [
    "# Define ridge regression model\n",
    "def fit_ridge_mod(df, response_col, cat_cols, test_size=.3, rand_state=42):\n",
    "    '''\n",
    "    INPUT:\n",
    "    df - a dataframe holding all the variables of interest\n",
    "    response_col - a string holding the name of the column being predicted\n",
    "    cat_cols - list of strings that are associated with names of the columns used for predicting\n",
    "    test_size - a float between [0,1] about what proportion of data should be in the test dataset\n",
    "    rand_state - an int that is provided as the random state for splitting the data into training and test \n",
    "    \n",
    "    OUTPUT:\n",
    "    test_score_out - float - r2 score on the test data\n",
    "    train_score_out - float - r2 score on the test data\n",
    "    rm_model_out - model object from sklearn\n",
    "    X_train_out, X_test_out, y_train_out, y_test_out - output from sklearn train test split used for optimal model\n",
    "    y_train_preds_out, y_test_preds_out: Predicted value for training set and test set from optimal model\n",
    "    \n",
    "    '''\n",
    "    \n",
    "    # 1. Split into explanatory and response variables\n",
    "    X = df[cat_cols]\n",
    "    y = df[response_col]\n",
    "\n",
    "    # 2. Split into train and test\n",
    "    X_train, X_test, y_train, y_test = train_test_split(X, y, test_size=test_size, random_state=rand_state)\n",
    "    \n",
    "    # Test different alpha in regression model\n",
    "    ref_score=-100\n",
    "    \n",
    "    for Alpha in [0.0001, 0.001, 0.01, 0.1, 1, 10, 100, 1000]:\n",
    "    \n",
    "        # 3. Instantiate\n",
    "        rm_model=Ridge(alpha=Alpha)\n",
    "    \n",
    "        # 4. Fit\n",
    "        rm_model.fit(X_train, y_train) #Fit\n",
    "            \n",
    "        # 5. Predict and score the model\n",
    "        y_train_preds = rm_model.predict(X_train)\n",
    "        y_test_preds = rm_model.predict(X_test)\n",
    "    \n",
    "        # 6. Obtain an rsquared value \n",
    "        test_score=r2_score(y_test, y_test_preds)\n",
    "        train_score=r2_score(y_train, y_train_preds)\n",
    "        \n",
    "        if test_score > ref_score: \n",
    "            ref_score = test_score\n",
    "            test_score_out = test_score\n",
    "            train_score_out = train_score\n",
    "            rm_model_out = rm_model\n",
    "            X_train_out = X_train\n",
    "            X_test_out = X_test\n",
    "            y_train_out = y_train\n",
    "            y_test_out = y_test\n",
    "            y_train_preds_out = y_train_preds\n",
    "            y_test_preds_out = y_test_preds\n",
    "        \n",
    "    return test_score_out, train_score_out, rm_model_out, X_train_out, X_test_out, y_train_out, \\\n",
    "        y_test_out, y_train_preds_out, y_test_preds_out"
   ]
  },
  {
   "cell_type": "code",
   "execution_count": 21,
   "metadata": {},
   "outputs": [],
   "source": [
    "# Define plotting function\n",
    "\n",
    "def DistributionPlot(RedFunction, BlueFunction, RedName, BlueName, Title):\n",
    "    width = 8\n",
    "    height = 5\n",
    "    plt.figure(figsize=(width, height))\n",
    "\n",
    "    ax1 = sns.distplot(RedFunction, hist=False, color=\"r\", label=RedName)\n",
    "    ax2 = sns.distplot(BlueFunction, hist=False, color=\"b\", label=BlueName, ax=ax1)\n",
    "\n",
    "    plt.title(Title)\n",
    "    plt.xlabel('Price (in dollars)')\n",
    "    plt.ylabel('Proportion of listings')\n",
    "\n",
    "    plt.show()\n",
    "    plt.close()"
   ]
  },
  {
   "cell_type": "code",
   "execution_count": 22,
   "metadata": {},
   "outputs": [
    {
     "name": "stdout",
     "output_type": "stream",
     "text": [
      "The rsquared on the training data was 0.16435296171028235.  The rsquared on the test data was 0.17630043498821746.\n",
      "rm_model is:  Ridge(alpha=10, copy_X=True, fit_intercept=True, max_iter=None,\n",
      "   normalize=False, random_state=None, solver='auto', tol=0.001)\n"
     ]
    }
   ],
   "source": [
    "#Test linear fitting model with 3 features below\n",
    "cat_cols=['latitude','longitude','room_type_cat']\n",
    "test_score, train_score, rm_model, X_train, X_test, y_train, y_test, y_train_preds, y_test_preds = fit_ridge_mod(list, 'price', cat_cols)\n",
    "#Print training and testing score and regression model\n",
    "print(\"The rsquared on the training data was {}.  The rsquared on the test data was {}.\".format(train_score, test_score))\n",
    "print(\"rm_model is: \", rm_model)"
   ]
  },
  {
   "cell_type": "code",
   "execution_count": 23,
   "metadata": {},
   "outputs": [
    {
     "name": "stdout",
     "output_type": "stream",
     "text": [
      "The rsquared on the training data was 0.19926509815763926.  The rsquared on the test data was 0.2175382874156615.\n",
      "rm_model is:  Ridge(alpha=0.0001, copy_X=True, fit_intercept=True, max_iter=None,\n",
      "   normalize=False, random_state=None, solver='auto', tol=0.001)\n"
     ]
    }
   ],
   "source": [
    "#Test linear fitting model with another 3 features below\n",
    "cat_cols=['minimum_nights','reviews_per_month','room_type_cat']\n",
    "test_score, train_score, rm_model, X_train, X_test, y_train, y_test, y_train_preds, y_test_preds = fit_ridge_mod(list, 'price', cat_cols)\n",
    "#Print training and testing score and regression model\n",
    "print(\"The rsquared on the training data was {}.  The rsquared on the test data was {}.\".format(train_score, test_score))\n",
    "print(\"rm_model is: \", rm_model)"
   ]
  },
  {
   "cell_type": "code",
   "execution_count": 24,
   "metadata": {},
   "outputs": [
    {
     "name": "stdout",
     "output_type": "stream",
     "text": [
      "The rsquared on the training data was 0.2106077420300403.  The rsquared on the test data was 0.22120997205205573.\n",
      "rm_model is:  Ridge(alpha=1, copy_X=True, fit_intercept=True, max_iter=None,\n",
      "   normalize=False, random_state=None, solver='auto', tol=0.001)\n"
     ]
    }
   ],
   "source": [
    "#Test linear fitting model with 6 features below\n",
    "cat_cols=['latitude','longitude','minimum_nights','availability_365','reviews_per_month','room_type_cat']\n",
    "test_score, train_score, rm_model, X_train, X_test, y_train, y_test, y_train_preds, y_test_preds = fit_ridge_mod(list, 'price', cat_cols)\n",
    "#Print training and testing score and regression model\n",
    "print(\"The rsquared on the training data was {}.  The rsquared on the test data was {}.\".format(train_score, test_score))\n",
    "print(\"rm_model is: \", rm_model)"
   ]
  },
  {
   "cell_type": "code",
   "execution_count": 25,
   "metadata": {
    "collapsed": false,
    "jupyter": {
     "outputs_hidden": false
    }
   },
   "outputs": [
    {
     "data": {
      "image/png": "[encoded data removed]",
      "text/plain": [
       "<Figure size 576x360 with 1 Axes>"
      ]
     },
     "metadata": {
      "needs_background": "light"
     },
     "output_type": "display_data"
    }
   ],
   "source": [
    "Title = 'Distribution Plot of  Predicted Value Using Training Data vs Training Data Distribution'\n",
    "DistributionPlot(y_train, y_train_preds, \"Actual Values (Train)\", \"Predicted Values (Train)\", Title)"
   ]
  },
  {
   "cell_type": "markdown",
   "metadata": {},
   "source": [
    "#### Using ridge regression model, the highest R2 score I got is 0.2. From the distribution plot, I can see that the predicted price doesn't match with the distribution of actual price between 100 and 200 dollars. \n",
    "#### It is difficult to predict the price by regression model using those available features in the \"list\" dataset. I may need more information about the rental such as squared feet, number of bedrooms, number of bathrooms and ect."
   ]
  },
  {
   "cell_type": "markdown",
   "metadata": {},
   "source": [
    "### Q3: Which Seattle area have most rentals with good reviews in recent two years?"
   ]
  },
  {
   "cell_type": "markdown",
   "metadata": {},
   "source": [
    "#### Load and clean \"reviews\" data"
   ]
  },
  {
   "cell_type": "code",
   "execution_count": 26,
   "metadata": {},
   "outputs": [
    {
     "data": {
      "text/html": [
       "<div>\n",
       "<style scoped>\n",
       "    .dataframe tbody tr th:only-of-type {\n",
       "        vertical-align: middle;\n",
       "    }\n",
       "\n",
       "    .dataframe tbody tr th {\n",
       "        vertical-align: top;\n",
       "    }\n",
       "\n",
       "    .dataframe thead th {\n",
       "        text-align: right;\n",
       "    }\n",
       "</style>\n",
       "<table border=\"1\" class=\"dataframe\">\n",
       "  <thead>\n",
       "    <tr style=\"text-align: right;\">\n",
       "      <th></th>\n",
       "      <th>listing_id</th>\n",
       "      <th>id</th>\n",
       "      <th>date</th>\n",
       "      <th>reviewer_id</th>\n",
       "      <th>reviewer_name</th>\n",
       "      <th>comments</th>\n",
       "    </tr>\n",
       "  </thead>\n",
       "  <tbody>\n",
       "    <tr>\n",
       "      <th>0</th>\n",
       "      <td>2318</td>\n",
       "      <td>146</td>\n",
       "      <td>2008-09-15</td>\n",
       "      <td>2451</td>\n",
       "      <td>Kevin</td>\n",
       "      <td>1000 times better than staying at a hotel.</td>\n",
       "    </tr>\n",
       "    <tr>\n",
       "      <th>1</th>\n",
       "      <td>2318</td>\n",
       "      <td>126302712</td>\n",
       "      <td>2017-01-10</td>\n",
       "      <td>12332845</td>\n",
       "      <td>Jessica</td>\n",
       "      <td>Our family (two couples, a two year old and an...</td>\n",
       "    </tr>\n",
       "    <tr>\n",
       "      <th>2</th>\n",
       "      <td>2318</td>\n",
       "      <td>140977084</td>\n",
       "      <td>2017-04-01</td>\n",
       "      <td>4789466</td>\n",
       "      <td>Ivan</td>\n",
       "      <td>Top of the list locations we have stayed at! T...</td>\n",
       "    </tr>\n",
       "    <tr>\n",
       "      <th>3</th>\n",
       "      <td>2318</td>\n",
       "      <td>147262504</td>\n",
       "      <td>2017-04-25</td>\n",
       "      <td>55817131</td>\n",
       "      <td>Mike</td>\n",
       "      <td>SUCH an awesome place. Very clean, quiet and s...</td>\n",
       "    </tr>\n",
       "    <tr>\n",
       "      <th>4</th>\n",
       "      <td>2318</td>\n",
       "      <td>161806368</td>\n",
       "      <td>2017-06-18</td>\n",
       "      <td>113604590</td>\n",
       "      <td>Pete</td>\n",
       "      <td>We flew quite a distance to be at our only dau...</td>\n",
       "    </tr>\n",
       "  </tbody>\n",
       "</table>\n",
       "</div>"
      ],
      "text/plain": [
       "   listing_id         id        date  reviewer_id reviewer_name  \\\n",
       "0        2318        146  2008-09-15         2451         Kevin   \n",
       "1        2318  126302712  2017-01-10     12332845       Jessica   \n",
       "2        2318  140977084  2017-04-01      4789466          Ivan   \n",
       "3        2318  147262504  2017-04-25     55817131          Mike   \n",
       "4        2318  161806368  2017-06-18    113604590          Pete   \n",
       "\n",
       "                                            comments  \n",
       "0        1000 times better than staying at a hotel.   \n",
       "1  Our family (two couples, a two year old and an...  \n",
       "2  Top of the list locations we have stayed at! T...  \n",
       "3  SUCH an awesome place. Very clean, quiet and s...  \n",
       "4  We flew quite a distance to be at our only dau...  "
      ]
     },
     "execution_count": 26,
     "metadata": {},
     "output_type": "execute_result"
    }
   ],
   "source": [
    "# Load review data into dataframe\n",
    "review = pd.read_csv('reviews.csv.gz', compression='gzip', header=0, sep=',', quotechar='\"')\n",
    "review.head()"
   ]
  },
  {
   "cell_type": "code",
   "execution_count": 27,
   "metadata": {},
   "outputs": [
    {
     "data": {
      "text/plain": [
       "listing_id       0.000000\n",
       "id               0.000000\n",
       "date             0.000000\n",
       "reviewer_id      0.000000\n",
       "reviewer_name    0.000000\n",
       "comments         0.000455\n",
       "dtype: float64"
      ]
     },
     "execution_count": 27,
     "metadata": {},
     "output_type": "execute_result"
    }
   ],
   "source": [
    "# Check the pertentage of NaN numbers in the data set\n",
    "np.sum(review.isna())/review.shape[0]"
   ]
  },
  {
   "cell_type": "code",
   "execution_count": 28,
   "metadata": {},
   "outputs": [
    {
     "data": {
      "text/plain": [
       "(397976, 6)"
      ]
     },
     "execution_count": 28,
     "metadata": {},
     "output_type": "execute_result"
    }
   ],
   "source": [
    "# drop rows without comments\n",
    "review.dropna(inplace=True)\n",
    "review.shape"
   ]
  },
  {
   "cell_type": "markdown",
   "metadata": {},
   "source": [
    "##### I pick some keywords to identify good review as the list \"keywords\" below."
   ]
  },
  {
   "cell_type": "code",
   "execution_count": 29,
   "metadata": {},
   "outputs": [
    {
     "data": {
      "text/plain": [
       "(212962, 3)"
      ]
     },
     "execution_count": 29,
     "metadata": {},
     "output_type": "execute_result"
    }
   ],
   "source": [
    "# Get the review list which only containing good reviews in 2018~2020\n",
    "keywords='good|better|best|excellent|perfect|wonderful|unique|great|awesome|nice|pretty|stylish|cute|fabulous \\\n",
    "|spacious|comfortable|comfy|convenient|top|clean|love|like|thank|Thank|appreciat|recommend|friendly|helpful'\n",
    "years='2018|2019|2020'\n",
    "review_good=review.loc[(review['comments'].str.contains(keywords) & review['date'].str.contains(years)),['listing_id','id','date']]\n",
    "review_good.shape"
   ]
  },
  {
   "cell_type": "code",
   "execution_count": 30,
   "metadata": {},
   "outputs": [
    {
     "data": {
      "text/plain": [
       "0.5351126701107605"
      ]
     },
     "execution_count": 30,
     "metadata": {},
     "output_type": "execute_result"
    }
   ],
   "source": [
    "# Calculate the pertentage of good review among all reviews\n",
    "review_good.shape[0]/review.shape[0]"
   ]
  },
  {
   "cell_type": "markdown",
   "metadata": {},
   "source": [
    "##### Half of the reviews are good reviews. That sounds promising."
   ]
  },
  {
   "cell_type": "markdown",
   "metadata": {},
   "source": [
    "### merge two tables: list and review"
   ]
  },
  {
   "cell_type": "code",
   "execution_count": 31,
   "metadata": {},
   "outputs": [
    {
     "name": "stdout",
     "output_type": "stream",
     "text": [
      "There are  5556 rental listings that have good reveiws\n"
     ]
    },
    {
     "data": {
      "text/html": [
       "<div>\n",
       "<style scoped>\n",
       "    .dataframe tbody tr th:only-of-type {\n",
       "        vertical-align: middle;\n",
       "    }\n",
       "\n",
       "    .dataframe tbody tr th {\n",
       "        vertical-align: top;\n",
       "    }\n",
       "\n",
       "    .dataframe thead th {\n",
       "        text-align: right;\n",
       "    }\n",
       "</style>\n",
       "<table border=\"1\" class=\"dataframe\">\n",
       "  <thead>\n",
       "    <tr style=\"text-align: right;\">\n",
       "      <th></th>\n",
       "      <th>listing_id</th>\n",
       "      <th>good_review_counts</th>\n",
       "    </tr>\n",
       "  </thead>\n",
       "  <tbody>\n",
       "    <tr>\n",
       "      <th>1184</th>\n",
       "      <td>11398085</td>\n",
       "      <td>375</td>\n",
       "    </tr>\n",
       "    <tr>\n",
       "      <th>1298</th>\n",
       "      <td>12609601</td>\n",
       "      <td>333</td>\n",
       "    </tr>\n",
       "    <tr>\n",
       "      <th>451</th>\n",
       "      <td>3861673</td>\n",
       "      <td>299</td>\n",
       "    </tr>\n",
       "    <tr>\n",
       "      <th>656</th>\n",
       "      <td>6078397</td>\n",
       "      <td>298</td>\n",
       "    </tr>\n",
       "    <tr>\n",
       "      <th>596</th>\n",
       "      <td>5241773</td>\n",
       "      <td>268</td>\n",
       "    </tr>\n",
       "  </tbody>\n",
       "</table>\n",
       "</div>"
      ],
      "text/plain": [
       "      listing_id  good_review_counts\n",
       "1184    11398085                 375\n",
       "1298    12609601                 333\n",
       "451      3861673                 299\n",
       "656      6078397                 298\n",
       "596      5241773                 268"
      ]
     },
     "execution_count": 31,
     "metadata": {},
     "output_type": "execute_result"
    }
   ],
   "source": [
    "# Now I'll merge two data sets review_good and list by id\n",
    "rental_good=pd.merge(left=review_good['listing_id'], right=list['id'], left_on='listing_id', right_on='id')\n",
    "# Sort the dataset by counts of good reviews\n",
    "rental_good=rental_good.groupby('listing_id').count().reset_index()\n",
    "rental_good.rename(columns={'id':'good_review_counts'},inplace=True)\n",
    "rental_good.sort_values(by='good_review_counts',ascending=False,inplace=True)\n",
    "print('There are ', rental_good.shape[0], 'rental listings that have good reveiws')\n",
    "rental_good.head()"
   ]
  },
  {
   "cell_type": "markdown",
   "metadata": {},
   "source": [
    "##### The highest count of good reviews is 375 in recen two years."
   ]
  },
  {
   "cell_type": "code",
   "execution_count": 32,
   "metadata": {},
   "outputs": [
    {
     "data": {
      "text/html": [
       "<div>\n",
       "<style scoped>\n",
       "    .dataframe tbody tr th:only-of-type {\n",
       "        vertical-align: middle;\n",
       "    }\n",
       "\n",
       "    .dataframe tbody tr th {\n",
       "        vertical-align: top;\n",
       "    }\n",
       "\n",
       "    .dataframe thead th {\n",
       "        text-align: right;\n",
       "    }\n",
       "</style>\n",
       "<table border=\"1\" class=\"dataframe\">\n",
       "  <thead>\n",
       "    <tr style=\"text-align: right;\">\n",
       "      <th></th>\n",
       "      <th>listing_id</th>\n",
       "      <th>good_review_counts</th>\n",
       "      <th>name</th>\n",
       "      <th>price</th>\n",
       "      <th>neighbourhood_group</th>\n",
       "      <th>neighbourhood</th>\n",
       "      <th>latitude</th>\n",
       "      <th>longitude</th>\n",
       "      <th>room_type</th>\n",
       "      <th>room_type_cat</th>\n",
       "      <th>minimum_nights</th>\n",
       "      <th>number_of_reviews</th>\n",
       "      <th>last_review</th>\n",
       "      <th>reviews_per_month</th>\n",
       "      <th>calculated_host_listings_count</th>\n",
       "      <th>availability_365</th>\n",
       "    </tr>\n",
       "  </thead>\n",
       "  <tbody>\n",
       "    <tr>\n",
       "      <th>0</th>\n",
       "      <td>11398085</td>\n",
       "      <td>375</td>\n",
       "      <td>Cottage in the Heart of the City</td>\n",
       "      <td>89</td>\n",
       "      <td>Interbay</td>\n",
       "      <td>Interbay</td>\n",
       "      <td>47.63742</td>\n",
       "      <td>-122.38680</td>\n",
       "      <td>Entire home/apt</td>\n",
       "      <td>3</td>\n",
       "      <td>1</td>\n",
       "      <td>709</td>\n",
       "      <td>2020-03-19</td>\n",
       "      <td>14.66</td>\n",
       "      <td>1</td>\n",
       "      <td>188</td>\n",
       "    </tr>\n",
       "    <tr>\n",
       "      <th>1</th>\n",
       "      <td>12609601</td>\n",
       "      <td>333</td>\n",
       "      <td>Cozy basement suite with large patio &amp; HOT TUB</td>\n",
       "      <td>100</td>\n",
       "      <td>Northgate</td>\n",
       "      <td>Maple Leaf</td>\n",
       "      <td>47.69537</td>\n",
       "      <td>-122.31758</td>\n",
       "      <td>Entire home/apt</td>\n",
       "      <td>3</td>\n",
       "      <td>1</td>\n",
       "      <td>421</td>\n",
       "      <td>2020-03-21</td>\n",
       "      <td>13.52</td>\n",
       "      <td>1</td>\n",
       "      <td>81</td>\n",
       "    </tr>\n",
       "    <tr>\n",
       "      <th>2</th>\n",
       "      <td>3861673</td>\n",
       "      <td>299</td>\n",
       "      <td>Beautiful Guest Suite for 2 in Ballard</td>\n",
       "      <td>70</td>\n",
       "      <td>Ballard</td>\n",
       "      <td>Whittier Heights</td>\n",
       "      <td>47.68403</td>\n",
       "      <td>-122.37409</td>\n",
       "      <td>Entire home/apt</td>\n",
       "      <td>3</td>\n",
       "      <td>7</td>\n",
       "      <td>836</td>\n",
       "      <td>2020-03-14</td>\n",
       "      <td>12.14</td>\n",
       "      <td>1</td>\n",
       "      <td>249</td>\n",
       "    </tr>\n",
       "  </tbody>\n",
       "</table>\n",
       "</div>"
      ],
      "text/plain": [
       "   listing_id  good_review_counts  \\\n",
       "0    11398085                 375   \n",
       "1    12609601                 333   \n",
       "2     3861673                 299   \n",
       "\n",
       "                                             name  price neighbourhood_group  \\\n",
       "0                Cottage in the Heart of the City     89            Interbay   \n",
       "1  Cozy basement suite with large patio & HOT TUB    100           Northgate   \n",
       "2          Beautiful Guest Suite for 2 in Ballard     70             Ballard   \n",
       "\n",
       "      neighbourhood  latitude  longitude        room_type  room_type_cat  \\\n",
       "0          Interbay  47.63742 -122.38680  Entire home/apt              3   \n",
       "1        Maple Leaf  47.69537 -122.31758  Entire home/apt              3   \n",
       "2  Whittier Heights  47.68403 -122.37409  Entire home/apt              3   \n",
       "\n",
       "   minimum_nights  number_of_reviews last_review  reviews_per_month  \\\n",
       "0               1                709  2020-03-19              14.66   \n",
       "1               1                421  2020-03-21              13.52   \n",
       "2               7                836  2020-03-14              12.14   \n",
       "\n",
       "   calculated_host_listings_count  availability_365  \n",
       "0                               1               188  \n",
       "1                               1                81  \n",
       "2                               1               249  "
      ]
     },
     "execution_count": 32,
     "metadata": {},
     "output_type": "execute_result"
    }
   ],
   "source": [
    "# Add more information from list to the dataset\n",
    "features=['id','name','price','neighbourhood_group','neighbourhood','latitude','longitude','room_type','room_type_cat', \\\n",
    "                   'minimum_nights','number_of_reviews','last_review','reviews_per_month', \\\n",
    "                   'calculated_host_listings_count','availability_365']\n",
    "rental_good=pd.merge(left=rental_good, right=list[features], left_on='listing_id', right_on='id')\n",
    "rental_good.drop(columns='id',inplace=True)\n",
    "rental_good.head(3)"
   ]
  },
  {
   "cell_type": "code",
   "execution_count": 33,
   "metadata": {},
   "outputs": [
    {
     "data": {
      "image/png": "[encoded data removed]",
      "text/plain": [
       "<Figure size 432x288 with 1 Axes>"
      ]
     },
     "metadata": {
      "needs_background": "light"
     },
     "output_type": "display_data"
    }
   ],
   "source": [
    "countByNei=rental_good[['listing_id','neighbourhood_group']].groupby('neighbourhood_group').count()\n",
    "countByNei.rename(columns={'listing_id':'counts'},inplace=True)\n",
    "countByNei.sort_values(by='counts',ascending=False, inplace=True)\n",
    "ax=countByNei.plot(kind=\"bar\",width=0.6);\n",
    "ax.set_title(\"Number of Airbnb rentals with good reviews counts in Seattle area\");"
   ]
  },
  {
   "cell_type": "markdown",
   "metadata": {},
   "source": [
    "#### Besides \"other neighborhoods\", downtown area has the most number of good rentals, followed by capitol hill and central area."
   ]
  },
  {
   "cell_type": "markdown",
   "metadata": {},
   "source": [
    "### Q4. Which Airbnb is recommended in downtown Seattle?"
   ]
  },
  {
   "cell_type": "markdown",
   "metadata": {},
   "source": [
    "##### I still want to stay in Seattle downtow although price is a bit higher. I will choose the rentals with more number of good review and relatively lower price. And it must have the following features:\n",
    "- in downtown area\n",
    "- hotel room or entire home/apartment\n",
    "- minimum_nights < 4\n",
    "- availability_365 > 180\n",
    "- price < $350"
   ]
  },
  {
   "cell_type": "code",
   "execution_count": 34,
   "metadata": {},
   "outputs": [
    {
     "data": {
      "text/plain": [
       "228"
      ]
     },
     "execution_count": 34,
     "metadata": {},
     "output_type": "execute_result"
    }
   ],
   "source": [
    "features=['listing_id','name','good_review_counts','neighbourhood_group','price',\n",
    "          'neighbourhood','latitude','longitude','room_type','minimum_nights']\n",
    "rental_downtown=rental_good.loc[((rental_good['neighbourhood_group']=='Downtown') &\n",
    "                             (rental_good['room_type_cat']>2) &\n",
    "                             (rental_good['minimum_nights']<4) &\n",
    "                             (rental_good['availability_365']>180) &\n",
    "                             (rental_good['price']<350)) \n",
    "                                ,features]\n",
    "rental_downtown.shape[0]"
   ]
  },
  {
   "cell_type": "markdown",
   "metadata": {},
   "source": [
    "##### There are 228 rentals meets my criterias. Let me pick top 10 with most good reviews"
   ]
  },
  {
   "cell_type": "code",
   "execution_count": 35,
   "metadata": {},
   "outputs": [
    {
     "data": {
      "image/png": "[encoded data removed]",
      "text/plain": [
       "<Figure size 432x288 with 1 Axes>"
      ]
     },
     "metadata": {
      "needs_background": "light"
     },
     "output_type": "display_data"
    }
   ],
   "source": [
    "# Sort downtown rental by number of good reviews\n",
    "rental_downtown.sort_values(by='good_review_counts',ascending=False,inplace=True)\n",
    "# check the price range of top 20rental_downtown\n",
    "ax=rental_downtown['price'].iloc[0:10].hist();\n",
    "ax.set_title(\"Price range for top 10 rentals in Seattle downtown\");"
   ]
  },
  {
   "cell_type": "code",
   "execution_count": 36,
   "metadata": {},
   "outputs": [
    {
     "data": {
      "image/png": "[encoded data removed]",
      "text/plain": [
       "<Figure size 432x288 with 1 Axes>"
      ]
     },
     "metadata": {
      "needs_background": "light"
     },
     "output_type": "display_data"
    }
   ],
   "source": [
    "# check the number of good reviews\n",
    "ax=rental_downtown['good_review_counts'].iloc[0:10].hist();\n",
    "ax.set_title(\"Number of good reviews for top 10 rentals in Seattle downtown\");"
   ]
  },
  {
   "cell_type": "markdown",
   "metadata": {},
   "source": [
    "#### Their price is less than $200 with more than 100 good reviews. The all seems to be good choices. Below are the list of retals."
   ]
  },
  {
   "cell_type": "code",
   "execution_count": 37,
   "metadata": {},
   "outputs": [
    {
     "data": {
      "text/html": [
       "<div>\n",
       "<style scoped>\n",
       "    .dataframe tbody tr th:only-of-type {\n",
       "        vertical-align: middle;\n",
       "    }\n",
       "\n",
       "    .dataframe tbody tr th {\n",
       "        vertical-align: top;\n",
       "    }\n",
       "\n",
       "    .dataframe thead th {\n",
       "        text-align: right;\n",
       "    }\n",
       "</style>\n",
       "<table border=\"1\" class=\"dataframe\">\n",
       "  <thead>\n",
       "    <tr style=\"text-align: right;\">\n",
       "      <th></th>\n",
       "      <th>listing_id</th>\n",
       "      <th>name</th>\n",
       "      <th>good_review_counts</th>\n",
       "      <th>neighbourhood_group</th>\n",
       "      <th>price</th>\n",
       "      <th>neighbourhood</th>\n",
       "      <th>latitude</th>\n",
       "      <th>longitude</th>\n",
       "      <th>room_type</th>\n",
       "      <th>minimum_nights</th>\n",
       "    </tr>\n",
       "  </thead>\n",
       "  <tbody>\n",
       "    <tr>\n",
       "      <th>13</th>\n",
       "      <td>10125020</td>\n",
       "      <td>Historic loft in Pioneer Square</td>\n",
       "      <td>235</td>\n",
       "      <td>Downtown</td>\n",
       "      <td>180</td>\n",
       "      <td>Pioneer Square</td>\n",
       "      <td>47.60044</td>\n",
       "      <td>-122.33298</td>\n",
       "      <td>Entire home/apt</td>\n",
       "      <td>1</td>\n",
       "    </tr>\n",
       "    <tr>\n",
       "      <th>18</th>\n",
       "      <td>22958194</td>\n",
       "      <td>Cruise ships, Gumwall &amp; Pike Place Downtown Su...</td>\n",
       "      <td>225</td>\n",
       "      <td>Downtown</td>\n",
       "      <td>140</td>\n",
       "      <td>Pike-Market</td>\n",
       "      <td>47.60809</td>\n",
       "      <td>-122.34078</td>\n",
       "      <td>Entire home/apt</td>\n",
       "      <td>1</td>\n",
       "    </tr>\n",
       "    <tr>\n",
       "      <th>50</th>\n",
       "      <td>21077859</td>\n",
       "      <td>LEED Platinum Loft Near downtown/Capitol hill</td>\n",
       "      <td>191</td>\n",
       "      <td>Downtown</td>\n",
       "      <td>195</td>\n",
       "      <td>Yesler Terrace</td>\n",
       "      <td>47.60464</td>\n",
       "      <td>-122.32023</td>\n",
       "      <td>Entire home/apt</td>\n",
       "      <td>1</td>\n",
       "    </tr>\n",
       "    <tr>\n",
       "      <th>68</th>\n",
       "      <td>16547797</td>\n",
       "      <td>Pike, Walk-score 99, Loft, Live/visit Capitol ...</td>\n",
       "      <td>178</td>\n",
       "      <td>Downtown</td>\n",
       "      <td>150</td>\n",
       "      <td>First Hill</td>\n",
       "      <td>47.61342</td>\n",
       "      <td>-122.32189</td>\n",
       "      <td>Entire home/apt</td>\n",
       "      <td>1</td>\n",
       "    </tr>\n",
       "    <tr>\n",
       "      <th>70</th>\n",
       "      <td>15927940</td>\n",
       "      <td>Climb into the Plush Bed to Doze at a Tranquil...</td>\n",
       "      <td>178</td>\n",
       "      <td>Downtown</td>\n",
       "      <td>111</td>\n",
       "      <td>First Hill</td>\n",
       "      <td>47.61310</td>\n",
       "      <td>-122.32374</td>\n",
       "      <td>Entire home/apt</td>\n",
       "      <td>1</td>\n",
       "    </tr>\n",
       "    <tr>\n",
       "      <th>78</th>\n",
       "      <td>19157420</td>\n",
       "      <td>Center of Seattle,  with Great City Views!!!</td>\n",
       "      <td>173</td>\n",
       "      <td>Downtown</td>\n",
       "      <td>129</td>\n",
       "      <td>Belltown</td>\n",
       "      <td>47.61337</td>\n",
       "      <td>-122.34393</td>\n",
       "      <td>Entire home/apt</td>\n",
       "      <td>1</td>\n",
       "    </tr>\n",
       "    <tr>\n",
       "      <th>82</th>\n",
       "      <td>16535510</td>\n",
       "      <td>Spacious Studio, Heart of the City!!!</td>\n",
       "      <td>171</td>\n",
       "      <td>Downtown</td>\n",
       "      <td>160</td>\n",
       "      <td>Belltown</td>\n",
       "      <td>47.61344</td>\n",
       "      <td>-122.34399</td>\n",
       "      <td>Entire home/apt</td>\n",
       "      <td>1</td>\n",
       "    </tr>\n",
       "    <tr>\n",
       "      <th>108</th>\n",
       "      <td>22999858</td>\n",
       "      <td>Downtown Seattle w/ Large Kitchen and Bathroom</td>\n",
       "      <td>161</td>\n",
       "      <td>Downtown</td>\n",
       "      <td>183</td>\n",
       "      <td>Belltown</td>\n",
       "      <td>47.61363</td>\n",
       "      <td>-122.34448</td>\n",
       "      <td>Entire home/apt</td>\n",
       "      <td>1</td>\n",
       "    </tr>\n",
       "    <tr>\n",
       "      <th>122</th>\n",
       "      <td>7616008</td>\n",
       "      <td>Heart of Downtown Seattle</td>\n",
       "      <td>156</td>\n",
       "      <td>Downtown</td>\n",
       "      <td>183</td>\n",
       "      <td>Belltown</td>\n",
       "      <td>47.61337</td>\n",
       "      <td>-122.34389</td>\n",
       "      <td>Entire home/apt</td>\n",
       "      <td>1</td>\n",
       "    </tr>\n",
       "    <tr>\n",
       "      <th>143</th>\n",
       "      <td>3953742</td>\n",
       "      <td>Lovely Historical Apartment, With Great Views!!!</td>\n",
       "      <td>150</td>\n",
       "      <td>Downtown</td>\n",
       "      <td>183</td>\n",
       "      <td>Belltown</td>\n",
       "      <td>47.61334</td>\n",
       "      <td>-122.34401</td>\n",
       "      <td>Entire home/apt</td>\n",
       "      <td>1</td>\n",
       "    </tr>\n",
       "  </tbody>\n",
       "</table>\n",
       "</div>"
      ],
      "text/plain": [
       "     listing_id                                               name  \\\n",
       "13     10125020                    Historic loft in Pioneer Square   \n",
       "18     22958194  Cruise ships, Gumwall & Pike Place Downtown Su...   \n",
       "50     21077859      LEED Platinum Loft Near downtown/Capitol hill   \n",
       "68     16547797  Pike, Walk-score 99, Loft, Live/visit Capitol ...   \n",
       "70     15927940  Climb into the Plush Bed to Doze at a Tranquil...   \n",
       "78     19157420       Center of Seattle,  with Great City Views!!!   \n",
       "82     16535510              Spacious Studio, Heart of the City!!!   \n",
       "108    22999858     Downtown Seattle w/ Large Kitchen and Bathroom   \n",
       "122     7616008                          Heart of Downtown Seattle   \n",
       "143     3953742   Lovely Historical Apartment, With Great Views!!!   \n",
       "\n",
       "     good_review_counts neighbourhood_group  price   neighbourhood  latitude  \\\n",
       "13                  235            Downtown    180  Pioneer Square  47.60044   \n",
       "18                  225            Downtown    140     Pike-Market  47.60809   \n",
       "50                  191            Downtown    195  Yesler Terrace  47.60464   \n",
       "68                  178            Downtown    150      First Hill  47.61342   \n",
       "70                  178            Downtown    111      First Hill  47.61310   \n",
       "78                  173            Downtown    129        Belltown  47.61337   \n",
       "82                  171            Downtown    160        Belltown  47.61344   \n",
       "108                 161            Downtown    183        Belltown  47.61363   \n",
       "122                 156            Downtown    183        Belltown  47.61337   \n",
       "143                 150            Downtown    183        Belltown  47.61334   \n",
       "\n",
       "     longitude        room_type  minimum_nights  \n",
       "13  -122.33298  Entire home/apt               1  \n",
       "18  -122.34078  Entire home/apt               1  \n",
       "50  -122.32023  Entire home/apt               1  \n",
       "68  -122.32189  Entire home/apt               1  \n",
       "70  -122.32374  Entire home/apt               1  \n",
       "78  -122.34393  Entire home/apt               1  \n",
       "82  -122.34399  Entire home/apt               1  \n",
       "108 -122.34448  Entire home/apt               1  \n",
       "122 -122.34389  Entire home/apt               1  \n",
       "143 -122.34401  Entire home/apt               1  "
      ]
     },
     "execution_count": 37,
     "metadata": {},
     "output_type": "execute_result"
    }
   ],
   "source": [
    "rental_downtown.head(10)"
   ]
  },
  {
   "cell_type": "markdown",
   "metadata": {},
   "source": [
    "#### Let's find their locations on the map"
   ]
  },
  {
   "cell_type": "code",
   "execution_count": 38,
   "metadata": {},
   "outputs": [
    {
     "data": {
      "text/html": [
       "<div style=\"width:100%;\"><div style=\"position:relative;width:100%;height:0;padding-bottom:60%;\"><span style=\"color:#565656\">Make this Notebook Trusted to load map: File -> Trust Notebook</span><iframe src=\"about:blank\" style=\"position:absolute;width:100%;height:100%;left:0;top:0;border:none !important;\" data-html=PCFET0NUWVBFIGh0bWw+CjxoZWFkPiAgICAKICAgIDxtZXRhIGh0dHAtZXF1aXY9ImNvbnRlbnQtdHlwZSIgY29udGVudD0idGV4dC9odG1sOyBjaGFyc2V0PVVURi04IiAvPgogICAgPHNjcmlwdD5MX1BSRUZFUl9DQU5WQVMgPSBmYWxzZTsgTF9OT19UT1VDSCA9IGZhbHNlOyBMX0RJU0FCTEVfM0QgPSBmYWxzZTs8L3NjcmlwdD4KICAgIDxzY3JpcHQgc3JjPSJodHRwczovL2Nkbi5qc2RlbGl2ci5uZXQvbnBtL2xlYWZsZXRAMS4yLjAvZGlzdC9sZWFmbGV0LmpzIj48L3NjcmlwdD4KICAgIDxzY3JpcHQgc3JjPSJodHRwczovL2FqYXguZ29vZ2xlYXBpcy5jb20vYWpheC9saWJzL2pxdWVyeS8xLjExLjEvanF1ZXJ5Lm1pbi5qcyI+PC9zY3JpcHQ+CiAgICA8c2NyaXB0IHNyYz0iaHR0cHM6Ly9tYXhjZG4uYm9vdHN0cmFwY2RuLmNvbS9ib290c3RyYXAvMy4yLjAvanMvYm9vdHN0cmFwLm1pbi5qcyI+PC9zY3JpcHQ+CiAgICA8c2NyaXB0IHNyYz0iaHR0cHM6Ly9jZG5qcy5jbG91ZGZsYXJlLmNvbS9hamF4L2xpYnMvTGVhZmxldC5hd2Vzb21lLW1hcmtlcnMvMi4wLjIvbGVhZmxldC5hd2Vzb21lLW1hcmtlcnMuanMiPjwvc2NyaXB0PgogICAgPGxpbmsgcmVsPSJzdHlsZXNoZWV0IiBocmVmPSJodHRwczovL2Nkbi5qc2RlbGl2ci5uZXQvbnBtL2xlYWZsZXRAMS4yLjAvZGlzdC9sZWFmbGV0LmNzcyIvPgogICAgPGxpbmsgcmVsPSJzdHlsZXNoZWV0IiBocmVmPSJodHRwczovL21heGNkbi5ib290c3RyYXBjZG4uY29tL2Jvb3RzdHJhcC8zLjIuMC9jc3MvYm9vdHN0cmFwLm1pbi5jc3MiLz4KICAgIDxsaW5rIHJlbD0ic3R5bGVzaGVldCIgaHJlZj0iaHR0cHM6Ly9tYXhjZG4uYm9vdHN0cmFwY2RuLmNvbS9ib290c3RyYXAvMy4yLjAvY3NzL2Jvb3RzdHJhcC10aGVtZS5taW4uY3NzIi8+CiAgICA8bGluayByZWw9InN0eWxlc2hlZXQiIGhyZWY9Imh0dHBzOi8vbWF4Y2RuLmJvb3RzdHJhcGNkbi5jb20vZm9udC1hd2Vzb21lLzQuNi4zL2Nzcy9mb250LWF3ZXNvbWUubWluLmNzcyIvPgogICAgPGxpbmsgcmVsPSJzdHlsZXNoZWV0IiBocmVmPSJodHRwczovL2NkbmpzLmNsb3VkZmxhcmUuY29tL2FqYXgvbGlicy9MZWFmbGV0LmF3ZXNvbWUtbWFya2Vycy8yLjAuMi9sZWFmbGV0LmF3ZXNvbWUtbWFya2Vycy5jc3MiLz4KICAgIDxsaW5rIHJlbD0ic3R5bGVzaGVldCIgaHJlZj0iaHR0cHM6Ly9yYXdnaXQuY29tL3B5dGhvbi12aXN1YWxpemF0aW9uL2ZvbGl1bS9tYXN0ZXIvZm9saXVtL3RlbXBsYXRlcy9sZWFmbGV0LmF3ZXNvbWUucm90YXRlLmNzcyIvPgogICAgPHN0eWxlPmh0bWwsIGJvZHkge3dpZHRoOiAxMDAlO2hlaWdodDogMTAwJTttYXJnaW46IDA7cGFkZGluZzogMDt9PC9zdHlsZT4KICAgIDxzdHlsZT4jbWFwIHtwb3NpdGlvbjphYnNvbHV0ZTt0b3A6MDtib3R0b206MDtyaWdodDowO2xlZnQ6MDt9PC9zdHlsZT4KICAgIAogICAgICAgICAgICA8c3R5bGU+ICNtYXBfZGNkZWZjZjMyYjFlNDMxYmI3N2MxNWJjOGIwMDQ3MjYgewogICAgICAgICAgICAgICAgcG9zaXRpb24gOiByZWxhdGl2ZTsKICAgICAgICAgICAgICAgIHdpZHRoIDogMTAwLjAlOwogICAgICAgICAgICAgICAgaGVpZ2h0OiAxMDAuMCU7CiAgICAgICAgICAgICAgICBsZWZ0OiAwLjAlOwogICAgICAgICAgICAgICAgdG9wOiAwLjAlOwogICAgICAgICAgICAgICAgfQogICAgICAgICAgICA8L3N0eWxlPgogICAgICAgIAo8L2hlYWQ+Cjxib2R5PiAgICAKICAgIAogICAgICAgICAgICA8ZGl2IGNsYXNzPSJmb2xpdW0tbWFwIiBpZD0ibWFwX2RjZGVmY2YzMmIxZTQzMWJiNzdjMTViYzhiMDA0NzI2IiA+PC9kaXY+CiAgICAgICAgCjwvYm9keT4KPHNjcmlwdD4gICAgCiAgICAKCiAgICAgICAgICAgIAogICAgICAgICAgICAgICAgdmFyIGJvdW5kcyA9IG51bGw7CiAgICAgICAgICAgIAoKICAgICAgICAgICAgdmFyIG1hcF9kY2RlZmNmMzJiMWU0MzFiYjc3YzE1YmM4YjAwNDcyNiA9IEwubWFwKAogICAgICAgICAgICAgICAgICAgICAgICAgICAgICAgICAgJ21hcF9kY2RlZmNmMzJiMWU0MzFiYjc3YzE1YmM4YjAwNDcyNicsCiAgICAgICAgICAgICAgICAgICAgICAgICAgICAgICAgICB7Y2VudGVyOiBbNDcuNjA1LC0xMjIuMzM0NF0sCiAgICAgICAgICAgICAgICAgICAgICAgICAgICAgICAgICB6b29tOiAxMSwKICAgICAgICAgICAgICAgICAgICAgICAgICAgICAgICAgIG1heEJvdW5kczogYm91bmRzLAogICAgICAgICAgICAgICAgICAgICAgICAgICAgICAgICAgbGF5ZXJzOiBbXSwKICAgICAgICAgICAgICAgICAgICAgICAgICAgICAgICAgIHdvcmxkQ29weUp1bXA6IGZhbHNlLAogICAgICAgICAgICAgICAgICAgICAgICAgICAgICAgICAgY3JzOiBMLkNSUy5FUFNHMzg1NwogICAgICAgICAgICAgICAgICAgICAgICAgICAgICAgICB9KTsKICAgICAgICAgICAgCiAgICAgICAgCiAgICAKICAgICAgICAgICAgdmFyIHRpbGVfbGF5ZXJfY2ZkMGIzYjFjYjEyNDRhNTgxZTYxNTc0YzdlMzg1NDcgPSBMLnRpbGVMYXllcigKICAgICAgICAgICAgICAgICdodHRwczovL3tzfS50aWxlLm9wZW5zdHJlZXRtYXAub3JnL3t6fS97eH0ve3l9LnBuZycsCiAgICAgICAgICAgICAgICB7CiAgImF0dHJpYnV0aW9uIjogbnVsbCwKICAiZGV0ZWN0UmV0aW5hIjogZmFsc2UsCiAgIm1heFpvb20iOiAxOCwKICAibWluWm9vbSI6IDEsCiAgIm5vV3JhcCI6IGZhbHNlLAogICJzdWJkb21haW5zIjogImFiYyIKfQogICAgICAgICAgICAgICAgKS5hZGRUbyhtYXBfZGNkZWZjZjMyYjFlNDMxYmI3N2MxNWJjOGIwMDQ3MjYpOwogICAgICAgIAogICAgCiAgICAgICAgICAgIHZhciBjaXJjbGVfbWFya2VyXzJjMDA0ZDVhMDVhYzQzYWNhMWMwODM5MTRhZjBlNjAyID0gTC5jaXJjbGVNYXJrZXIoCiAgICAgICAgICAgICAgICBbNDcuNjAwNDQsLTEyMi4zMzI5OF0sCiAgICAgICAgICAgICAgICB7CiAgImJ1YmJsaW5nTW91c2VFdmVudHMiOiB0cnVlLAogICJjb2xvciI6ICJibHVlIiwKICAiZGFzaEFycmF5IjogbnVsbCwKICAiZGFzaE9mZnNldCI6IG51bGwsCiAgImZpbGwiOiB0cnVlLAogICJmaWxsQ29sb3IiOiAiIzMxODZjYyIsCiAgImZpbGxPcGFjaXR5IjogMC43LAogICJmaWxsUnVsZSI6ICJldmVub2RkIiwKICAibGluZUNhcCI6ICJyb3VuZCIsCiAgImxpbmVKb2luIjogInJvdW5kIiwKICAib3BhY2l0eSI6IDEuMCwKICAicmFkaXVzIjogMywKICAic3Ryb2tlIjogdHJ1ZSwKICAid2VpZ2h0IjogMwp9CiAgICAgICAgICAgICAgICApLmFkZFRvKG1hcF9kY2RlZmNmMzJiMWU0MzFiYjc3YzE1YmM4YjAwNDcyNik7CiAgICAgICAgICAgIAogICAgCiAgICAgICAgICAgIHZhciBwb3B1cF9mZDc4YjljNmI5YWE0YmRmYTMzYWYyODc4YTk4NjIwZSA9IEwucG9wdXAoe21heFdpZHRoOiAnMzAwJ30pOwoKICAgICAgICAgICAgCiAgICAgICAgICAgICAgICB2YXIgaHRtbF83MGM0OWFjYjFmMDQ0OGZmOWYwMjdmMzVhOTQyOGQ1OSA9ICQoJzxkaXYgaWQ9Imh0bWxfNzBjNDlhY2IxZjA0NDhmZjlmMDI3ZjM1YTk0MjhkNTkiIHN0eWxlPSJ3aWR0aDogMTAwLjAlOyBoZWlnaHQ6IDEwMC4wJTsiPkhpc3RvcmljIGxvZnQgaW4gUGlvbmVlciBTcXVhcmU8L2Rpdj4nKVswXTsKICAgICAgICAgICAgICAgIHBvcHVwX2ZkNzhiOWM2YjlhYTRiZGZhMzNhZjI4NzhhOTg2MjBlLnNldENvbnRlbnQoaHRtbF83MGM0OWFjYjFmMDQ0OGZmOWYwMjdmMzVhOTQyOGQ1OSk7CiAgICAgICAgICAgIAoKICAgICAgICAgICAgY2lyY2xlX21hcmtlcl8yYzAwNGQ1YTA1YWM0M2FjYTFjMDgzOTE0YWYwZTYwMi5iaW5kUG9wdXAocG9wdXBfZmQ3OGI5YzZiOWFhNGJkZmEzM2FmMjg3OGE5ODYyMGUpOwoKICAgICAgICAgICAgCiAgICAgICAgCiAgICAKICAgICAgICAgICAgdmFyIGNpcmNsZV9tYXJrZXJfNDEzNWM1NjVhMzM5NDVjNzhmZThjYmY2MTdmOTI1NjYgPSBMLmNpcmNsZU1hcmtlcigKICAgICAgICAgICAgICAgIFs0Ny42MDgwOTAwMDAwMDAwMDQsLTEyMi4zNDA3ODAwMDAwMDAwMV0sCiAgICAgICAgICAgICAgICB7CiAgImJ1YmJsaW5nTW91c2VFdmVudHMiOiB0cnVlLAogICJjb2xvciI6ICJibHVlIiwKICAiZGFzaEFycmF5IjogbnVsbCwKICAiZGFzaE9mZnNldCI6IG51bGwsCiAgImZpbGwiOiB0cnVlLAogICJmaWxsQ29sb3IiOiAiIzMxODZjYyIsCiAgImZpbGxPcGFjaXR5IjogMC43LAogICJmaWxsUnVsZSI6ICJldmVub2RkIiwKICAibGluZUNhcCI6ICJyb3VuZCIsCiAgImxpbmVKb2luIjogInJvdW5kIiwKICAib3BhY2l0eSI6IDEuMCwKICAicmFkaXVzIjogMywKICAic3Ryb2tlIjogdHJ1ZSwKICAid2VpZ2h0IjogMwp9CiAgICAgICAgICAgICAgICApLmFkZFRvKG1hcF9kY2RlZmNmMzJiMWU0MzFiYjc3YzE1YmM4YjAwNDcyNik7CiAgICAgICAgICAgIAogICAgCiAgICAgICAgICAgIHZhciBwb3B1cF81MWQxYjhiOTY5MjY0ZGI2OTEwMzI0ODY3NTYyMDlmZSA9IEwucG9wdXAoe21heFdpZHRoOiAnMzAwJ30pOwoKICAgICAgICAgICAgCiAgICAgICAgICAgICAgICB2YXIgaHRtbF9kZWYyZjk2ZTdhZDI0OTljOGRiYzE1NjllYzc1MTU1ZiA9ICQoJzxkaXYgaWQ9Imh0bWxfZGVmMmY5NmU3YWQyNDk5YzhkYmMxNTY5ZWM3NTE1NWYiIHN0eWxlPSJ3aWR0aDogMTAwLjAlOyBoZWlnaHQ6IDEwMC4wJTsiPkNydWlzZSBzaGlwcywgR3Vtd2FsbCAmYW1wOyBQaWtlIFBsYWNlIERvd250b3duIFN1aXRlITwvZGl2PicpWzBdOwogICAgICAgICAgICAgICAgcG9wdXBfNTFkMWI4Yjk2OTI2NGRiNjkxMDMyNDg2NzU2MjA5ZmUuc2V0Q29udGVudChodG1sX2RlZjJmOTZlN2FkMjQ5OWM4ZGJjMTU2OWVjNzUxNTVmKTsKICAgICAgICAgICAgCgogICAgICAgICAgICBjaXJjbGVfbWFya2VyXzQxMzVjNTY1YTMzOTQ1Yzc4ZmU4Y2JmNjE3ZjkyNTY2LmJpbmRQb3B1cChwb3B1cF81MWQxYjhiOTY5MjY0ZGI2OTEwMzI0ODY3NTYyMDlmZSk7CgogICAgICAgICAgICAKICAgICAgICAKICAgIAogICAgICAgICAgICB2YXIgY2lyY2xlX21hcmtlcl8zMzk2ZWEyMTg5N2U0NWVjYmU4NGIxYTM4ZjQ3YmM3ZCA9IEwuY2lyY2xlTWFya2VyKAogICAgICAgICAgICAgICAgWzQ3LjYwNDY0LC0xMjIuMzIwMjMwMDAwMDAwMDFdLAogICAgICAgICAgICAgICAgewogICJidWJibGluZ01vdXNlRXZlbnRzIjogdHJ1ZSwKICAiY29sb3IiOiAiYmx1ZSIsCiAgImRhc2hBcnJheSI6IG51bGwsCiAgImRhc2hPZmZzZXQiOiBudWxsLAogICJmaWxsIjogdHJ1ZSwKICAiZmlsbENvbG9yIjogIiMzMTg2Y2MiLAogICJmaWxsT3BhY2l0eSI6IDAuNywKICAiZmlsbFJ1bGUiOiAiZXZlbm9kZCIsCiAgImxpbmVDYXAiOiAicm91bmQiLAogICJsaW5lSm9pbiI6ICJyb3VuZCIsCiAgIm9wYWNpdHkiOiAxLjAsCiAgInJhZGl1cyI6IDMsCiAgInN0cm9rZSI6IHRydWUsCiAgIndlaWdodCI6IDMKfQogICAgICAgICAgICAgICAgKS5hZGRUbyhtYXBfZGNkZWZjZjMyYjFlNDMxYmI3N2MxNWJjOGIwMDQ3MjYpOwogICAgICAgICAgICAKICAgIAogICAgICAgICAgICB2YXIgcG9wdXBfZmQ5MTBjNTAzN2I1NDQ2YjgzMjhkMGY4MzEyYjM3ZjIgPSBMLnBvcHVwKHttYXhXaWR0aDogJzMwMCd9KTsKCiAgICAgICAgICAgIAogICAgICAgICAgICAgICAgdmFyIGh0bWxfOTUyZjEwZDQ1NDBjNDNkNGFhZTFhNDY4OWVlNjYwYzAgPSAkKCc8ZGl2IGlkPSJodG1sXzk1MmYxMGQ0NTQwYzQzZDRhYWUxYTQ2ODllZTY2MGMwIiBzdHlsZT0id2lkdGg6IDEwMC4wJTsgaGVpZ2h0OiAxMDAuMCU7Ij5MRUVEIFBsYXRpbnVtIExvZnQgTmVhciBkb3dudG93bi9DYXBpdG9sIGhpbGw8L2Rpdj4nKVswXTsKICAgICAgICAgICAgICAgIHBvcHVwX2ZkOTEwYzUwMzdiNTQ0NmI4MzI4ZDBmODMxMmIzN2YyLnNldENvbnRlbnQoaHRtbF85NTJmMTBkNDU0MGM0M2Q0YWFlMWE0Njg5ZWU2NjBjMCk7CiAgICAgICAgICAgIAoKICAgICAgICAgICAgY2lyY2xlX21hcmtlcl8zMzk2ZWEyMTg5N2U0NWVjYmU4NGIxYTM4ZjQ3YmM3ZC5iaW5kUG9wdXAocG9wdXBfZmQ5MTBjNTAzN2I1NDQ2YjgzMjhkMGY4MzEyYjM3ZjIpOwoKICAgICAgICAgICAgCiAgICAgICAgCiAgICAKICAgICAgICAgICAgdmFyIGNpcmNsZV9tYXJrZXJfOTMxYzI2ZTZjYWMyNDBlNDgxZGI1NzVhYTAzM2MzMDEgPSBMLmNpcmNsZU1hcmtlcigKICAgICAgICAgICAgICAgIFs0Ny42MTM0MiwtMTIyLjMyMTg5XSwKICAgICAgICAgICAgICAgIHsKICAiYnViYmxpbmdNb3VzZUV2ZW50cyI6IHRydWUsCiAgImNvbG9yIjogImJsdWUiLAogICJkYXNoQXJyYXkiOiBudWxsLAogICJkYXNoT2Zmc2V0IjogbnVsbCwKICAiZmlsbCI6IHRydWUsCiAgImZpbGxDb2xvciI6ICIjMzE4NmNjIiwKICAiZmlsbE9wYWNpdHkiOiAwLjcsCiAgImZpbGxSdWxlIjogImV2ZW5vZGQiLAogICJsaW5lQ2FwIjogInJvdW5kIiwKICAibGluZUpvaW4iOiAicm91bmQiLAogICJvcGFjaXR5IjogMS4wLAogICJyYWRpdXMiOiAzLAogICJzdHJva2UiOiB0cnVlLAogICJ3ZWlnaHQiOiAzCn0KICAgICAgICAgICAgICAgICkuYWRkVG8obWFwX2RjZGVmY2YzMmIxZTQzMWJiNzdjMTViYzhiMDA0NzI2KTsKICAgICAgICAgICAgCiAgICAKICAgICAgICAgICAgdmFyIHBvcHVwXzQyNWZiMzkzZDhlYjQ3NTc4NzE0ZDdhZWZhMzQxOTVkID0gTC5wb3B1cCh7bWF4V2lkdGg6ICczMDAnfSk7CgogICAgICAgICAgICAKICAgICAgICAgICAgICAgIHZhciBodG1sX2MwYzI2ZTQwYzljNjRmMzY4YTllMjNhNjc5Y2NhNzFhID0gJCgnPGRpdiBpZD0iaHRtbF9jMGMyNmU0MGM5YzY0ZjM2OGE5ZTIzYTY3OWNjYTcxYSIgc3R5bGU9IndpZHRoOiAxMDAuMCU7IGhlaWdodDogMTAwLjAlOyI+UGlrZSwgV2Fsay1zY29yZSA5OSwgTG9mdCwgTGl2ZS92aXNpdCBDYXBpdG9sIEhpbGw8L2Rpdj4nKVswXTsKICAgICAgICAgICAgICAgIHBvcHVwXzQyNWZiMzkzZDhlYjQ3NTc4NzE0ZDdhZWZhMzQxOTVkLnNldENvbnRlbnQoaHRtbF9jMGMyNmU0MGM5YzY0ZjM2OGE5ZTIzYTY3OWNjYTcxYSk7CiAgICAgICAgICAgIAoKICAgICAgICAgICAgY2lyY2xlX21hcmtlcl85MzFjMjZlNmNhYzI0MGU0ODFkYjU3NWFhMDMzYzMwMS5iaW5kUG9wdXAocG9wdXBfNDI1ZmIzOTNkOGViNDc1Nzg3MTRkN2FlZmEzNDE5NWQpOwoKICAgICAgICAgICAgCiAgICAgICAgCiAgICAKICAgICAgICAgICAgdmFyIGNpcmNsZV9tYXJrZXJfMDE3NWU1NmJhODA4NDc3NDg2YWE2M2QwZjI1ZTJkYWQgPSBMLmNpcmNsZU1hcmtlcigKICAgICAgICAgICAgICAgIFs0Ny42MTMxLC0xMjIuMzIzNzM5OTk5OTk5OTldLAogICAgICAgICAgICAgICAgewogICJidWJibGluZ01vdXNlRXZlbnRzIjogdHJ1ZSwKICAiY29sb3IiOiAiYmx1ZSIsCiAgImRhc2hBcnJheSI6IG51bGwsCiAgImRhc2hPZmZzZXQiOiBudWxsLAogICJmaWxsIjogdHJ1ZSwKICAiZmlsbENvbG9yIjogIiMzMTg2Y2MiLAogICJmaWxsT3BhY2l0eSI6IDAuNywKICAiZmlsbFJ1bGUiOiAiZXZlbm9kZCIsCiAgImxpbmVDYXAiOiAicm91bmQiLAogICJsaW5lSm9pbiI6ICJyb3VuZCIsCiAgIm9wYWNpdHkiOiAxLjAsCiAgInJhZGl1cyI6IDMsCiAgInN0cm9rZSI6IHRydWUsCiAgIndlaWdodCI6IDMKfQogICAgICAgICAgICAgICAgKS5hZGRUbyhtYXBfZGNkZWZjZjMyYjFlNDMxYmI3N2MxNWJjOGIwMDQ3MjYpOwogICAgICAgICAgICAKICAgIAogICAgICAgICAgICB2YXIgcG9wdXBfZWFiODA0NWY0MjliNDhhMDg0YjNkZWQ2ZGU2YjJmOTUgPSBMLnBvcHVwKHttYXhXaWR0aDogJzMwMCd9KTsKCiAgICAgICAgICAgIAogICAgICAgICAgICAgICAgdmFyIGh0bWxfYjY3MzJmOTY1YWFhNDI3YjhmNGE2YWE1YmU2ZjlkNzIgPSAkKCc8ZGl2IGlkPSJodG1sX2I2NzMyZjk2NWFhYTQyN2I4ZjRhNmFhNWJlNmY5ZDcyIiBzdHlsZT0id2lkdGg6IDEwMC4wJTsgaGVpZ2h0OiAxMDAuMCU7Ij5DbGltYiBpbnRvIHRoZSBQbHVzaCBCZWQgdG8gRG96ZSBhdCBhIFRyYW5xdWlsIFVyYmFuIFJldHJlYXQ8L2Rpdj4nKVswXTsKICAgICAgICAgICAgICAgIHBvcHVwX2VhYjgwNDVmNDI5YjQ4YTA4NGIzZGVkNmRlNmIyZjk1LnNldENvbnRlbnQoaHRtbF9iNjczMmY5NjVhYWE0MjdiOGY0YTZhYTViZTZmOWQ3Mik7CiAgICAgICAgICAgIAoKICAgICAgICAgICAgY2lyY2xlX21hcmtlcl8wMTc1ZTU2YmE4MDg0Nzc0ODZhYTYzZDBmMjVlMmRhZC5iaW5kUG9wdXAocG9wdXBfZWFiODA0NWY0MjliNDhhMDg0YjNkZWQ2ZGU2YjJmOTUpOwoKICAgICAgICAgICAgCiAgICAgICAgCiAgICAKICAgICAgICAgICAgdmFyIGNpcmNsZV9tYXJrZXJfNzAwMDk1ZGY5ZDRiNDA5YzgyNWRiZjQ0NmVkMzEzYzcgPSBMLmNpcmNsZU1hcmtlcigKICAgICAgICAgICAgICAgIFs0Ny42MTMzNywtMTIyLjM0MzkzXSwKICAgICAgICAgICAgICAgIHsKICAiYnViYmxpbmdNb3VzZUV2ZW50cyI6IHRydWUsCiAgImNvbG9yIjogImJsdWUiLAogICJkYXNoQXJyYXkiOiBudWxsLAogICJkYXNoT2Zmc2V0IjogbnVsbCwKICAiZmlsbCI6IHRydWUsCiAgImZpbGxDb2xvciI6ICIjMzE4NmNjIiwKICAiZmlsbE9wYWNpdHkiOiAwLjcsCiAgImZpbGxSdWxlIjogImV2ZW5vZGQiLAogICJsaW5lQ2FwIjogInJvdW5kIiwKICAibGluZUpvaW4iOiAicm91bmQiLAogICJvcGFjaXR5IjogMS4wLAogICJyYWRpdXMiOiAzLAogICJzdHJva2UiOiB0cnVlLAogICJ3ZWlnaHQiOiAzCn0KICAgICAgICAgICAgICAgICkuYWRkVG8obWFwX2RjZGVmY2YzMmIxZTQzMWJiNzdjMTViYzhiMDA0NzI2KTsKICAgICAgICAgICAgCiAgICAKICAgICAgICAgICAgdmFyIHBvcHVwXzljZTgyYTQzMDJkYTQ0NWQ4ODY1Yjc4OWZiYjVkMDQ4ID0gTC5wb3B1cCh7bWF4V2lkdGg6ICczMDAnfSk7CgogICAgICAgICAgICAKICAgICAgICAgICAgICAgIHZhciBodG1sXzVhOWU3NDIwMDQyNzQ4ODg4NmYyMzhkN2JkYTdjMzY0ID0gJCgnPGRpdiBpZD0iaHRtbF81YTllNzQyMDA0Mjc0ODg4ODZmMjM4ZDdiZGE3YzM2NCIgc3R5bGU9IndpZHRoOiAxMDAuMCU7IGhlaWdodDogMTAwLjAlOyI+Q2VudGVyIG9mIFNlYXR0bGUsICB3aXRoIEdyZWF0IENpdHkgVmlld3MhISE8L2Rpdj4nKVswXTsKICAgICAgICAgICAgICAgIHBvcHVwXzljZTgyYTQzMDJkYTQ0NWQ4ODY1Yjc4OWZiYjVkMDQ4LnNldENvbnRlbnQoaHRtbF81YTllNzQyMDA0Mjc0ODg4ODZmMjM4ZDdiZGE3YzM2NCk7CiAgICAgICAgICAgIAoKICAgICAgICAgICAgY2lyY2xlX21hcmtlcl83MDAwOTVkZjlkNGI0MDljODI1ZGJmNDQ2ZWQzMTNjNy5iaW5kUG9wdXAocG9wdXBfOWNlODJhNDMwMmRhNDQ1ZDg4NjViNzg5ZmJiNWQwNDgpOwoKICAgICAgICAgICAgCiAgICAgICAgCiAgICAKICAgICAgICAgICAgdmFyIGNpcmNsZV9tYXJrZXJfZDgyODJlMzlmYTE4NDNlMTg3NTdiNDIzMGI0ZjgwNzkgPSBMLmNpcmNsZU1hcmtlcigKICAgICAgICAgICAgICAgIFs0Ny42MTM0NDAwMDAwMDAwMDQsLTEyMi4zNDM5ODk5OTk5OTk5OV0sCiAgICAgICAgICAgICAgICB7CiAgImJ1YmJsaW5nTW91c2VFdmVudHMiOiB0cnVlLAogICJjb2xvciI6ICJibHVlIiwKICAiZGFzaEFycmF5IjogbnVsbCwKICAiZGFzaE9mZnNldCI6IG51bGwsCiAgImZpbGwiOiB0cnVlLAogICJmaWxsQ29sb3IiOiAiIzMxODZjYyIsCiAgImZpbGxPcGFjaXR5IjogMC43LAogICJmaWxsUnVsZSI6ICJldmVub2RkIiwKICAibGluZUNhcCI6ICJyb3VuZCIsCiAgImxpbmVKb2luIjogInJvdW5kIiwKICAib3BhY2l0eSI6IDEuMCwKICAicmFkaXVzIjogMywKICAic3Ryb2tlIjogdHJ1ZSwKICAid2VpZ2h0IjogMwp9CiAgICAgICAgICAgICAgICApLmFkZFRvKG1hcF9kY2RlZmNmMzJiMWU0MzFiYjc3YzE1YmM4YjAwNDcyNik7CiAgICAgICAgICAgIAogICAgCiAgICAgICAgICAgIHZhciBwb3B1cF81OGQ1Zjg1ZDI1YmE0MTA4ODIyNWIyMzY2NTdjY2MyYiA9IEwucG9wdXAoe21heFdpZHRoOiAnMzAwJ30pOwoKICAgICAgICAgICAgCiAgICAgICAgICAgICAgICB2YXIgaHRtbF8yMTA1OTVhODQ1YTM0ZjY5YjIyOTg5OGVjOWNlZjQ2MCA9ICQoJzxkaXYgaWQ9Imh0bWxfMjEwNTk1YTg0NWEzNGY2OWIyMjk4OThlYzljZWY0NjAiIHN0eWxlPSJ3aWR0aDogMTAwLjAlOyBoZWlnaHQ6IDEwMC4wJTsiPlNwYWNpb3VzIFN0dWRpbywgSGVhcnQgb2YgdGhlIENpdHkhISE8L2Rpdj4nKVswXTsKICAgICAgICAgICAgICAgIHBvcHVwXzU4ZDVmODVkMjViYTQxMDg4MjI1YjIzNjY1N2NjYzJiLnNldENvbnRlbnQoaHRtbF8yMTA1OTVhODQ1YTM0ZjY5YjIyOTg5OGVjOWNlZjQ2MCk7CiAgICAgICAgICAgIAoKICAgICAgICAgICAgY2lyY2xlX21hcmtlcl9kODI4MmUzOWZhMTg0M2UxODc1N2I0MjMwYjRmODA3OS5iaW5kUG9wdXAocG9wdXBfNThkNWY4NWQyNWJhNDEwODgyMjViMjM2NjU3Y2NjMmIpOwoKICAgICAgICAgICAgCiAgICAgICAgCiAgICAKICAgICAgICAgICAgdmFyIGNpcmNsZV9tYXJrZXJfOGIyZmQyYmEzZWZjNDkxZmIyYWMzMzdlNWIzZTIyNDQgPSBMLmNpcmNsZU1hcmtlcigKICAgICAgICAgICAgICAgIFs0Ny42MTM2MywtMTIyLjM0NDQ4XSwKICAgICAgICAgICAgICAgIHsKICAiYnViYmxpbmdNb3VzZUV2ZW50cyI6IHRydWUsCiAgImNvbG9yIjogImJsdWUiLAogICJkYXNoQXJyYXkiOiBudWxsLAogICJkYXNoT2Zmc2V0IjogbnVsbCwKICAiZmlsbCI6IHRydWUsCiAgImZpbGxDb2xvciI6ICIjMzE4NmNjIiwKICAiZmlsbE9wYWNpdHkiOiAwLjcsCiAgImZpbGxSdWxlIjogImV2ZW5vZGQiLAogICJsaW5lQ2FwIjogInJvdW5kIiwKICAibGluZUpvaW4iOiAicm91bmQiLAogICJvcGFjaXR5IjogMS4wLAogICJyYWRpdXMiOiAzLAogICJzdHJva2UiOiB0cnVlLAogICJ3ZWlnaHQiOiAzCn0KICAgICAgICAgICAgICAgICkuYWRkVG8obWFwX2RjZGVmY2YzMmIxZTQzMWJiNzdjMTViYzhiMDA0NzI2KTsKICAgICAgICAgICAgCiAgICAKICAgICAgICAgICAgdmFyIHBvcHVwXzljYWZmNzBmNzIwYjQ4NGViNjZmODBjYzllMWQ4MThjID0gTC5wb3B1cCh7bWF4V2lkdGg6ICczMDAnfSk7CgogICAgICAgICAgICAKICAgICAgICAgICAgICAgIHZhciBodG1sX2IzMTBjN2Q4Y2Q5OTQxMzE5ZTMyOGI2OWFmMWVjYjQ1ID0gJCgnPGRpdiBpZD0iaHRtbF9iMzEwYzdkOGNkOTk0MTMxOWUzMjhiNjlhZjFlY2I0NSIgc3R5bGU9IndpZHRoOiAxMDAuMCU7IGhlaWdodDogMTAwLjAlOyI+RG93bnRvd24gU2VhdHRsZSB3LyBMYXJnZSBLaXRjaGVuIGFuZCBCYXRocm9vbTwvZGl2PicpWzBdOwogICAgICAgICAgICAgICAgcG9wdXBfOWNhZmY3MGY3MjBiNDg0ZWI2NmY4MGNjOWUxZDgxOGMuc2V0Q29udGVudChodG1sX2IzMTBjN2Q4Y2Q5OTQxMzE5ZTMyOGI2OWFmMWVjYjQ1KTsKICAgICAgICAgICAgCgogICAgICAgICAgICBjaXJjbGVfbWFya2VyXzhiMmZkMmJhM2VmYzQ5MWZiMmFjMzM3ZTViM2UyMjQ0LmJpbmRQb3B1cChwb3B1cF85Y2FmZjcwZjcyMGI0ODRlYjY2ZjgwY2M5ZTFkODE4Yyk7CgogICAgICAgICAgICAKICAgICAgICAKICAgIAogICAgICAgICAgICB2YXIgY2lyY2xlX21hcmtlcl84YzY0M2M2ZGFjMTQ0MDg4ODc0NjljOGIwNDI2NzQ4ZSA9IEwuY2lyY2xlTWFya2VyKAogICAgICAgICAgICAgICAgWzQ3LjYxMzM3LC0xMjIuMzQzODg5OTk5OTk5OTldLAogICAgICAgICAgICAgICAgewogICJidWJibGluZ01vdXNlRXZlbnRzIjogdHJ1ZSwKICAiY29sb3IiOiAiYmx1ZSIsCiAgImRhc2hBcnJheSI6IG51bGwsCiAgImRhc2hPZmZzZXQiOiBudWxsLAogICJmaWxsIjogdHJ1ZSwKICAiZmlsbENvbG9yIjogIiMzMTg2Y2MiLAogICJmaWxsT3BhY2l0eSI6IDAuNywKICAiZmlsbFJ1bGUiOiAiZXZlbm9kZCIsCiAgImxpbmVDYXAiOiAicm91bmQiLAogICJsaW5lSm9pbiI6ICJyb3VuZCIsCiAgIm9wYWNpdHkiOiAxLjAsCiAgInJhZGl1cyI6IDMsCiAgInN0cm9rZSI6IHRydWUsCiAgIndlaWdodCI6IDMKfQogICAgICAgICAgICAgICAgKS5hZGRUbyhtYXBfZGNkZWZjZjMyYjFlNDMxYmI3N2MxNWJjOGIwMDQ3MjYpOwogICAgICAgICAgICAKICAgIAogICAgICAgICAgICB2YXIgcG9wdXBfM2UxMTQ1NmJmMThhNDMxMTk0MmEwMGM4YzAzY2RhOWUgPSBMLnBvcHVwKHttYXhXaWR0aDogJzMwMCd9KTsKCiAgICAgICAgICAgIAogICAgICAgICAgICAgICAgdmFyIGh0bWxfZDE5ZDBlNTIxMDIxNDg0MWExMThjNTU5YjI2YjQzZTMgPSAkKCc8ZGl2IGlkPSJodG1sX2QxOWQwZTUyMTAyMTQ4NDFhMTE4YzU1OWIyNmI0M2UzIiBzdHlsZT0id2lkdGg6IDEwMC4wJTsgaGVpZ2h0OiAxMDAuMCU7Ij5IZWFydCBvZiBEb3dudG93biBTZWF0dGxlPC9kaXY+JylbMF07CiAgICAgICAgICAgICAgICBwb3B1cF8zZTExNDU2YmYxOGE0MzExOTQyYTAwYzhjMDNjZGE5ZS5zZXRDb250ZW50KGh0bWxfZDE5ZDBlNTIxMDIxNDg0MWExMThjNTU5YjI2YjQzZTMpOwogICAgICAgICAgICAKCiAgICAgICAgICAgIGNpcmNsZV9tYXJrZXJfOGM2NDNjNmRhYzE0NDA4ODg3NDY5YzhiMDQyNjc0OGUuYmluZFBvcHVwKHBvcHVwXzNlMTE0NTZiZjE4YTQzMTE5NDJhMDBjOGMwM2NkYTllKTsKCiAgICAgICAgICAgIAogICAgICAgIAogICAgCiAgICAgICAgICAgIHZhciBjaXJjbGVfbWFya2VyXzQzYWZlZWZhZjFmNjQ0ZDNhZGRlMGU4ZWRhZDBiNjhmID0gTC5jaXJjbGVNYXJrZXIoCiAgICAgICAgICAgICAgICBbNDcuNjEzMzQsLTEyMi4zNDQwMTAwMDAwMDAwMV0sCiAgICAgICAgICAgICAgICB7CiAgImJ1YmJsaW5nTW91c2VFdmVudHMiOiB0cnVlLAogICJjb2xvciI6ICJibHVlIiwKICAiZGFzaEFycmF5IjogbnVsbCwKICAiZGFzaE9mZnNldCI6IG51bGwsCiAgImZpbGwiOiB0cnVlLAogICJmaWxsQ29sb3IiOiAiIzMxODZjYyIsCiAgImZpbGxPcGFjaXR5IjogMC43LAogICJmaWxsUnVsZSI6ICJldmVub2RkIiwKICAibGluZUNhcCI6ICJyb3VuZCIsCiAgImxpbmVKb2luIjogInJvdW5kIiwKICAib3BhY2l0eSI6IDEuMCwKICAicmFkaXVzIjogMywKICAic3Ryb2tlIjogdHJ1ZSwKICAid2VpZ2h0IjogMwp9CiAgICAgICAgICAgICAgICApLmFkZFRvKG1hcF9kY2RlZmNmMzJiMWU0MzFiYjc3YzE1YmM4YjAwNDcyNik7CiAgICAgICAgICAgIAogICAgCiAgICAgICAgICAgIHZhciBwb3B1cF8xZjI2ODY2MzdkNjA0ZTZmYjRjYzg5ZTQxOTNlYWUxYSA9IEwucG9wdXAoe21heFdpZHRoOiAnMzAwJ30pOwoKICAgICAgICAgICAgCiAgICAgICAgICAgICAgICB2YXIgaHRtbF83ZDAzMzc3NzViMjA0OWY0Yjk4NWI1YWVjMjc0NWY1YyA9ICQoJzxkaXYgaWQ9Imh0bWxfN2QwMzM3Nzc1YjIwNDlmNGI5ODViNWFlYzI3NDVmNWMiIHN0eWxlPSJ3aWR0aDogMTAwLjAlOyBoZWlnaHQ6IDEwMC4wJTsiPkxvdmVseSBIaXN0b3JpY2FsIEFwYXJ0bWVudCwgV2l0aCBHcmVhdCBWaWV3cyEhITwvZGl2PicpWzBdOwogICAgICAgICAgICAgICAgcG9wdXBfMWYyNjg2NjM3ZDYwNGU2ZmI0Y2M4OWU0MTkzZWFlMWEuc2V0Q29udGVudChodG1sXzdkMDMzNzc3NWIyMDQ5ZjRiOTg1YjVhZWMyNzQ1ZjVjKTsKICAgICAgICAgICAgCgogICAgICAgICAgICBjaXJjbGVfbWFya2VyXzQzYWZlZWZhZjFmNjQ0ZDNhZGRlMGU4ZWRhZDBiNjhmLmJpbmRQb3B1cChwb3B1cF8xZjI2ODY2MzdkNjA0ZTZmYjRjYzg5ZTQxOTNlYWUxYSk7CgogICAgICAgICAgICAKICAgICAgICAKICAgIAoKICAgICAgICAgICAgdmFyIG1hcmtlcl8zNzk5ZTE2ZTNhMDc0YTFjODdjN2ZkNzMzZjQzYjE0MiA9IEwubWFya2VyKAogICAgICAgICAgICAgICAgWzQ3LjYwMDQ0LC0xMjIuMzMyOThdLAogICAgICAgICAgICAgICAgewogICAgICAgICAgICAgICAgICAgIGljb246IG5ldyBMLkljb24uRGVmYXVsdCgpCiAgICAgICAgICAgICAgICAgICAgfQogICAgICAgICAgICAgICAgKQogICAgICAgICAgICAgICAgLmFkZFRvKG1hcF9kY2RlZmNmMzJiMWU0MzFiYjc3YzE1YmM4YjAwNDcyNik7CiAgICAgICAgICAgIAogICAgCiAgICAgICAgICAgIHZhciBwb3B1cF8xYjZmNWRhM2YyY2I0MTJiOTg5ZjFlZTU2MzQ4NmI4NSA9IEwucG9wdXAoe21heFdpZHRoOiAnMzAwJ30pOwoKICAgICAgICAgICAgCiAgICAgICAgICAgICAgICB2YXIgaHRtbF81Yzc0NDU5ZjM5Y2M0NzhiOTc2YzM2MmRiYmYwNzA5NyA9ICQoJzxkaXYgaWQ9Imh0bWxfNWM3NDQ1OWYzOWNjNDc4Yjk3NmMzNjJkYmJmMDcwOTciIHN0eWxlPSJ3aWR0aDogMTAwLjAlOyBoZWlnaHQ6IDEwMC4wJTsiPkhpc3RvcmljIGxvZnQgaW4gUGlvbmVlciBTcXVhcmU8L2Rpdj4nKVswXTsKICAgICAgICAgICAgICAgIHBvcHVwXzFiNmY1ZGEzZjJjYjQxMmI5ODlmMWVlNTYzNDg2Yjg1LnNldENvbnRlbnQoaHRtbF81Yzc0NDU5ZjM5Y2M0NzhiOTc2YzM2MmRiYmYwNzA5Nyk7CiAgICAgICAgICAgIAoKICAgICAgICAgICAgbWFya2VyXzM3OTllMTZlM2EwNzRhMWM4N2M3ZmQ3MzNmNDNiMTQyLmJpbmRQb3B1cChwb3B1cF8xYjZmNWRhM2YyY2I0MTJiOTg5ZjFlZTU2MzQ4NmI4NSk7CgogICAgICAgICAgICAKICAgICAgICAKICAgIAoKICAgICAgICAgICAgdmFyIG1hcmtlcl80ODM0OWE0ZGI4YjY0NTEzYWYwOTM3NTU1ODk1MzYwOSA9IEwubWFya2VyKAogICAgICAgICAgICAgICAgWzQ3LjYwODA5MDAwMDAwMDAwNCwtMTIyLjM0MDc4MDAwMDAwMDAxXSwKICAgICAgICAgICAgICAgIHsKICAgICAgICAgICAgICAgICAgICBpY29uOiBuZXcgTC5JY29uLkRlZmF1bHQoKQogICAgICAgICAgICAgICAgICAgIH0KICAgICAgICAgICAgICAgICkKICAgICAgICAgICAgICAgIC5hZGRUbyhtYXBfZGNkZWZjZjMyYjFlNDMxYmI3N2MxNWJjOGIwMDQ3MjYpOwogICAgICAgICAgICAKICAgIAogICAgICAgICAgICB2YXIgcG9wdXBfOGI2OTE2MmJiYzEzNGZjM2FjNGQwYTZlYTFiODEyZGEgPSBMLnBvcHVwKHttYXhXaWR0aDogJzMwMCd9KTsKCiAgICAgICAgICAgIAogICAgICAgICAgICAgICAgdmFyIGh0bWxfMjY5ZWM1MzFmMDZhNGMyYTk5NDM0N2VlMTA3MTcxMzkgPSAkKCc8ZGl2IGlkPSJodG1sXzI2OWVjNTMxZjA2YTRjMmE5OTQzNDdlZTEwNzE3MTM5IiBzdHlsZT0id2lkdGg6IDEwMC4wJTsgaGVpZ2h0OiAxMDAuMCU7Ij5DcnVpc2Ugc2hpcHMsIEd1bXdhbGwgJiBQaWtlIFBsYWNlIERvd250b3duIFN1aXRlITwvZGl2PicpWzBdOwogICAgICAgICAgICAgICAgcG9wdXBfOGI2OTE2MmJiYzEzNGZjM2FjNGQwYTZlYTFiODEyZGEuc2V0Q29udGVudChodG1sXzI2OWVjNTMxZjA2YTRjMmE5OTQzNDdlZTEwNzE3MTM5KTsKICAgICAgICAgICAgCgogICAgICAgICAgICBtYXJrZXJfNDgzNDlhNGRiOGI2NDUxM2FmMDkzNzU1NTg5NTM2MDkuYmluZFBvcHVwKHBvcHVwXzhiNjkxNjJiYmMxMzRmYzNhYzRkMGE2ZWExYjgxMmRhKTsKCiAgICAgICAgICAgIAogICAgICAgIAogICAgCgogICAgICAgICAgICB2YXIgbWFya2VyXzQ4ZGU0NzcxNjliODQwZWI5YjhkNGQxYzc4Y2EyOWYxID0gTC5tYXJrZXIoCiAgICAgICAgICAgICAgICBbNDcuNjA0NjQsLTEyMi4zMjAyMzAwMDAwMDAwMV0sCiAgICAgICAgICAgICAgICB7CiAgICAgICAgICAgICAgICAgICAgaWNvbjogbmV3IEwuSWNvbi5EZWZhdWx0KCkKICAgICAgICAgICAgICAgICAgICB9CiAgICAgICAgICAgICAgICApCiAgICAgICAgICAgICAgICAuYWRkVG8obWFwX2RjZGVmY2YzMmIxZTQzMWJiNzdjMTViYzhiMDA0NzI2KTsKICAgICAgICAgICAgCiAgICAKICAgICAgICAgICAgdmFyIHBvcHVwXzQ5MDViMDY5YTJlYzRmYjliNGRhOGM4M2RiMWRhMTg1ID0gTC5wb3B1cCh7bWF4V2lkdGg6ICczMDAnfSk7CgogICAgICAgICAgICAKICAgICAgICAgICAgICAgIHZhciBodG1sX2E3MGQ0OGIyZTQ0MjRmZDQ4ZGYzZTJkZWIzMDAwMGNjID0gJCgnPGRpdiBpZD0iaHRtbF9hNzBkNDhiMmU0NDI0ZmQ0OGRmM2UyZGViMzAwMDBjYyIgc3R5bGU9IndpZHRoOiAxMDAuMCU7IGhlaWdodDogMTAwLjAlOyI+TEVFRCBQbGF0aW51bSBMb2Z0IE5lYXIgZG93bnRvd24vQ2FwaXRvbCBoaWxsPC9kaXY+JylbMF07CiAgICAgICAgICAgICAgICBwb3B1cF80OTA1YjA2OWEyZWM0ZmI5YjRkYThjODNkYjFkYTE4NS5zZXRDb250ZW50KGh0bWxfYTcwZDQ4YjJlNDQyNGZkNDhkZjNlMmRlYjMwMDAwY2MpOwogICAgICAgICAgICAKCiAgICAgICAgICAgIG1hcmtlcl80OGRlNDc3MTY5Yjg0MGViOWI4ZDRkMWM3OGNhMjlmMS5iaW5kUG9wdXAocG9wdXBfNDkwNWIwNjlhMmVjNGZiOWI0ZGE4YzgzZGIxZGExODUpOwoKICAgICAgICAgICAgCiAgICAgICAgCiAgICAKCiAgICAgICAgICAgIHZhciBtYXJrZXJfODJmMzJkNTA3M2U4NDU3ZWI4OWY0YWYwNTVmZjM2ZWMgPSBMLm1hcmtlcigKICAgICAgICAgICAgICAgIFs0Ny42MTM0MiwtMTIyLjMyMTg5XSwKICAgICAgICAgICAgICAgIHsKICAgICAgICAgICAgICAgICAgICBpY29uOiBuZXcgTC5JY29uLkRlZmF1bHQoKQogICAgICAgICAgICAgICAgICAgIH0KICAgICAgICAgICAgICAgICkKICAgICAgICAgICAgICAgIC5hZGRUbyhtYXBfZGNkZWZjZjMyYjFlNDMxYmI3N2MxNWJjOGIwMDQ3MjYpOwogICAgICAgICAgICAKICAgIAogICAgICAgICAgICB2YXIgcG9wdXBfYmU4MjljODBhYjExNGU4MGE1OWIyZDZmZjU5MjZlMDIgPSBMLnBvcHVwKHttYXhXaWR0aDogJzMwMCd9KTsKCiAgICAgICAgICAgIAogICAgICAgICAgICAgICAgdmFyIGh0bWxfZmFmZGQ2NDJhZTg2NGE0MDg0ZGQwODE5NWMxMTNhNzAgPSAkKCc8ZGl2IGlkPSJodG1sX2ZhZmRkNjQyYWU4NjRhNDA4NGRkMDgxOTVjMTEzYTcwIiBzdHlsZT0id2lkdGg6IDEwMC4wJTsgaGVpZ2h0OiAxMDAuMCU7Ij5QaWtlLCBXYWxrLXNjb3JlIDk5LCBMb2Z0LCBMaXZlL3Zpc2l0IENhcGl0b2wgSGlsbDwvZGl2PicpWzBdOwogICAgICAgICAgICAgICAgcG9wdXBfYmU4MjljODBhYjExNGU4MGE1OWIyZDZmZjU5MjZlMDIuc2V0Q29udGVudChodG1sX2ZhZmRkNjQyYWU4NjRhNDA4NGRkMDgxOTVjMTEzYTcwKTsKICAgICAgICAgICAgCgogICAgICAgICAgICBtYXJrZXJfODJmMzJkNTA3M2U4NDU3ZWI4OWY0YWYwNTVmZjM2ZWMuYmluZFBvcHVwKHBvcHVwX2JlODI5YzgwYWIxMTRlODBhNTliMmQ2ZmY1OTI2ZTAyKTsKCiAgICAgICAgICAgIAogICAgICAgIAogICAgCgogICAgICAgICAgICB2YXIgbWFya2VyXzJlNGYwMzhiOGM2ZjQwZTdhYmYwNDFjMzhmMWRhZmEzID0gTC5tYXJrZXIoCiAgICAgICAgICAgICAgICBbNDcuNjEzMSwtMTIyLjMyMzczOTk5OTk5OTk5XSwKICAgICAgICAgICAgICAgIHsKICAgICAgICAgICAgICAgICAgICBpY29uOiBuZXcgTC5JY29uLkRlZmF1bHQoKQogICAgICAgICAgICAgICAgICAgIH0KICAgICAgICAgICAgICAgICkKICAgICAgICAgICAgICAgIC5hZGRUbyhtYXBfZGNkZWZjZjMyYjFlNDMxYmI3N2MxNWJjOGIwMDQ3MjYpOwogICAgICAgICAgICAKICAgIAogICAgICAgICAgICB2YXIgcG9wdXBfYzMyYWMzOTFmNTIyNDNiMGFhZWI1MGIyMzY0OGM3YWEgPSBMLnBvcHVwKHttYXhXaWR0aDogJzMwMCd9KTsKCiAgICAgICAgICAgIAogICAgICAgICAgICAgICAgdmFyIGh0bWxfNjc3OTExOGJlZGZjNGYwMTkwNzAyZGU3Njc0Y2Y0YmUgPSAkKCc8ZGl2IGlkPSJodG1sXzY3NzkxMThiZWRmYzRmMDE5MDcwMmRlNzY3NGNmNGJlIiBzdHlsZT0id2lkdGg6IDEwMC4wJTsgaGVpZ2h0OiAxMDAuMCU7Ij5DbGltYiBpbnRvIHRoZSBQbHVzaCBCZWQgdG8gRG96ZSBhdCBhIFRyYW5xdWlsIFVyYmFuIFJldHJlYXQ8L2Rpdj4nKVswXTsKICAgICAgICAgICAgICAgIHBvcHVwX2MzMmFjMzkxZjUyMjQzYjBhYWViNTBiMjM2NDhjN2FhLnNldENvbnRlbnQoaHRtbF82Nzc5MTE4YmVkZmM0ZjAxOTA3MDJkZTc2NzRjZjRiZSk7CiAgICAgICAgICAgIAoKICAgICAgICAgICAgbWFya2VyXzJlNGYwMzhiOGM2ZjQwZTdhYmYwNDFjMzhmMWRhZmEzLmJpbmRQb3B1cChwb3B1cF9jMzJhYzM5MWY1MjI0M2IwYWFlYjUwYjIzNjQ4YzdhYSk7CgogICAgICAgICAgICAKICAgICAgICAKICAgIAoKICAgICAgICAgICAgdmFyIG1hcmtlcl9lNjE0MGFhZTM2YWY0M2YwYjY5MzE2NDAzMGZjNjBiOCA9IEwubWFya2VyKAogICAgICAgICAgICAgICAgWzQ3LjYxMzM3LC0xMjIuMzQzOTNdLAogICAgICAgICAgICAgICAgewogICAgICAgICAgICAgICAgICAgIGljb246IG5ldyBMLkljb24uRGVmYXVsdCgpCiAgICAgICAgICAgICAgICAgICAgfQogICAgICAgICAgICAgICAgKQogICAgICAgICAgICAgICAgLmFkZFRvKG1hcF9kY2RlZmNmMzJiMWU0MzFiYjc3YzE1YmM4YjAwNDcyNik7CiAgICAgICAgICAgIAogICAgCiAgICAgICAgICAgIHZhciBwb3B1cF9lOGE5OTRlMDgwZWY0N2IwYTViMTM4ZjVmOGFkMjhkYiA9IEwucG9wdXAoe21heFdpZHRoOiAnMzAwJ30pOwoKICAgICAgICAgICAgCiAgICAgICAgICAgICAgICB2YXIgaHRtbF9lNDM0MDM2NTNjOGI0Y2ZiOTYzYjgwMjA2YmQ2MWU2MCA9ICQoJzxkaXYgaWQ9Imh0bWxfZTQzNDAzNjUzYzhiNGNmYjk2M2I4MDIwNmJkNjFlNjAiIHN0eWxlPSJ3aWR0aDogMTAwLjAlOyBoZWlnaHQ6IDEwMC4wJTsiPkNlbnRlciBvZiBTZWF0dGxlLCAgd2l0aCBHcmVhdCBDaXR5IFZpZXdzISEhPC9kaXY+JylbMF07CiAgICAgICAgICAgICAgICBwb3B1cF9lOGE5OTRlMDgwZWY0N2IwYTViMTM4ZjVmOGFkMjhkYi5zZXRDb250ZW50KGh0bWxfZTQzNDAzNjUzYzhiNGNmYjk2M2I4MDIwNmJkNjFlNjApOwogICAgICAgICAgICAKCiAgICAgICAgICAgIG1hcmtlcl9lNjE0MGFhZTM2YWY0M2YwYjY5MzE2NDAzMGZjNjBiOC5iaW5kUG9wdXAocG9wdXBfZThhOTk0ZTA4MGVmNDdiMGE1YjEzOGY1ZjhhZDI4ZGIpOwoKICAgICAgICAgICAgCiAgICAgICAgCiAgICAKCiAgICAgICAgICAgIHZhciBtYXJrZXJfY2ViMDUzNjRjNTI5NGI0M2JkOTZkYjIzMGVlMDM4ZjYgPSBMLm1hcmtlcigKICAgICAgICAgICAgICAgIFs0Ny42MTM0NDAwMDAwMDAwMDQsLTEyMi4zNDM5ODk5OTk5OTk5OV0sCiAgICAgICAgICAgICAgICB7CiAgICAgICAgICAgICAgICAgICAgaWNvbjogbmV3IEwuSWNvbi5EZWZhdWx0KCkKICAgICAgICAgICAgICAgICAgICB9CiAgICAgICAgICAgICAgICApCiAgICAgICAgICAgICAgICAuYWRkVG8obWFwX2RjZGVmY2YzMmIxZTQzMWJiNzdjMTViYzhiMDA0NzI2KTsKICAgICAgICAgICAgCiAgICAKICAgICAgICAgICAgdmFyIHBvcHVwXzEwMzJkZTkzN2U2NzRhZjE5YmE2YzY2YTQwNDBiOWNmID0gTC5wb3B1cCh7bWF4V2lkdGg6ICczMDAnfSk7CgogICAgICAgICAgICAKICAgICAgICAgICAgICAgIHZhciBodG1sXzUyNTMwMDNjMjg4MTQ5Yzk5YTA0YTI1ZGUzZWU5N2VkID0gJCgnPGRpdiBpZD0iaHRtbF81MjUzMDAzYzI4ODE0OWM5OWEwNGEyNWRlM2VlOTdlZCIgc3R5bGU9IndpZHRoOiAxMDAuMCU7IGhlaWdodDogMTAwLjAlOyI+U3BhY2lvdXMgU3R1ZGlvLCBIZWFydCBvZiB0aGUgQ2l0eSEhITwvZGl2PicpWzBdOwogICAgICAgICAgICAgICAgcG9wdXBfMTAzMmRlOTM3ZTY3NGFmMTliYTZjNjZhNDA0MGI5Y2Yuc2V0Q29udGVudChodG1sXzUyNTMwMDNjMjg4MTQ5Yzk5YTA0YTI1ZGUzZWU5N2VkKTsKICAgICAgICAgICAgCgogICAgICAgICAgICBtYXJrZXJfY2ViMDUzNjRjNTI5NGI0M2JkOTZkYjIzMGVlMDM4ZjYuYmluZFBvcHVwKHBvcHVwXzEwMzJkZTkzN2U2NzRhZjE5YmE2YzY2YTQwNDBiOWNmKTsKCiAgICAgICAgICAgIAogICAgICAgIAogICAgCgogICAgICAgICAgICB2YXIgbWFya2VyXzAxYzVlY2JkNzVlZDQwNjg5MTExY2ZkNWUxOWFjZDA4ID0gTC5tYXJrZXIoCiAgICAgICAgICAgICAgICBbNDcuNjEzNjMsLTEyMi4zNDQ0OF0sCiAgICAgICAgICAgICAgICB7CiAgICAgICAgICAgICAgICAgICAgaWNvbjogbmV3IEwuSWNvbi5EZWZhdWx0KCkKICAgICAgICAgICAgICAgICAgICB9CiAgICAgICAgICAgICAgICApCiAgICAgICAgICAgICAgICAuYWRkVG8obWFwX2RjZGVmY2YzMmIxZTQzMWJiNzdjMTViYzhiMDA0NzI2KTsKICAgICAgICAgICAgCiAgICAKICAgICAgICAgICAgdmFyIHBvcHVwX2JiNGQ2NzhhMmE4NDQ5ZmY4NGJmMWRjNzE4ZWJjOTY5ID0gTC5wb3B1cCh7bWF4V2lkdGg6ICczMDAnfSk7CgogICAgICAgICAgICAKICAgICAgICAgICAgICAgIHZhciBodG1sX2NiOTk3YWQxYjEyZTQ0ZmQ4MjdiNDY0Mjc2ODUyYzUxID0gJCgnPGRpdiBpZD0iaHRtbF9jYjk5N2FkMWIxMmU0NGZkODI3YjQ2NDI3Njg1MmM1MSIgc3R5bGU9IndpZHRoOiAxMDAuMCU7IGhlaWdodDogMTAwLjAlOyI+RG93bnRvd24gU2VhdHRsZSB3LyBMYXJnZSBLaXRjaGVuIGFuZCBCYXRocm9vbTwvZGl2PicpWzBdOwogICAgICAgICAgICAgICAgcG9wdXBfYmI0ZDY3OGEyYTg0NDlmZjg0YmYxZGM3MThlYmM5Njkuc2V0Q29udGVudChodG1sX2NiOTk3YWQxYjEyZTQ0ZmQ4MjdiNDY0Mjc2ODUyYzUxKTsKICAgICAgICAgICAgCgogICAgICAgICAgICBtYXJrZXJfMDFjNWVjYmQ3NWVkNDA2ODkxMTFjZmQ1ZTE5YWNkMDguYmluZFBvcHVwKHBvcHVwX2JiNGQ2NzhhMmE4NDQ5ZmY4NGJmMWRjNzE4ZWJjOTY5KTsKCiAgICAgICAgICAgIAogICAgICAgIAogICAgCgogICAgICAgICAgICB2YXIgbWFya2VyXzY3YjJjMGQwMWVmZTRhYmNhYWFiNjNiZDI4YTE1M2E0ID0gTC5tYXJrZXIoCiAgICAgICAgICAgICAgICBbNDcuNjEzMzcsLTEyMi4zNDM4ODk5OTk5OTk5OV0sCiAgICAgICAgICAgICAgICB7CiAgICAgICAgICAgICAgICAgICAgaWNvbjogbmV3IEwuSWNvbi5EZWZhdWx0KCkKICAgICAgICAgICAgICAgICAgICB9CiAgICAgICAgICAgICAgICApCiAgICAgICAgICAgICAgICAuYWRkVG8obWFwX2RjZGVmY2YzMmIxZTQzMWJiNzdjMTViYzhiMDA0NzI2KTsKICAgICAgICAgICAgCiAgICAKICAgICAgICAgICAgdmFyIHBvcHVwXzljNDE0ZTE3OTAyOTQ4Njk4ZjhjYWY0YzIyNmM4ODcwID0gTC5wb3B1cCh7bWF4V2lkdGg6ICczMDAnfSk7CgogICAgICAgICAgICAKICAgICAgICAgICAgICAgIHZhciBodG1sXzZkZTVjNGU5ZWMyOTQ1NGJiZWFlNzRjYTIyMmI0OWI1ID0gJCgnPGRpdiBpZD0iaHRtbF82ZGU1YzRlOWVjMjk0NTRiYmVhZTc0Y2EyMjJiNDliNSIgc3R5bGU9IndpZHRoOiAxMDAuMCU7IGhlaWdodDogMTAwLjAlOyI+SGVhcnQgb2YgRG93bnRvd24gU2VhdHRsZTwvZGl2PicpWzBdOwogICAgICAgICAgICAgICAgcG9wdXBfOWM0MTRlMTc5MDI5NDg2OThmOGNhZjRjMjI2Yzg4NzAuc2V0Q29udGVudChodG1sXzZkZTVjNGU5ZWMyOTQ1NGJiZWFlNzRjYTIyMmI0OWI1KTsKICAgICAgICAgICAgCgogICAgICAgICAgICBtYXJrZXJfNjdiMmMwZDAxZWZlNGFiY2FhYWI2M2JkMjhhMTUzYTQuYmluZFBvcHVwKHBvcHVwXzljNDE0ZTE3OTAyOTQ4Njk4ZjhjYWY0YzIyNmM4ODcwKTsKCiAgICAgICAgICAgIAogICAgICAgIAogICAgCgogICAgICAgICAgICB2YXIgbWFya2VyXzBmMzY3NTViYTAwOTQ3MTk5M2E1MTQ4YTg0NWY5M2MzID0gTC5tYXJrZXIoCiAgICAgICAgICAgICAgICBbNDcuNjEzMzQsLTEyMi4zNDQwMTAwMDAwMDAwMV0sCiAgICAgICAgICAgICAgICB7CiAgICAgICAgICAgICAgICAgICAgaWNvbjogbmV3IEwuSWNvbi5EZWZhdWx0KCkKICAgICAgICAgICAgICAgICAgICB9CiAgICAgICAgICAgICAgICApCiAgICAgICAgICAgICAgICAuYWRkVG8obWFwX2RjZGVmY2YzMmIxZTQzMWJiNzdjMTViYzhiMDA0NzI2KTsKICAgICAgICAgICAgCiAgICAKICAgICAgICAgICAgdmFyIHBvcHVwXzYxMmE0MWJhMjFhODRlYjc4NzVjYTM2MjUzZWMxMTg1ID0gTC5wb3B1cCh7bWF4V2lkdGg6ICczMDAnfSk7CgogICAgICAgICAgICAKICAgICAgICAgICAgICAgIHZhciBodG1sX2MzOTRjNzViMDVmMTQ5YWViMzIxOWIzMTJiYmY3MWE0ID0gJCgnPGRpdiBpZD0iaHRtbF9jMzk0Yzc1YjA1ZjE0OWFlYjMyMTliMzEyYmJmNzFhNCIgc3R5bGU9IndpZHRoOiAxMDAuMCU7IGhlaWdodDogMTAwLjAlOyI+TG92ZWx5IEhpc3RvcmljYWwgQXBhcnRtZW50LCBXaXRoIEdyZWF0IFZpZXdzISEhPC9kaXY+JylbMF07CiAgICAgICAgICAgICAgICBwb3B1cF82MTJhNDFiYTIxYTg0ZWI3ODc1Y2EzNjI1M2VjMTE4NS5zZXRDb250ZW50KGh0bWxfYzM5NGM3NWIwNWYxNDlhZWIzMjE5YjMxMmJiZjcxYTQpOwogICAgICAgICAgICAKCiAgICAgICAgICAgIG1hcmtlcl8wZjM2NzU1YmEwMDk0NzE5OTNhNTE0OGE4NDVmOTNjMy5iaW5kUG9wdXAocG9wdXBfNjEyYTQxYmEyMWE4NGViNzg3NWNhMzYyNTNlYzExODUpOwoKICAgICAgICAgICAgCiAgICAgICAgCjwvc2NyaXB0Pg== onload=\"this.contentDocument.open();this.contentDocument.write(atob(this.getAttribute('data-html')));this.contentDocument.close();\" allowfullscreen webkitallowfullscreen mozallowfullscreen></iframe></div></div>"
      ],
      "text/plain": [
       "<folium.folium.Map at 0x7f0aa2850fd0>"
      ]
     },
     "execution_count": 38,
     "metadata": {},
     "output_type": "execute_result"
    }
   ],
   "source": [
    "# create map of Seattle downtown using latitude and longitude values\n",
    "map_seattle_downtown = folium.Map(location=[47.6050, -122.3344], zoom_start=11)\n",
    "\n",
    "# add blue markers for top 10 rentals to the map\n",
    "for lat, lng, label in zip(rental_downtown['latitude'].iloc[0:10],\n",
    "                           rental_downtown['longitude'].iloc[0:10],\n",
    "                           rental_downtown['name'].iloc[0:10]):\n",
    "    label = folium.Popup(label, parse_html=True)\n",
    "    folium.CircleMarker(\n",
    "        [lat, lng],\n",
    "        radius=3,\n",
    "        popup=label,\n",
    "        color='blue',\n",
    "        fill=True,\n",
    "        fill_color='#3186cc',\n",
    "        fill_opacity=0.7,\n",
    "        parse_html=False).add_to(map_seattle_downtown)\n",
    "\n",
    "# add pop-up text to show the rental name\n",
    "for lat, lng, label in zip(rental_downtown['latitude'].iloc[0:10],\n",
    "                           rental_downtown['longitude'].iloc[0:10],\n",
    "                           rental_downtown['name'].iloc[0:10]):\n",
    "        folium.Marker([lat, lng], popup=label).add_to(map_seattle_downtown) \n",
    "        \n",
    "map_seattle_downtown"
   ]
  },
  {
   "cell_type": "markdown",
   "metadata": {},
   "source": [
    "#### Thanks for reading!"
   ]
  }
 ],
 "metadata": {
  "kernelspec": {
   "display_name": "Python",
   "language": "python",
   "name": "conda-env-python-py"
  },
  "language_info": {
   "codemirror_mode": {
    "name": "ipython",
    "version": 3
   },
   "file_extension": ".py",
   "mimetype": "text/x-python",
   "name": "python",
   "nbconvert_exporter": "python",
   "pygments_lexer": "ipython3",
   "version": "3.6.10"
  }
 },
 "nbformat": 4,
 "nbformat_minor": 4
}
