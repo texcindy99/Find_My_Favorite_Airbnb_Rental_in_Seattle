{
 "cells": [
  {
   "cell_type": "markdown",
   "metadata": {},
   "source": [
    "# Your Best Choice of Airbnb in Seattle\n",
    "### I am planning a trip to Seattle for 3 days and want to book a nice place from Airbnb with a reasonable price. Here is what I am doing using Airbnb data retrieved online *(http://insideairbnb.com/get-the-data.html)*. "
   ]
  },
  {
   "cell_type": "code",
   "execution_count": 1,
   "metadata": {},
   "outputs": [],
   "source": [
    "import numpy as np\n",
    "import pandas as pd\n",
    "import matplotlib.pyplot as plt\n",
    "from sklearn.linear_model import LinearRegression\n",
    "from sklearn.model_selection import train_test_split\n",
    "from sklearn.metrics import r2_score, mean_squared_error\n",
    "import seaborn as sns\n",
    "import folium # map rendering library\n",
    "%matplotlib inline"
   ]
  },
  {
   "cell_type": "markdown",
   "metadata": {},
   "source": [
    "### Load data "
   ]
  },
  {
   "cell_type": "code",
   "execution_count": 2,
   "metadata": {},
   "outputs": [
    {
     "name": "stdout",
     "output_type": "stream",
     "text": [
      "--2020-06-06 00:14:11--  http://data.insideairbnb.com/united-states/wa/seattle/2020-04-23/visualisations/listings.csv\n",
      "Resolving data.insideairbnb.com (data.insideairbnb.com)... 52.216.207.194\n",
      "Connecting to data.insideairbnb.com (data.insideairbnb.com)|52.216.207.194|:80... connected.\n",
      "HTTP request sent, awaiting response... 200 OK\n",
      "Length: 1127379 (1.1M) [application/csv]\n",
      "Saving to: ‘listings.csv’\n",
      "\n",
      "listings.csv        100%[===================>]   1.07M  4.96MB/s    in 0.2s    \n",
      "\n",
      "2020-06-06 00:14:12 (4.96 MB/s) - ‘listings.csv’ saved [1127379/1127379]\n",
      "\n",
      "--2020-06-06 00:14:12--  http://data.insideairbnb.com/united-states/wa/seattle/2020-04-23/data/reviews.csv.gz\n",
      "Resolving data.insideairbnb.com (data.insideairbnb.com)... 52.216.207.194\n",
      "Connecting to data.insideairbnb.com (data.insideairbnb.com)|52.216.207.194|:80... connected.\n",
      "HTTP request sent, awaiting response... 200 OK\n",
      "Length: 43997555 (42M) [application/x-gzip]\n",
      "Saving to: ‘reviews.csv.gz’\n",
      "\n",
      "reviews.csv.gz      100%[===================>]  41.96M  19.2MB/s    in 2.2s    \n",
      "\n",
      "2020-06-06 00:14:14 (19.2 MB/s) - ‘reviews.csv.gz’ saved [43997555/43997555]\n",
      "\n"
     ]
    }
   ],
   "source": [
    "# downLoad online data file\n",
    "!wget -O listings.csv http://data.insideairbnb.com/united-states/wa/seattle/2020-04-23/visualisations/listings.csv\n",
    "!wget -O reviews.csv.gz http://data.insideairbnb.com/united-states/wa/seattle/2020-04-23/data/reviews.csv.gz    "
   ]
  },
  {
   "cell_type": "code",
   "execution_count": 3,
   "metadata": {},
   "outputs": [
    {
     "data": {
      "text/html": [
       "<div>\n",
       "<style scoped>\n",
       "    .dataframe tbody tr th:only-of-type {\n",
       "        vertical-align: middle;\n",
       "    }\n",
       "\n",
       "    .dataframe tbody tr th {\n",
       "        vertical-align: top;\n",
       "    }\n",
       "\n",
       "    .dataframe thead th {\n",
       "        text-align: right;\n",
       "    }\n",
       "</style>\n",
       "<table border=\"1\" class=\"dataframe\">\n",
       "  <thead>\n",
       "    <tr style=\"text-align: right;\">\n",
       "      <th></th>\n",
       "      <th>id</th>\n",
       "      <th>name</th>\n",
       "      <th>host_id</th>\n",
       "      <th>host_name</th>\n",
       "      <th>neighbourhood_group</th>\n",
       "      <th>neighbourhood</th>\n",
       "      <th>latitude</th>\n",
       "      <th>longitude</th>\n",
       "      <th>room_type</th>\n",
       "      <th>price</th>\n",
       "      <th>minimum_nights</th>\n",
       "      <th>number_of_reviews</th>\n",
       "      <th>last_review</th>\n",
       "      <th>reviews_per_month</th>\n",
       "      <th>calculated_host_listings_count</th>\n",
       "      <th>availability_365</th>\n",
       "    </tr>\n",
       "  </thead>\n",
       "  <tbody>\n",
       "    <tr>\n",
       "      <th>0</th>\n",
       "      <td>2318</td>\n",
       "      <td>Casa Madrona - Urban Oasis 1 block from the park!</td>\n",
       "      <td>2536</td>\n",
       "      <td>Megan</td>\n",
       "      <td>Central Area</td>\n",
       "      <td>Madrona</td>\n",
       "      <td>47.61082</td>\n",
       "      <td>-122.29082</td>\n",
       "      <td>Entire home/apt</td>\n",
       "      <td>296</td>\n",
       "      <td>7</td>\n",
       "      <td>32</td>\n",
       "      <td>2020-02-01</td>\n",
       "      <td>0.23</td>\n",
       "      <td>2</td>\n",
       "      <td>90</td>\n",
       "    </tr>\n",
       "    <tr>\n",
       "      <th>1</th>\n",
       "      <td>6606</td>\n",
       "      <td>Fab, private seattle urban cottage!</td>\n",
       "      <td>14942</td>\n",
       "      <td>Joyce</td>\n",
       "      <td>Other neighborhoods</td>\n",
       "      <td>Wallingford</td>\n",
       "      <td>47.65411</td>\n",
       "      <td>-122.33761</td>\n",
       "      <td>Entire home/apt</td>\n",
       "      <td>90</td>\n",
       "      <td>30</td>\n",
       "      <td>150</td>\n",
       "      <td>2019-09-28</td>\n",
       "      <td>1.14</td>\n",
       "      <td>3</td>\n",
       "      <td>82</td>\n",
       "    </tr>\n",
       "    <tr>\n",
       "      <th>2</th>\n",
       "      <td>9419</td>\n",
       "      <td>Glorious sun room w/ memory foambed</td>\n",
       "      <td>30559</td>\n",
       "      <td>Angielena</td>\n",
       "      <td>Other neighborhoods</td>\n",
       "      <td>Georgetown</td>\n",
       "      <td>47.55017</td>\n",
       "      <td>-122.31937</td>\n",
       "      <td>Private room</td>\n",
       "      <td>62</td>\n",
       "      <td>2</td>\n",
       "      <td>148</td>\n",
       "      <td>2019-12-27</td>\n",
       "      <td>1.25</td>\n",
       "      <td>8</td>\n",
       "      <td>364</td>\n",
       "    </tr>\n",
       "    <tr>\n",
       "      <th>3</th>\n",
       "      <td>9531</td>\n",
       "      <td>The Adorable Sweet Orange Craftsman</td>\n",
       "      <td>31481</td>\n",
       "      <td>Cassie</td>\n",
       "      <td>West Seattle</td>\n",
       "      <td>Fairmount Park</td>\n",
       "      <td>47.55539</td>\n",
       "      <td>-122.38474</td>\n",
       "      <td>Entire home/apt</td>\n",
       "      <td>165</td>\n",
       "      <td>3</td>\n",
       "      <td>40</td>\n",
       "      <td>2019-12-30</td>\n",
       "      <td>0.40</td>\n",
       "      <td>2</td>\n",
       "      <td>365</td>\n",
       "    </tr>\n",
       "    <tr>\n",
       "      <th>4</th>\n",
       "      <td>9534</td>\n",
       "      <td>The Coolest Tangerine Dream MIL!</td>\n",
       "      <td>31481</td>\n",
       "      <td>Cassie</td>\n",
       "      <td>West Seattle</td>\n",
       "      <td>Fairmount Park</td>\n",
       "      <td>47.55624</td>\n",
       "      <td>-122.38598</td>\n",
       "      <td>Entire home/apt</td>\n",
       "      <td>125</td>\n",
       "      <td>2</td>\n",
       "      <td>49</td>\n",
       "      <td>2020-02-29</td>\n",
       "      <td>0.49</td>\n",
       "      <td>2</td>\n",
       "      <td>350</td>\n",
       "    </tr>\n",
       "  </tbody>\n",
       "</table>\n",
       "</div>"
      ],
      "text/plain": [
       "     id                                               name  host_id  \\\n",
       "0  2318  Casa Madrona - Urban Oasis 1 block from the park!     2536   \n",
       "1  6606                Fab, private seattle urban cottage!    14942   \n",
       "2  9419                Glorious sun room w/ memory foambed    30559   \n",
       "3  9531                The Adorable Sweet Orange Craftsman    31481   \n",
       "4  9534                   The Coolest Tangerine Dream MIL!    31481   \n",
       "\n",
       "   host_name  neighbourhood_group   neighbourhood  latitude  longitude  \\\n",
       "0      Megan         Central Area         Madrona  47.61082 -122.29082   \n",
       "1      Joyce  Other neighborhoods     Wallingford  47.65411 -122.33761   \n",
       "2  Angielena  Other neighborhoods      Georgetown  47.55017 -122.31937   \n",
       "3     Cassie         West Seattle  Fairmount Park  47.55539 -122.38474   \n",
       "4     Cassie         West Seattle  Fairmount Park  47.55624 -122.38598   \n",
       "\n",
       "         room_type  price  minimum_nights  number_of_reviews last_review  \\\n",
       "0  Entire home/apt    296               7                 32  2020-02-01   \n",
       "1  Entire home/apt     90              30                150  2019-09-28   \n",
       "2     Private room     62               2                148  2019-12-27   \n",
       "3  Entire home/apt    165               3                 40  2019-12-30   \n",
       "4  Entire home/apt    125               2                 49  2020-02-29   \n",
       "\n",
       "   reviews_per_month  calculated_host_listings_count  availability_365  \n",
       "0               0.23                               2                90  \n",
       "1               1.14                               3                82  \n",
       "2               1.25                               8               364  \n",
       "3               0.40                               2               365  \n",
       "4               0.49                               2               350  "
      ]
     },
     "execution_count": 3,
     "metadata": {},
     "output_type": "execute_result"
    }
   ],
   "source": [
    "# Load listing data into dataframe\n",
    "list = pd.read_csv('./listings.csv')\n",
    "list.head()"
   ]
  },
  {
   "cell_type": "code",
   "execution_count": 4,
   "metadata": {},
   "outputs": [
    {
     "data": {
      "text/plain": [
       "id                                  int64\n",
       "name                               object\n",
       "host_id                             int64\n",
       "host_name                          object\n",
       "neighbourhood_group                object\n",
       "neighbourhood                      object\n",
       "latitude                          float64\n",
       "longitude                         float64\n",
       "room_type                          object\n",
       "price                               int64\n",
       "minimum_nights                      int64\n",
       "number_of_reviews                   int64\n",
       "last_review                        object\n",
       "reviews_per_month                 float64\n",
       "calculated_host_listings_count      int64\n",
       "availability_365                    int64\n",
       "dtype: object"
      ]
     },
     "execution_count": 4,
     "metadata": {},
     "output_type": "execute_result"
    }
   ],
   "source": [
    "# Check list columns and data types\n",
    "list.dtypes"
   ]
  },
  {
   "cell_type": "code",
   "execution_count": 5,
   "metadata": {},
   "outputs": [
    {
     "data": {
      "text/plain": [
       "True"
      ]
     },
     "execution_count": 5,
     "metadata": {},
     "output_type": "execute_result"
    }
   ],
   "source": [
    "# Check if column \"id\" is unique\n",
    "list.shape[0]==list['id'].unique().shape[0]"
   ]
  },
  {
   "cell_type": "code",
   "execution_count": 6,
   "metadata": {},
   "outputs": [
    {
     "data": {
      "text/plain": [
       "id                                0.00000\n",
       "name                              0.00000\n",
       "host_id                           0.00000\n",
       "host_name                         0.00000\n",
       "neighbourhood_group               0.00000\n",
       "neighbourhood                     0.00000\n",
       "latitude                          0.00000\n",
       "longitude                         0.00000\n",
       "room_type                         0.00000\n",
       "price                             0.00000\n",
       "minimum_nights                    0.00000\n",
       "number_of_reviews                 0.00000\n",
       "last_review                       0.12823\n",
       "reviews_per_month                 0.12823\n",
       "calculated_host_listings_count    0.00000\n",
       "availability_365                  0.00000\n",
       "dtype: float64"
      ]
     },
     "execution_count": 6,
     "metadata": {},
     "output_type": "execute_result"
    }
   ],
   "source": [
    "# Check the pertentage of NaN numbers in the data set\n",
    "np.sum(list.isna())/list.shape[0]"
   ]
  },
  {
   "cell_type": "markdown",
   "metadata": {},
   "source": [
    "##### Only 13% of rental listing has no data in \"last_review\" and \"reviews_per_month\"."
   ]
  },
  {
   "cell_type": "markdown",
   "metadata": {},
   "source": [
    "### Q1: Is there an area in Seattle where there are more choices of rentals with relatively lower price? \n",
    "##### Now let's look at the number of listings and mean price in each neighbourhood"
   ]
  },
  {
   "cell_type": "code",
   "execution_count": 7,
   "metadata": {},
   "outputs": [
    {
     "data": {
      "image/png": "[encoded data removed]",
      "text/plain": [
       "<Figure size 432x288 with 1 Axes>"
      ]
     },
     "metadata": {
      "needs_background": "light"
     },
     "output_type": "display_data"
    }
   ],
   "source": [
    "# get the number of listing in each neighbourhood\n",
    "num_list = list[['id','neighbourhood_group']].groupby('neighbourhood_group').count() \n",
    "num_list['id'].plot(kind=\"bar\");\n",
    "plt.title(\"Number of Airbnb rentals in Seattle area\");"
   ]
  },
  {
   "cell_type": "code",
   "execution_count": 8,
   "metadata": {},
   "outputs": [
    {
     "data": {
      "image/png": "[encoded data removed]",
      "text/plain": [
       "<Figure size 432x288 with 1 Axes>"
      ]
     },
     "metadata": {
      "needs_background": "light"
     },
     "output_type": "display_data"
    }
   ],
   "source": [
    "# get the number of listing in each neighbourhood\n",
    "price_mean = list[['price','neighbourhood_group']].groupby('neighbourhood_group').mean()\n",
    "price_mean['price'].plot(kind=\"bar\");\n",
    "plt.title(\"Mean price of Airbnb rentals in Seattle area\");"
   ]
  },
  {
   "cell_type": "markdown",
   "metadata": {},
   "source": [
    "##### The most expensive Airbnb rentals are in Queen Anne and downtown area. Downtown area also has the second most number of rentals, only less that \"other neighbourhoods\" which actually is the collection of unsorted data."
   ]
  },
  {
   "cell_type": "code",
   "execution_count": 9,
   "metadata": {},
   "outputs": [
    {
     "data": {
      "image/png": "[encoded data removed]",
      "text/plain": [
       "<Figure size 432x288 with 2 Axes>"
      ]
     },
     "metadata": {
      "needs_background": "light"
     },
     "output_type": "display_data"
    }
   ],
   "source": [
    "# Sort data by number of lisitng in each area and plot together with mean_price\n",
    "df_area=num_list\n",
    "df_area['price_mean']=price_mean['price']\n",
    "df_area.rename(columns={\"id\": \"counts\"},inplace=True)\n",
    "df_area.sort_values(by='price_mean',ascending=False,inplace=True)\n",
    "df_area[['counts','price_mean']].plot(kind=\"bar\",secondary_y= 'counts',width=0.6);\n",
    "plt.title(\"Airbnb rentals in Seattle area\");\n",
    "plt.legend(['No. of rentlas','mean price']);"
   ]
  },
  {
   "cell_type": "markdown",
   "metadata": {},
   "source": [
    "#### Capitol Hill seems to be a good area with more rentals and mean price less than $150"
   ]
  },
  {
   "cell_type": "markdown",
   "metadata": {},
   "source": [
    "### Q2: Which Seattle area rentals have good reviews in recent two years?"
   ]
  },
  {
   "cell_type": "code",
   "execution_count": 10,
   "metadata": {},
   "outputs": [
    {
     "data": {
      "text/html": [
       "<div>\n",
       "<style scoped>\n",
       "    .dataframe tbody tr th:only-of-type {\n",
       "        vertical-align: middle;\n",
       "    }\n",
       "\n",
       "    .dataframe tbody tr th {\n",
       "        vertical-align: top;\n",
       "    }\n",
       "\n",
       "    .dataframe thead th {\n",
       "        text-align: right;\n",
       "    }\n",
       "</style>\n",
       "<table border=\"1\" class=\"dataframe\">\n",
       "  <thead>\n",
       "    <tr style=\"text-align: right;\">\n",
       "      <th></th>\n",
       "      <th>listing_id</th>\n",
       "      <th>id</th>\n",
       "      <th>date</th>\n",
       "      <th>reviewer_id</th>\n",
       "      <th>reviewer_name</th>\n",
       "      <th>comments</th>\n",
       "    </tr>\n",
       "  </thead>\n",
       "  <tbody>\n",
       "    <tr>\n",
       "      <th>0</th>\n",
       "      <td>2318</td>\n",
       "      <td>146</td>\n",
       "      <td>2008-09-15</td>\n",
       "      <td>2451</td>\n",
       "      <td>Kevin</td>\n",
       "      <td>1000 times better than staying at a hotel.</td>\n",
       "    </tr>\n",
       "    <tr>\n",
       "      <th>1</th>\n",
       "      <td>2318</td>\n",
       "      <td>126302712</td>\n",
       "      <td>2017-01-10</td>\n",
       "      <td>12332845</td>\n",
       "      <td>Jessica</td>\n",
       "      <td>Our family (two couples, a two year old and an...</td>\n",
       "    </tr>\n",
       "    <tr>\n",
       "      <th>2</th>\n",
       "      <td>2318</td>\n",
       "      <td>140977084</td>\n",
       "      <td>2017-04-01</td>\n",
       "      <td>4789466</td>\n",
       "      <td>Ivan</td>\n",
       "      <td>Top of the list locations we have stayed at! T...</td>\n",
       "    </tr>\n",
       "    <tr>\n",
       "      <th>3</th>\n",
       "      <td>2318</td>\n",
       "      <td>147262504</td>\n",
       "      <td>2017-04-25</td>\n",
       "      <td>55817131</td>\n",
       "      <td>Mike</td>\n",
       "      <td>SUCH an awesome place. Very clean, quiet and s...</td>\n",
       "    </tr>\n",
       "    <tr>\n",
       "      <th>4</th>\n",
       "      <td>2318</td>\n",
       "      <td>161806368</td>\n",
       "      <td>2017-06-18</td>\n",
       "      <td>113604590</td>\n",
       "      <td>Pete</td>\n",
       "      <td>We flew quite a distance to be at our only dau...</td>\n",
       "    </tr>\n",
       "  </tbody>\n",
       "</table>\n",
       "</div>"
      ],
      "text/plain": [
       "   listing_id         id        date  reviewer_id reviewer_name  \\\n",
       "0        2318        146  2008-09-15         2451         Kevin   \n",
       "1        2318  126302712  2017-01-10     12332845       Jessica   \n",
       "2        2318  140977084  2017-04-01      4789466          Ivan   \n",
       "3        2318  147262504  2017-04-25     55817131          Mike   \n",
       "4        2318  161806368  2017-06-18    113604590          Pete   \n",
       "\n",
       "                                            comments  \n",
       "0        1000 times better than staying at a hotel.   \n",
       "1  Our family (two couples, a two year old and an...  \n",
       "2  Top of the list locations we have stayed at! T...  \n",
       "3  SUCH an awesome place. Very clean, quiet and s...  \n",
       "4  We flew quite a distance to be at our only dau...  "
      ]
     },
     "execution_count": 10,
     "metadata": {},
     "output_type": "execute_result"
    }
   ],
   "source": [
    "# Load review data into dataframe\n",
    "review = pd.read_csv('reviews.csv.gz', compression='gzip', header=0, sep=',', quotechar='\"')\n",
    "review.head()"
   ]
  },
  {
   "cell_type": "code",
   "execution_count": 11,
   "metadata": {},
   "outputs": [
    {
     "data": {
      "text/plain": [
       "listing_id       0.000000\n",
       "id               0.000000\n",
       "date             0.000000\n",
       "reviewer_id      0.000000\n",
       "reviewer_name    0.000000\n",
       "comments         0.000455\n",
       "dtype: float64"
      ]
     },
     "execution_count": 11,
     "metadata": {},
     "output_type": "execute_result"
    }
   ],
   "source": [
    "# Check the pertentage of NaN numbers in the data set\n",
    "np.sum(review.isna())/review.shape[0]"
   ]
  },
  {
   "cell_type": "code",
   "execution_count": 12,
   "metadata": {},
   "outputs": [
    {
     "data": {
      "text/plain": [
       "(397976, 6)"
      ]
     },
     "execution_count": 12,
     "metadata": {},
     "output_type": "execute_result"
    }
   ],
   "source": [
    "# drop rows without comments\n",
    "review.dropna(inplace=True)\n",
    "review.shape"
   ]
  },
  {
   "cell_type": "code",
   "execution_count": 13,
   "metadata": {},
   "outputs": [
    {
     "data": {
      "text/plain": [
       "(212962, 3)"
      ]
     },
     "execution_count": 13,
     "metadata": {},
     "output_type": "execute_result"
    }
   ],
   "source": [
    "# Get the review list which only containing good reviews in 2018~2020\n",
    "words='good|better|best|excellent|perfect|wonderful|unique|great|awesome|nice|pretty|stylish|cute|fabulous \\\n",
    "|spacious|comfortable|comfy|convenient|top|clean|love|like|thank|Thank|appreciat|recommend|friendly|helpful'\n",
    "years='2018|2019|2020'\n",
    "review_good=review.loc[(review['comments'].str.contains(words) & review['date'].str.contains(years)),['listing_id','id','date']]\n",
    "review_good.shape"
   ]
  },
  {
   "cell_type": "code",
   "execution_count": 14,
   "metadata": {},
   "outputs": [
    {
     "data": {
      "text/plain": [
       "0.5351126701107605"
      ]
     },
     "execution_count": 14,
     "metadata": {},
     "output_type": "execute_result"
    }
   ],
   "source": [
    "# Calculate the pertentage of good review among all reviews\n",
    "review_good.shape[0]/review.shape[0]"
   ]
  },
  {
   "cell_type": "markdown",
   "metadata": {},
   "source": [
    "### merge two tables: list and review"
   ]
  },
  {
   "cell_type": "code",
   "execution_count": 15,
   "metadata": {},
   "outputs": [
    {
     "name": "stdout",
     "output_type": "stream",
     "text": [
      "There are  5686 rental listings that have good reveiws\n"
     ]
    },
    {
     "data": {
      "text/html": [
       "<div>\n",
       "<style scoped>\n",
       "    .dataframe tbody tr th:only-of-type {\n",
       "        vertical-align: middle;\n",
       "    }\n",
       "\n",
       "    .dataframe tbody tr th {\n",
       "        vertical-align: top;\n",
       "    }\n",
       "\n",
       "    .dataframe thead th {\n",
       "        text-align: right;\n",
       "    }\n",
       "</style>\n",
       "<table border=\"1\" class=\"dataframe\">\n",
       "  <thead>\n",
       "    <tr style=\"text-align: right;\">\n",
       "      <th></th>\n",
       "      <th>listing_id</th>\n",
       "      <th>good_review_counts</th>\n",
       "    </tr>\n",
       "  </thead>\n",
       "  <tbody>\n",
       "    <tr>\n",
       "      <th>1213</th>\n",
       "      <td>11398085</td>\n",
       "      <td>375</td>\n",
       "    </tr>\n",
       "    <tr>\n",
       "      <th>1328</th>\n",
       "      <td>12609601</td>\n",
       "      <td>333</td>\n",
       "    </tr>\n",
       "    <tr>\n",
       "      <th>468</th>\n",
       "      <td>3861673</td>\n",
       "      <td>299</td>\n",
       "    </tr>\n",
       "    <tr>\n",
       "      <th>679</th>\n",
       "      <td>6078397</td>\n",
       "      <td>298</td>\n",
       "    </tr>\n",
       "    <tr>\n",
       "      <th>616</th>\n",
       "      <td>5241773</td>\n",
       "      <td>268</td>\n",
       "    </tr>\n",
       "  </tbody>\n",
       "</table>\n",
       "</div>"
      ],
      "text/plain": [
       "      listing_id  good_review_counts\n",
       "1213    11398085                 375\n",
       "1328    12609601                 333\n",
       "468      3861673                 299\n",
       "679      6078397                 298\n",
       "616      5241773                 268"
      ]
     },
     "execution_count": 15,
     "metadata": {},
     "output_type": "execute_result"
    }
   ],
   "source": [
    "# Now I'll merge two data sets review_good and list by id\n",
    "rental_good=pd.merge(left=review_good['listing_id'], right=list['id'], left_on='listing_id', right_on='id')\n",
    "# Sort the dataset by counts of good reviews\n",
    "rental_good=rental_good.groupby('listing_id').count().reset_index()\n",
    "rental_good.rename(columns={'id':'good_review_counts'},inplace=True)\n",
    "rental_good.sort_values(by='good_review_counts',ascending=False,inplace=True)\n",
    "print('There are ', rental_good.shape[0], 'rental listings that have good reveiws')\n",
    "rental_good.head()"
   ]
  },
  {
   "cell_type": "code",
   "execution_count": 16,
   "metadata": {},
   "outputs": [
    {
     "data": {
      "text/html": [
       "<div>\n",
       "<style scoped>\n",
       "    .dataframe tbody tr th:only-of-type {\n",
       "        vertical-align: middle;\n",
       "    }\n",
       "\n",
       "    .dataframe tbody tr th {\n",
       "        vertical-align: top;\n",
       "    }\n",
       "\n",
       "    .dataframe thead th {\n",
       "        text-align: right;\n",
       "    }\n",
       "</style>\n",
       "<table border=\"1\" class=\"dataframe\">\n",
       "  <thead>\n",
       "    <tr style=\"text-align: right;\">\n",
       "      <th></th>\n",
       "      <th>listing_id</th>\n",
       "      <th>good_review_counts</th>\n",
       "      <th>name</th>\n",
       "      <th>neighbourhood_group</th>\n",
       "      <th>neighbourhood</th>\n",
       "      <th>latitude</th>\n",
       "      <th>longitude</th>\n",
       "      <th>room_type</th>\n",
       "      <th>price</th>\n",
       "      <th>minimum_nights</th>\n",
       "      <th>number_of_reviews</th>\n",
       "      <th>last_review</th>\n",
       "      <th>reviews_per_month</th>\n",
       "      <th>calculated_host_listings_count</th>\n",
       "      <th>availability_365</th>\n",
       "    </tr>\n",
       "  </thead>\n",
       "  <tbody>\n",
       "    <tr>\n",
       "      <th>0</th>\n",
       "      <td>11398085</td>\n",
       "      <td>375</td>\n",
       "      <td>Cottage in the Heart of the City</td>\n",
       "      <td>Interbay</td>\n",
       "      <td>Interbay</td>\n",
       "      <td>47.63742</td>\n",
       "      <td>-122.38680</td>\n",
       "      <td>Entire home/apt</td>\n",
       "      <td>89</td>\n",
       "      <td>1</td>\n",
       "      <td>709</td>\n",
       "      <td>2020-03-19</td>\n",
       "      <td>14.66</td>\n",
       "      <td>1</td>\n",
       "      <td>188</td>\n",
       "    </tr>\n",
       "    <tr>\n",
       "      <th>1</th>\n",
       "      <td>12609601</td>\n",
       "      <td>333</td>\n",
       "      <td>Cozy basement suite with large patio &amp; HOT TUB</td>\n",
       "      <td>Northgate</td>\n",
       "      <td>Maple Leaf</td>\n",
       "      <td>47.69537</td>\n",
       "      <td>-122.31758</td>\n",
       "      <td>Entire home/apt</td>\n",
       "      <td>100</td>\n",
       "      <td>1</td>\n",
       "      <td>421</td>\n",
       "      <td>2020-03-21</td>\n",
       "      <td>13.52</td>\n",
       "      <td>1</td>\n",
       "      <td>81</td>\n",
       "    </tr>\n",
       "    <tr>\n",
       "      <th>2</th>\n",
       "      <td>3861673</td>\n",
       "      <td>299</td>\n",
       "      <td>Beautiful Guest Suite for 2 in Ballard</td>\n",
       "      <td>Ballard</td>\n",
       "      <td>Whittier Heights</td>\n",
       "      <td>47.68403</td>\n",
       "      <td>-122.37409</td>\n",
       "      <td>Entire home/apt</td>\n",
       "      <td>70</td>\n",
       "      <td>7</td>\n",
       "      <td>836</td>\n",
       "      <td>2020-03-14</td>\n",
       "      <td>12.14</td>\n",
       "      <td>1</td>\n",
       "      <td>249</td>\n",
       "    </tr>\n",
       "  </tbody>\n",
       "</table>\n",
       "</div>"
      ],
      "text/plain": [
       "   listing_id  good_review_counts  \\\n",
       "0    11398085                 375   \n",
       "1    12609601                 333   \n",
       "2     3861673                 299   \n",
       "\n",
       "                                             name neighbourhood_group  \\\n",
       "0                Cottage in the Heart of the City            Interbay   \n",
       "1  Cozy basement suite with large patio & HOT TUB           Northgate   \n",
       "2          Beautiful Guest Suite for 2 in Ballard             Ballard   \n",
       "\n",
       "      neighbourhood  latitude  longitude        room_type  price  \\\n",
       "0          Interbay  47.63742 -122.38680  Entire home/apt     89   \n",
       "1        Maple Leaf  47.69537 -122.31758  Entire home/apt    100   \n",
       "2  Whittier Heights  47.68403 -122.37409  Entire home/apt     70   \n",
       "\n",
       "   minimum_nights  number_of_reviews last_review  reviews_per_month  \\\n",
       "0               1                709  2020-03-19              14.66   \n",
       "1               1                421  2020-03-21              13.52   \n",
       "2               7                836  2020-03-14              12.14   \n",
       "\n",
       "   calculated_host_listings_count  availability_365  \n",
       "0                               1               188  \n",
       "1                               1                81  \n",
       "2                               1               249  "
      ]
     },
     "execution_count": 16,
     "metadata": {},
     "output_type": "execute_result"
    }
   ],
   "source": [
    "# Add more information from list to the dataset\n",
    "features=['id','name','neighbourhood_group','neighbourhood','latitude','longitude','room_type','price', \\\n",
    "                   'minimum_nights','number_of_reviews','last_review','reviews_per_month', \\\n",
    "                   'calculated_host_listings_count','availability_365']\n",
    "rental_good=pd.merge(left=rental_good, right=list[features], left_on='listing_id', right_on='id')\n",
    "rental_good.drop(columns='id',inplace=True)\n",
    "rental_good.head(3)"
   ]
  },
  {
   "cell_type": "code",
   "execution_count": 17,
   "metadata": {},
   "outputs": [
    {
     "data": {
      "text/html": [
       "<div>\n",
       "<style scoped>\n",
       "    .dataframe tbody tr th:only-of-type {\n",
       "        vertical-align: middle;\n",
       "    }\n",
       "\n",
       "    .dataframe tbody tr th {\n",
       "        vertical-align: top;\n",
       "    }\n",
       "\n",
       "    .dataframe thead th {\n",
       "        text-align: right;\n",
       "    }\n",
       "</style>\n",
       "<table border=\"1\" class=\"dataframe\">\n",
       "  <thead>\n",
       "    <tr style=\"text-align: right;\">\n",
       "      <th></th>\n",
       "      <th>listing_id</th>\n",
       "      <th>good_review_counts</th>\n",
       "      <th>name</th>\n",
       "      <th>neighbourhood_group</th>\n",
       "      <th>neighbourhood</th>\n",
       "      <th>latitude</th>\n",
       "      <th>longitude</th>\n",
       "      <th>room_type</th>\n",
       "      <th>price</th>\n",
       "      <th>minimum_nights</th>\n",
       "      <th>number_of_reviews</th>\n",
       "      <th>last_review</th>\n",
       "      <th>reviews_per_month</th>\n",
       "      <th>calculated_host_listings_count</th>\n",
       "      <th>availability_365</th>\n",
       "    </tr>\n",
       "  </thead>\n",
       "  <tbody>\n",
       "    <tr>\n",
       "      <th>0</th>\n",
       "      <td>11398085</td>\n",
       "      <td>375</td>\n",
       "      <td>Cottage in the Heart of the City</td>\n",
       "      <td>Interbay</td>\n",
       "      <td>Interbay</td>\n",
       "      <td>47.63742</td>\n",
       "      <td>-122.38680</td>\n",
       "      <td>Entire home/apt</td>\n",
       "      <td>89</td>\n",
       "      <td>1</td>\n",
       "      <td>709</td>\n",
       "      <td>2020-03-19</td>\n",
       "      <td>14.66</td>\n",
       "      <td>1</td>\n",
       "      <td>188</td>\n",
       "    </tr>\n",
       "    <tr>\n",
       "      <th>1</th>\n",
       "      <td>12609601</td>\n",
       "      <td>333</td>\n",
       "      <td>Cozy basement suite with large patio &amp; HOT TUB</td>\n",
       "      <td>Northgate</td>\n",
       "      <td>Maple Leaf</td>\n",
       "      <td>47.69537</td>\n",
       "      <td>-122.31758</td>\n",
       "      <td>Entire home/apt</td>\n",
       "      <td>100</td>\n",
       "      <td>1</td>\n",
       "      <td>421</td>\n",
       "      <td>2020-03-21</td>\n",
       "      <td>13.52</td>\n",
       "      <td>1</td>\n",
       "      <td>81</td>\n",
       "    </tr>\n",
       "    <tr>\n",
       "      <th>2</th>\n",
       "      <td>3861673</td>\n",
       "      <td>299</td>\n",
       "      <td>Beautiful Guest Suite for 2 in Ballard</td>\n",
       "      <td>Ballard</td>\n",
       "      <td>Whittier Heights</td>\n",
       "      <td>47.68403</td>\n",
       "      <td>-122.37409</td>\n",
       "      <td>Entire home/apt</td>\n",
       "      <td>70</td>\n",
       "      <td>7</td>\n",
       "      <td>836</td>\n",
       "      <td>2020-03-14</td>\n",
       "      <td>12.14</td>\n",
       "      <td>1</td>\n",
       "      <td>249</td>\n",
       "    </tr>\n",
       "    <tr>\n",
       "      <th>3</th>\n",
       "      <td>6078397</td>\n",
       "      <td>298</td>\n",
       "      <td>Tiny House in Seattle</td>\n",
       "      <td>West Seattle</td>\n",
       "      <td>Genesee</td>\n",
       "      <td>47.56491</td>\n",
       "      <td>-122.39610</td>\n",
       "      <td>Entire home/apt</td>\n",
       "      <td>140</td>\n",
       "      <td>1</td>\n",
       "      <td>542</td>\n",
       "      <td>2020-04-17</td>\n",
       "      <td>11.69</td>\n",
       "      <td>1</td>\n",
       "      <td>328</td>\n",
       "    </tr>\n",
       "    <tr>\n",
       "      <th>4</th>\n",
       "      <td>5241773</td>\n",
       "      <td>268</td>\n",
       "      <td>Cool/Fun House on Capitol Hill, Bdrm #2</td>\n",
       "      <td>Central Area</td>\n",
       "      <td>Minor</td>\n",
       "      <td>47.61243</td>\n",
       "      <td>-122.31590</td>\n",
       "      <td>Private room</td>\n",
       "      <td>89</td>\n",
       "      <td>1</td>\n",
       "      <td>594</td>\n",
       "      <td>2020-03-10</td>\n",
       "      <td>9.50</td>\n",
       "      <td>3</td>\n",
       "      <td>149</td>\n",
       "    </tr>\n",
       "  </tbody>\n",
       "</table>\n",
       "</div>"
      ],
      "text/plain": [
       "   listing_id  good_review_counts  \\\n",
       "0    11398085                 375   \n",
       "1    12609601                 333   \n",
       "2     3861673                 299   \n",
       "3     6078397                 298   \n",
       "4     5241773                 268   \n",
       "\n",
       "                                             name neighbourhood_group  \\\n",
       "0                Cottage in the Heart of the City            Interbay   \n",
       "1  Cozy basement suite with large patio & HOT TUB           Northgate   \n",
       "2          Beautiful Guest Suite for 2 in Ballard             Ballard   \n",
       "3                           Tiny House in Seattle        West Seattle   \n",
       "4         Cool/Fun House on Capitol Hill, Bdrm #2        Central Area   \n",
       "\n",
       "      neighbourhood  latitude  longitude        room_type  price  \\\n",
       "0          Interbay  47.63742 -122.38680  Entire home/apt     89   \n",
       "1        Maple Leaf  47.69537 -122.31758  Entire home/apt    100   \n",
       "2  Whittier Heights  47.68403 -122.37409  Entire home/apt     70   \n",
       "3           Genesee  47.56491 -122.39610  Entire home/apt    140   \n",
       "4             Minor  47.61243 -122.31590     Private room     89   \n",
       "\n",
       "   minimum_nights  number_of_reviews last_review  reviews_per_month  \\\n",
       "0               1                709  2020-03-19              14.66   \n",
       "1               1                421  2020-03-21              13.52   \n",
       "2               7                836  2020-03-14              12.14   \n",
       "3               1                542  2020-04-17              11.69   \n",
       "4               1                594  2020-03-10               9.50   \n",
       "\n",
       "   calculated_host_listings_count  availability_365  \n",
       "0                               1               188  \n",
       "1                               1                81  \n",
       "2                               1               249  \n",
       "3                               1               328  \n",
       "4                               3               149  "
      ]
     },
     "execution_count": 17,
     "metadata": {},
     "output_type": "execute_result"
    }
   ],
   "source": [
    "rental_good['room_type'].unique()\n",
    "rental_good.head()"
   ]
  },
  {
   "cell_type": "code",
   "execution_count": 18,
   "metadata": {},
   "outputs": [
    {
     "data": {
      "text/plain": [
       "array(['Entire home/apt', 'Private room', 'Hotel room', 'Shared room'],\n",
       "      dtype=object)"
      ]
     },
     "execution_count": 18,
     "metadata": {},
     "output_type": "execute_result"
    }
   ],
   "source": [
    "rental_good['room_type'].unique()"
   ]
  },
  {
   "cell_type": "code",
   "execution_count": 19,
   "metadata": {},
   "outputs": [
    {
     "data": {
      "text/html": [
       "<div>\n",
       "<style scoped>\n",
       "    .dataframe tbody tr th:only-of-type {\n",
       "        vertical-align: middle;\n",
       "    }\n",
       "\n",
       "    .dataframe tbody tr th {\n",
       "        vertical-align: top;\n",
       "    }\n",
       "\n",
       "    .dataframe thead th {\n",
       "        text-align: right;\n",
       "    }\n",
       "</style>\n",
       "<table border=\"1\" class=\"dataframe\">\n",
       "  <thead>\n",
       "    <tr style=\"text-align: right;\">\n",
       "      <th></th>\n",
       "      <th>listing_id</th>\n",
       "      <th>good_review_counts</th>\n",
       "      <th>name</th>\n",
       "      <th>neighbourhood_group</th>\n",
       "      <th>neighbourhood</th>\n",
       "      <th>latitude</th>\n",
       "      <th>longitude</th>\n",
       "      <th>room_type</th>\n",
       "      <th>price</th>\n",
       "      <th>minimum_nights</th>\n",
       "      <th>number_of_reviews</th>\n",
       "      <th>last_review</th>\n",
       "      <th>reviews_per_month</th>\n",
       "      <th>calculated_host_listings_count</th>\n",
       "      <th>availability_365</th>\n",
       "      <th>room_type_cat</th>\n",
       "    </tr>\n",
       "  </thead>\n",
       "  <tbody>\n",
       "    <tr>\n",
       "      <th>0</th>\n",
       "      <td>11398085</td>\n",
       "      <td>375</td>\n",
       "      <td>Cottage in the Heart of the City</td>\n",
       "      <td>Interbay</td>\n",
       "      <td>Interbay</td>\n",
       "      <td>47.63742</td>\n",
       "      <td>-122.38680</td>\n",
       "      <td>Entire home/apt</td>\n",
       "      <td>89</td>\n",
       "      <td>1</td>\n",
       "      <td>709</td>\n",
       "      <td>2020-03-19</td>\n",
       "      <td>14.66</td>\n",
       "      <td>1</td>\n",
       "      <td>188</td>\n",
       "      <td>3</td>\n",
       "    </tr>\n",
       "    <tr>\n",
       "      <th>1</th>\n",
       "      <td>12609601</td>\n",
       "      <td>333</td>\n",
       "      <td>Cozy basement suite with large patio &amp; HOT TUB</td>\n",
       "      <td>Northgate</td>\n",
       "      <td>Maple Leaf</td>\n",
       "      <td>47.69537</td>\n",
       "      <td>-122.31758</td>\n",
       "      <td>Entire home/apt</td>\n",
       "      <td>100</td>\n",
       "      <td>1</td>\n",
       "      <td>421</td>\n",
       "      <td>2020-03-21</td>\n",
       "      <td>13.52</td>\n",
       "      <td>1</td>\n",
       "      <td>81</td>\n",
       "      <td>3</td>\n",
       "    </tr>\n",
       "    <tr>\n",
       "      <th>2</th>\n",
       "      <td>3861673</td>\n",
       "      <td>299</td>\n",
       "      <td>Beautiful Guest Suite for 2 in Ballard</td>\n",
       "      <td>Ballard</td>\n",
       "      <td>Whittier Heights</td>\n",
       "      <td>47.68403</td>\n",
       "      <td>-122.37409</td>\n",
       "      <td>Entire home/apt</td>\n",
       "      <td>70</td>\n",
       "      <td>7</td>\n",
       "      <td>836</td>\n",
       "      <td>2020-03-14</td>\n",
       "      <td>12.14</td>\n",
       "      <td>1</td>\n",
       "      <td>249</td>\n",
       "      <td>3</td>\n",
       "    </tr>\n",
       "    <tr>\n",
       "      <th>3</th>\n",
       "      <td>6078397</td>\n",
       "      <td>298</td>\n",
       "      <td>Tiny House in Seattle</td>\n",
       "      <td>West Seattle</td>\n",
       "      <td>Genesee</td>\n",
       "      <td>47.56491</td>\n",
       "      <td>-122.39610</td>\n",
       "      <td>Entire home/apt</td>\n",
       "      <td>140</td>\n",
       "      <td>1</td>\n",
       "      <td>542</td>\n",
       "      <td>2020-04-17</td>\n",
       "      <td>11.69</td>\n",
       "      <td>1</td>\n",
       "      <td>328</td>\n",
       "      <td>3</td>\n",
       "    </tr>\n",
       "    <tr>\n",
       "      <th>4</th>\n",
       "      <td>5241773</td>\n",
       "      <td>268</td>\n",
       "      <td>Cool/Fun House on Capitol Hill, Bdrm #2</td>\n",
       "      <td>Central Area</td>\n",
       "      <td>Minor</td>\n",
       "      <td>47.61243</td>\n",
       "      <td>-122.31590</td>\n",
       "      <td>Private room</td>\n",
       "      <td>89</td>\n",
       "      <td>1</td>\n",
       "      <td>594</td>\n",
       "      <td>2020-03-10</td>\n",
       "      <td>9.50</td>\n",
       "      <td>3</td>\n",
       "      <td>149</td>\n",
       "      <td>1</td>\n",
       "    </tr>\n",
       "  </tbody>\n",
       "</table>\n",
       "</div>"
      ],
      "text/plain": [
       "   listing_id  good_review_counts  \\\n",
       "0    11398085                 375   \n",
       "1    12609601                 333   \n",
       "2     3861673                 299   \n",
       "3     6078397                 298   \n",
       "4     5241773                 268   \n",
       "\n",
       "                                             name neighbourhood_group  \\\n",
       "0                Cottage in the Heart of the City            Interbay   \n",
       "1  Cozy basement suite with large patio & HOT TUB           Northgate   \n",
       "2          Beautiful Guest Suite for 2 in Ballard             Ballard   \n",
       "3                           Tiny House in Seattle        West Seattle   \n",
       "4         Cool/Fun House on Capitol Hill, Bdrm #2        Central Area   \n",
       "\n",
       "      neighbourhood  latitude  longitude        room_type  price  \\\n",
       "0          Interbay  47.63742 -122.38680  Entire home/apt     89   \n",
       "1        Maple Leaf  47.69537 -122.31758  Entire home/apt    100   \n",
       "2  Whittier Heights  47.68403 -122.37409  Entire home/apt     70   \n",
       "3           Genesee  47.56491 -122.39610  Entire home/apt    140   \n",
       "4             Minor  47.61243 -122.31590     Private room     89   \n",
       "\n",
       "   minimum_nights  number_of_reviews last_review  reviews_per_month  \\\n",
       "0               1                709  2020-03-19              14.66   \n",
       "1               1                421  2020-03-21              13.52   \n",
       "2               7                836  2020-03-14              12.14   \n",
       "3               1                542  2020-04-17              11.69   \n",
       "4               1                594  2020-03-10               9.50   \n",
       "\n",
       "   calculated_host_listings_count  availability_365  room_type_cat  \n",
       "0                               1               188              3  \n",
       "1                               1                81              3  \n",
       "2                               1               249              3  \n",
       "3                               1               328              3  \n",
       "4                               3               149              1  "
      ]
     },
     "execution_count": 19,
     "metadata": {},
     "output_type": "execute_result"
    }
   ],
   "source": [
    "# Encode \"room_type\" to number as the mapping in \"cats\"\n",
    "ordered_room_type = ['Shared room', 'Private room', 'Hotel room', 'Entire home/apt']\n",
    "cat_dtype = pd.api.types.CategoricalDtype(categories=ordered_room_type, ordered=True)\n",
    "rental_good['room_type_cat'] = rental_good['room_type'].astype(cat_dtype).cat.codes\n",
    "rental_good.head()"
   ]
  },
  {
   "cell_type": "code",
   "execution_count": 20,
   "metadata": {},
   "outputs": [
    {
     "data": {
      "image/png": "[encoded data removed]",
      "text/plain": [
       "<Figure size 432x288 with 1 Axes>"
      ]
     },
     "metadata": {
      "needs_background": "light"
     },
     "output_type": "display_data"
    }
   ],
   "source": [
    "countByNei=rental_good[['listing_id','neighbourhood_group']].groupby('neighbourhood_group').count()\n",
    "countByNei.rename(columns={'listing_id':'counts'},inplace=True)\n",
    "countByNei.sort_values(by='counts',ascending=False, inplace=True)\n",
    "ax=countByNei.plot(kind=\"bar\",width=0.6);\n",
    "ax.set_title(\"Number of Airbnb rentals with good reviews counts in Seattle area\");"
   ]
  },
  {
   "cell_type": "markdown",
   "metadata": {},
   "source": [
    "#### Besides \"other neighborhoods\", downtown area has the most number of good rentals, followed by capitol hill and central area."
   ]
  },
  {
   "cell_type": "markdown",
   "metadata": {},
   "source": [
    "### Q3. Which Airbnb is recommended in downtown Seattle?"
   ]
  },
  {
   "cell_type": "markdown",
   "metadata": {},
   "source": [
    "##### I still want to stay in Seattle downtow although price is a bit higher. I will choose the rentals with more number of good review and relatively lower price. And it must have the following features:\n",
    "- in downtown area\n",
    "- hotel room or entire home/apartment\n",
    "- minimum_nights < 4\n",
    "- availability_365 > 180\n",
    "- price < $350"
   ]
  },
  {
   "cell_type": "code",
   "execution_count": 21,
   "metadata": {},
   "outputs": [
    {
     "data": {
      "text/plain": [
       "228"
      ]
     },
     "execution_count": 21,
     "metadata": {},
     "output_type": "execute_result"
    }
   ],
   "source": [
    "features=['listing_id','name','good_review_counts','neighbourhood_group','price',\n",
    "          'neighbourhood','latitude','longitude','room_type','minimum_nights']\n",
    "rental_downtown=rental_good.loc[((rental_good['neighbourhood_group']=='Downtown') &\n",
    "                             (rental_good['room_type_cat']>2) &\n",
    "                             (rental_good['minimum_nights']<4) &\n",
    "                             (rental_good['availability_365']>180) &\n",
    "                             (rental_good['price']<350)) \n",
    "                                ,features]\n",
    "rental_downtown.shape[0]"
   ]
  },
  {
   "cell_type": "markdown",
   "metadata": {},
   "source": [
    "##### There are 228 rentals meets my criterias. Let me pick top 10 with most good reviews"
   ]
  },
  {
   "cell_type": "code",
   "execution_count": 22,
   "metadata": {},
   "outputs": [
    {
     "data": {
      "image/png": "[encoded data removed]",
      "text/plain": [
       "<Figure size 432x288 with 1 Axes>"
      ]
     },
     "metadata": {
      "needs_background": "light"
     },
     "output_type": "display_data"
    }
   ],
   "source": [
    "# Sort downtown rental by number of good reviews\n",
    "rental_downtown.sort_values(by='good_review_counts',ascending=False,inplace=True)\n",
    "# check the price range of top 20rental_downtown\n",
    "ax=rental_downtown['price'].iloc[0:10].hist();\n",
    "ax.set_title(\"Price range for top 10 rentals in Seattle downtown\");"
   ]
  },
  {
   "cell_type": "code",
   "execution_count": 23,
   "metadata": {},
   "outputs": [
    {
     "data": {
      "image/png": "[encoded data removed]",
      "text/plain": [
       "<Figure size 432x288 with 1 Axes>"
      ]
     },
     "metadata": {
      "needs_background": "light"
     },
     "output_type": "display_data"
    }
   ],
   "source": [
    "# check the number of good reviews\n",
    "ax=rental_downtown['good_review_counts'].iloc[0:10].hist();\n",
    "ax.set_title(\"Number of good reviews for top 10 rentals in Seattle downtown\");"
   ]
  },
  {
   "cell_type": "markdown",
   "metadata": {},
   "source": [
    "#### Their price is less than $200 with more than 100 good reviews. The all seems to be good choices. Below are the list of retals."
   ]
  },
  {
   "cell_type": "code",
   "execution_count": 24,
   "metadata": {},
   "outputs": [
    {
     "data": {
      "text/html": [
       "<div>\n",
       "<style scoped>\n",
       "    .dataframe tbody tr th:only-of-type {\n",
       "        vertical-align: middle;\n",
       "    }\n",
       "\n",
       "    .dataframe tbody tr th {\n",
       "        vertical-align: top;\n",
       "    }\n",
       "\n",
       "    .dataframe thead th {\n",
       "        text-align: right;\n",
       "    }\n",
       "</style>\n",
       "<table border=\"1\" class=\"dataframe\">\n",
       "  <thead>\n",
       "    <tr style=\"text-align: right;\">\n",
       "      <th></th>\n",
       "      <th>listing_id</th>\n",
       "      <th>name</th>\n",
       "      <th>good_review_counts</th>\n",
       "      <th>neighbourhood_group</th>\n",
       "      <th>price</th>\n",
       "      <th>neighbourhood</th>\n",
       "      <th>latitude</th>\n",
       "      <th>longitude</th>\n",
       "      <th>room_type</th>\n",
       "      <th>minimum_nights</th>\n",
       "    </tr>\n",
       "  </thead>\n",
       "  <tbody>\n",
       "    <tr>\n",
       "      <th>13</th>\n",
       "      <td>10125020</td>\n",
       "      <td>Historic loft in Pioneer Square</td>\n",
       "      <td>235</td>\n",
       "      <td>Downtown</td>\n",
       "      <td>180</td>\n",
       "      <td>Pioneer Square</td>\n",
       "      <td>47.60044</td>\n",
       "      <td>-122.33298</td>\n",
       "      <td>Entire home/apt</td>\n",
       "      <td>1</td>\n",
       "    </tr>\n",
       "    <tr>\n",
       "      <th>19</th>\n",
       "      <td>22958194</td>\n",
       "      <td>Cruise ships, Gumwall &amp; Pike Place Downtown Su...</td>\n",
       "      <td>225</td>\n",
       "      <td>Downtown</td>\n",
       "      <td>140</td>\n",
       "      <td>Pike-Market</td>\n",
       "      <td>47.60809</td>\n",
       "      <td>-122.34078</td>\n",
       "      <td>Entire home/apt</td>\n",
       "      <td>1</td>\n",
       "    </tr>\n",
       "    <tr>\n",
       "      <th>50</th>\n",
       "      <td>21077859</td>\n",
       "      <td>LEED Platinum Loft Near downtown/Capitol hill</td>\n",
       "      <td>191</td>\n",
       "      <td>Downtown</td>\n",
       "      <td>195</td>\n",
       "      <td>Yesler Terrace</td>\n",
       "      <td>47.60464</td>\n",
       "      <td>-122.32023</td>\n",
       "      <td>Entire home/apt</td>\n",
       "      <td>1</td>\n",
       "    </tr>\n",
       "    <tr>\n",
       "      <th>69</th>\n",
       "      <td>15927940</td>\n",
       "      <td>Climb into the Plush Bed to Doze at a Tranquil...</td>\n",
       "      <td>178</td>\n",
       "      <td>Downtown</td>\n",
       "      <td>111</td>\n",
       "      <td>First Hill</td>\n",
       "      <td>47.61310</td>\n",
       "      <td>-122.32374</td>\n",
       "      <td>Entire home/apt</td>\n",
       "      <td>1</td>\n",
       "    </tr>\n",
       "    <tr>\n",
       "      <th>70</th>\n",
       "      <td>16547797</td>\n",
       "      <td>Pike, Walk-score 99, Loft, Live/visit Capitol ...</td>\n",
       "      <td>178</td>\n",
       "      <td>Downtown</td>\n",
       "      <td>150</td>\n",
       "      <td>First Hill</td>\n",
       "      <td>47.61342</td>\n",
       "      <td>-122.32189</td>\n",
       "      <td>Entire home/apt</td>\n",
       "      <td>1</td>\n",
       "    </tr>\n",
       "    <tr>\n",
       "      <th>77</th>\n",
       "      <td>19157420</td>\n",
       "      <td>Center of Seattle,  with Great City Views!!!</td>\n",
       "      <td>173</td>\n",
       "      <td>Downtown</td>\n",
       "      <td>129</td>\n",
       "      <td>Belltown</td>\n",
       "      <td>47.61337</td>\n",
       "      <td>-122.34393</td>\n",
       "      <td>Entire home/apt</td>\n",
       "      <td>1</td>\n",
       "    </tr>\n",
       "    <tr>\n",
       "      <th>83</th>\n",
       "      <td>16535510</td>\n",
       "      <td>Spacious Studio, Heart of the City!!!</td>\n",
       "      <td>171</td>\n",
       "      <td>Downtown</td>\n",
       "      <td>160</td>\n",
       "      <td>Belltown</td>\n",
       "      <td>47.61344</td>\n",
       "      <td>-122.34399</td>\n",
       "      <td>Entire home/apt</td>\n",
       "      <td>1</td>\n",
       "    </tr>\n",
       "    <tr>\n",
       "      <th>106</th>\n",
       "      <td>22999858</td>\n",
       "      <td>Downtown Seattle w/ Large Kitchen and Bathroom</td>\n",
       "      <td>161</td>\n",
       "      <td>Downtown</td>\n",
       "      <td>183</td>\n",
       "      <td>Belltown</td>\n",
       "      <td>47.61363</td>\n",
       "      <td>-122.34448</td>\n",
       "      <td>Entire home/apt</td>\n",
       "      <td>1</td>\n",
       "    </tr>\n",
       "    <tr>\n",
       "      <th>121</th>\n",
       "      <td>7616008</td>\n",
       "      <td>Heart of Downtown Seattle</td>\n",
       "      <td>156</td>\n",
       "      <td>Downtown</td>\n",
       "      <td>183</td>\n",
       "      <td>Belltown</td>\n",
       "      <td>47.61337</td>\n",
       "      <td>-122.34389</td>\n",
       "      <td>Entire home/apt</td>\n",
       "      <td>1</td>\n",
       "    </tr>\n",
       "    <tr>\n",
       "      <th>145</th>\n",
       "      <td>3953742</td>\n",
       "      <td>Lovely Historical Apartment, With Great Views!!!</td>\n",
       "      <td>150</td>\n",
       "      <td>Downtown</td>\n",
       "      <td>183</td>\n",
       "      <td>Belltown</td>\n",
       "      <td>47.61334</td>\n",
       "      <td>-122.34401</td>\n",
       "      <td>Entire home/apt</td>\n",
       "      <td>1</td>\n",
       "    </tr>\n",
       "  </tbody>\n",
       "</table>\n",
       "</div>"
      ],
      "text/plain": [
       "     listing_id                                               name  \\\n",
       "13     10125020                    Historic loft in Pioneer Square   \n",
       "19     22958194  Cruise ships, Gumwall & Pike Place Downtown Su...   \n",
       "50     21077859      LEED Platinum Loft Near downtown/Capitol hill   \n",
       "69     15927940  Climb into the Plush Bed to Doze at a Tranquil...   \n",
       "70     16547797  Pike, Walk-score 99, Loft, Live/visit Capitol ...   \n",
       "77     19157420       Center of Seattle,  with Great City Views!!!   \n",
       "83     16535510              Spacious Studio, Heart of the City!!!   \n",
       "106    22999858     Downtown Seattle w/ Large Kitchen and Bathroom   \n",
       "121     7616008                          Heart of Downtown Seattle   \n",
       "145     3953742   Lovely Historical Apartment, With Great Views!!!   \n",
       "\n",
       "     good_review_counts neighbourhood_group  price   neighbourhood  latitude  \\\n",
       "13                  235            Downtown    180  Pioneer Square  47.60044   \n",
       "19                  225            Downtown    140     Pike-Market  47.60809   \n",
       "50                  191            Downtown    195  Yesler Terrace  47.60464   \n",
       "69                  178            Downtown    111      First Hill  47.61310   \n",
       "70                  178            Downtown    150      First Hill  47.61342   \n",
       "77                  173            Downtown    129        Belltown  47.61337   \n",
       "83                  171            Downtown    160        Belltown  47.61344   \n",
       "106                 161            Downtown    183        Belltown  47.61363   \n",
       "121                 156            Downtown    183        Belltown  47.61337   \n",
       "145                 150            Downtown    183        Belltown  47.61334   \n",
       "\n",
       "     longitude        room_type  minimum_nights  \n",
       "13  -122.33298  Entire home/apt               1  \n",
       "19  -122.34078  Entire home/apt               1  \n",
       "50  -122.32023  Entire home/apt               1  \n",
       "69  -122.32374  Entire home/apt               1  \n",
       "70  -122.32189  Entire home/apt               1  \n",
       "77  -122.34393  Entire home/apt               1  \n",
       "83  -122.34399  Entire home/apt               1  \n",
       "106 -122.34448  Entire home/apt               1  \n",
       "121 -122.34389  Entire home/apt               1  \n",
       "145 -122.34401  Entire home/apt               1  "
      ]
     },
     "execution_count": 24,
     "metadata": {},
     "output_type": "execute_result"
    }
   ],
   "source": [
    "rental_downtown.head(10)"
   ]
  },
  {
   "cell_type": "markdown",
   "metadata": {},
   "source": [
    "##### Let's find their locations on the map"
   ]
  },
  {
   "cell_type": "code",
   "execution_count": 68,
   "metadata": {},
   "outputs": [
    {
     "data": {
      "text/html": [
       "<div style=\"width:100%;\"><div style=\"position:relative;width:100%;height:0;padding-bottom:60%;\"><span style=\"color:#565656\">Make this Notebook Trusted to load map: File -> Trust Notebook</span><iframe src=\"about:blank\" style=\"position:absolute;width:100%;height:100%;left:0;top:0;border:none !important;\" data-html=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 onload=\"this.contentDocument.open();this.contentDocument.write(atob(this.getAttribute('data-html')));this.contentDocument.close();\" allowfullscreen webkitallowfullscreen mozallowfullscreen></iframe></div></div>"
      ],
      "text/plain": [
       "<folium.folium.Map at 0x7ff75d3c3710>"
      ]
     },
     "execution_count": 68,
     "metadata": {},
     "output_type": "execute_result"
    }
   ],
   "source": [
    "# create map of Seattle downtown using latitude and longitude values\n",
    "map_seattle_downtown = folium.Map(location=[47.6050, -122.3344], zoom_start=11)\n",
    "\n",
    "# add blue markers for top 10 rentals to the map\n",
    "for lat, lng, label in zip(rental_downtown['latitude'].iloc[0:10],\n",
    "                           rental_downtown['longitude'].iloc[0:10],\n",
    "                           rental_downtown['name'].iloc[0:10]):\n",
    "    label = folium.Popup(label, parse_html=True)\n",
    "    folium.CircleMarker(\n",
    "        [lat, lng],\n",
    "        radius=3,\n",
    "        popup=label,\n",
    "        color='blue',\n",
    "        fill=True,\n",
    "        fill_color='#3186cc',\n",
    "        fill_opacity=0.7,\n",
    "        parse_html=False).add_to(map_seattle_downtown)\n",
    "\n",
    "# add pop-up text to show the rental name\n",
    "for lat, lng, label in zip(rental_downtown['latitude'].iloc[0:10],\n",
    "                           rental_downtown['longitude'].iloc[0:10],\n",
    "                           rental_downtown['name'].iloc[0:10]):\n",
    "        folium.Marker([lat, lng], popup=label).add_to(map_seattle_downtown) \n",
    "        \n",
    "map_seattle_downtown"
   ]
  },
  {
   "cell_type": "markdown",
   "metadata": {},
   "source": [
    "### Q4: Are there any correlation between price and other features?"
   ]
  },
  {
   "cell_type": "code",
   "execution_count": 27,
   "metadata": {},
   "outputs": [
    {
     "data": {
      "image/png": "[encoded data removed]",
      "text/plain": [
       "<Figure size 432x288 with 9 Axes>"
      ]
     },
     "metadata": {
      "needs_background": "light"
     },
     "output_type": "display_data"
    }
   ],
   "source": [
    "# Let's look at some statistical plots for rental_good\n",
    "features=['price','good_review_counts','minimum_nights','number_of_reviews','availability_365','reviews_per_month','room_type_cat']\n",
    "ax=rental_good[features].hist(bins=10);\n",
    "ax[0,2].set_xlim((0,120));\n",
    "ax[1,1].set_xlim((0,1500));\n",
    "ax[2,0].set_xlim((0,3));\n",
    "plt.tight_layout()"
   ]
  },
  {
   "cell_type": "markdown",
   "metadata": {},
   "source": [
    "##### Most of the rentals provide entire home/apartment. The price, days available and minimum_nights vary in a large range. Features related to review have similar shape in histogram."
   ]
  },
  {
   "cell_type": "code",
   "execution_count": 107,
   "metadata": {},
   "outputs": [
    {
     "data": {
      "text/plain": [
       "(7.0, 0.0)"
      ]
     },
     "execution_count": 107,
     "metadata": {},
     "output_type": "execute_result"
    },
    {
     "data": {
      "image/png": "[encoded data removed]",
      "text/plain": [
       "<Figure size 432x288 with 2 Axes>"
      ]
     },
     "metadata": {
      "needs_background": "light"
     },
     "output_type": "display_data"
    }
   ],
   "source": [
    "rental_good_num=rental_good[features]\n",
    "ax=sns.heatmap(rental_good_num.corr(), annot=True, fmt=\".2f\");\n",
    "bottom, top = ax.get_ylim()\n",
    "ax.set_ylim(bottom + 0.5, top - 0.5)"
   ]
  },
  {
   "cell_type": "markdown",
   "metadata": {},
   "source": [
    "#### Three eatures related to review are stongly correlated. Price seems only related to minimum_nights. "
   ]
  },
  {
   "cell_type": "markdown",
   "metadata": {},
   "source": [
    "#### Thanks for reading!"
   ]
  }
 ],
 "metadata": {
  "kernelspec": {
   "display_name": "Python",
   "language": "python",
   "name": "conda-env-python-py"
  },
  "language_info": {
   "codemirror_mode": {
    "name": "ipython",
    "version": 3
   },
   "file_extension": ".py",
   "mimetype": "text/x-python",
   "name": "python",
   "nbconvert_exporter": "python",
   "pygments_lexer": "ipython3",
   "version": "3.6.10"
  }
 },
 "nbformat": 4,
 "nbformat_minor": 4
}
